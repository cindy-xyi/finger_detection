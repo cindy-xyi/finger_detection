{
 "cells": [
  {
   "cell_type": "code",
   "execution_count": 1,
   "metadata": {},
   "outputs": [],
   "source": [
    "%matplotlib inline\n",
    "import matplotlib.pyplot as plt\n",
    "import numpy as np\n",
    "from scipy.ndimage import gaussian_filter\n",
    "import cv2\n",
    "import util\n",
    "import palm_subtraction as PS"
   ]
  },
  {
   "cell_type": "code",
   "execution_count": 99,
   "metadata": {},
   "outputs": [],
   "source": [
    "file = \"data/acquisitions/S2/G1/2-color.png\"\n",
    "file = \"data/acquisitions/S1/G8/26-color.png\"\n",
    "label = '5'\n",
    "train_image = cv2.imread(file, cv2.IMREAD_COLOR)\n",
    "\n",
    "depth_img = util.read_depth_map(file[:-9] + 'depth.bin')\n",
    "\n",
    "# Clean depth image of noise\n",
    "bin_img = PS.clean_image(depth_img)"
   ]
  },
  {
   "cell_type": "code",
   "execution_count": 100,
   "metadata": {},
   "outputs": [
    {
     "data": {
      "text/plain": [
       "<matplotlib.image.AxesImage at 0x1c96d1ecb50>"
      ]
     },
     "execution_count": 100,
     "metadata": {},
     "output_type": "execute_result"
    },
    {
     "data": {
      "image/png": "[encoded data removed]",
      "text/plain": [
       "<Figure size 432x288 with 1 Axes>"
      ]
     },
     "metadata": {
      "needs_background": "light"
     },
     "output_type": "display_data"
    }
   ],
   "source": [
    "img = PS.palm_subtraction(bin_img)\n",
    "plt.imshow(img)"
   ]
  },
  {
   "cell_type": "code",
   "execution_count": null,
   "metadata": {},
   "outputs": [],
   "source": []
  },
  {
   "cell_type": "code",
   "execution_count": null,
   "metadata": {},
   "outputs": [],
   "source": []
  },
  {
   "cell_type": "code",
   "execution_count": null,
   "metadata": {},
   "outputs": [],
   "source": []
  },
  {
   "cell_type": "code",
   "execution_count": 101,
   "metadata": {},
   "outputs": [
    {
     "data": {
      "text/plain": [
       "<matplotlib.image.AxesImage at 0x1c96d239f70>"
      ]
     },
     "execution_count": 101,
     "metadata": {},
     "output_type": "execute_result"
    },
    {
     "data": {
      "image/png": "[encoded data removed]",
      "text/plain": [
       "<Figure size 432x288 with 1 Axes>"
      ]
     },
     "metadata": {
      "needs_background": "light"
     },
     "output_type": "display_data"
    }
   ],
   "source": [
    "# bin_img = cv2.imread('otherhand3.png', cv2.IMREAD_GRAYSCALE)\n",
    "plt.imshow(bin_img)"
   ]
  },
  {
   "cell_type": "code",
   "execution_count": 102,
   "metadata": {},
   "outputs": [],
   "source": [
    "# _, lab_im = cv2.connectedComponents(bin_img)\n",
    "# plt.imshow(lab_im)\n",
    "\n",
    "# # find areas and subtract it\n",
    "# max_area = -1\n",
    "# max_label = -1\n",
    "# for label in range(1, np.max(np.unique(lab_im))):\n",
    "# #     rows, cols = np.where(labeled_image == label)\n",
    "#     area = np.sum((lab_im == label).astype('uint8'))\n",
    "#     if area > max_area:\n",
    "#         max_area = area\n",
    "#         max_label = label\n",
    "# bin_img = (lab_im == max_label).astype('uint8') * 255\n",
    "# plt.imshow(bin_img)"
   ]
  },
  {
   "cell_type": "code",
   "execution_count": 103,
   "metadata": {},
   "outputs": [
    {
     "data": {
      "text/plain": [
       "<matplotlib.image.AxesImage at 0x1c96d290850>"
      ]
     },
     "execution_count": 103,
     "metadata": {},
     "output_type": "execute_result"
    },
    {
     "data": {
      "image/png": "[encoded data removed]",
      "text/plain": [
       "<Figure size 432x288 with 1 Axes>"
      ]
     },
     "metadata": {
      "needs_background": "light"
     },
     "output_type": "display_data"
    }
   ],
   "source": [
    "kernel = np.ones((15,20), dtype = 'uint8')\n",
    "# image_dilate = cv2.dilate(bin_img, kernel)  \n",
    "image_erode = cv2.erode(bin_img, kernel)  \n",
    "plt.imshow(image_erode)"
   ]
  },
  {
   "cell_type": "code",
   "execution_count": 104,
   "metadata": {},
   "outputs": [
    {
     "data": {
      "text/plain": [
       "<matplotlib.image.AxesImage at 0x1c96d2e66a0>"
      ]
     },
     "execution_count": 104,
     "metadata": {},
     "output_type": "execute_result"
    },
    {
     "data": {
      "image/png": "[encoded data removed]",
      "text/plain": [
       "<Figure size 432x288 with 1 Axes>"
      ]
     },
     "metadata": {
      "needs_background": "light"
     },
     "output_type": "display_data"
    }
   ],
   "source": [
    "kernel = np.ones((25,25), dtype = 'uint8')\n",
    "image_blur = gaussian_filter(image_erode, 3)\n",
    "kernel = np.zeros((40, 40, 3), dtype='uint8')\n",
    "kernel = cv2.circle(kernel, (20, 20), 20, (255, 255, 255), -1)\n",
    "image_dilate = cv2.dilate(image_erode, kernel[:,:,1])  \n",
    "# image_erode = cv2.erode(bin_img, kernel)  \n",
    "plt.imshow(image_dilate)"
   ]
  },
  {
   "cell_type": "code",
   "execution_count": 105,
   "metadata": {},
   "outputs": [],
   "source": [
    "import p1n2 as hw"
   ]
  },
  {
   "cell_type": "code",
   "execution_count": 106,
   "metadata": {},
   "outputs": [
    {
     "data": {
      "text/plain": [
       "[{'position': {'x': 151.80805468317016, 'y': 76.25734343247737},\n",
       "  'orientation': 1.4178024370162907,\n",
       "  'roundedness': 0.586885850571031}]"
      ]
     },
     "execution_count": 106,
     "metadata": {},
     "output_type": "execute_result"
    }
   ],
   "source": [
    "attribute_list"
   ]
  },
  {
   "cell_type": "code",
   "execution_count": 107,
   "metadata": {},
   "outputs": [
    {
     "data": {
      "text/plain": [
       "151.80805468317016"
      ]
     },
     "execution_count": 107,
     "metadata": {},
     "output_type": "execute_result"
    }
   ],
   "source": [
    "attribute_list[0]['position']['x']"
   ]
  },
  {
   "cell_type": "code",
   "execution_count": 121,
   "metadata": {},
   "outputs": [
    {
     "data": {
      "text/plain": [
       "(239,)"
      ]
     },
     "execution_count": 121,
     "metadata": {},
     "output_type": "execute_result"
    }
   ],
   "source": [
    "yi"
   ]
  },
  {
   "cell_type": "code",
   "execution_count": 136,
   "metadata": {
    "scrolled": true
   },
   "outputs": [
    {
     "name": "stdout",
     "output_type": "stream",
     "text": [
      "-148\n",
      "-148\n",
      "-149\n",
      "-150\n",
      "-151\n",
      "-151\n",
      "-152\n",
      "-153\n",
      "-154\n",
      "-154\n",
      "-155\n",
      "-156\n",
      "-157\n",
      "-157\n",
      "-158\n",
      "-159\n",
      "-160\n",
      "-160\n",
      "-161\n",
      "-162\n",
      "-163\n",
      "-163\n",
      "-164\n",
      "-165\n",
      "-166\n",
      "-166\n",
      "-167\n",
      "-168\n",
      "-169\n",
      "-169\n",
      "-170\n",
      "-171\n",
      "-172\n",
      "-172\n",
      "-173\n",
      "-174\n",
      "-175\n",
      "-175\n",
      "-176\n",
      "-177\n",
      "-177\n",
      "-178\n",
      "-179\n",
      "-180\n",
      "-180\n",
      "-181\n",
      "-182\n",
      "-183\n",
      "-183\n",
      "-184\n",
      "-185\n",
      "-186\n",
      "-186\n",
      "-187\n",
      "-188\n",
      "-189\n",
      "-189\n",
      "-190\n",
      "-191\n",
      "-192\n",
      "-192\n",
      "-193\n",
      "-194\n",
      "-195\n",
      "-195\n",
      "-196\n",
      "-197\n",
      "-198\n",
      "-198\n",
      "-199\n",
      "-200\n",
      "-201\n",
      "-201\n",
      "-202\n",
      "-203\n",
      "-204\n"
     ]
    },
    {
     "data": {
      "text/plain": [
       "<matplotlib.image.AxesImage at 0x1c96eb31be0>"
      ]
     },
     "execution_count": 136,
     "metadata": {},
     "output_type": "execute_result"
    },
    {
     "data": {
      "image/png": "[encoded data removed]",
      "text/plain": [
       "<Figure size 432x288 with 1 Axes>"
      ]
     },
     "metadata": {
      "needs_background": "light"
     },
     "output_type": "display_data"
    }
   ],
   "source": [
    "attribute_list = hw.get_attribute(image_dilate/255)\n",
    "h, w = image_dilate.shape\n",
    "radius = 30\n",
    "test_image = image_dilate.copy()\n",
    "y = np.arange(int(attribute_list[0]['position']['x']), h)\n",
    "b = attribute_list[0]['position']['y'] - np.tan(attribute_list[0]['orientation'])*attribute_list[0]['position']['x']\n",
    "m = np.tan(attribute_list[0]['orientation'])\n",
    "\n",
    "for (yi) in zip(y):\n",
    "    x_calc = int(attribute_list[0]['position']['y']) + int(np.round((yi - b)/ min(-m, m)))\n",
    "#     x_calc = int(np.round((yi - b)/ min(-m, m)))\n",
    "    print(x_calc + radius)\n",
    "    test_image[yi, 0 : x_calc + radius] = 255\n",
    "plt.imshow(test_image)"
   ]
  },
  {
   "cell_type": "code",
   "execution_count": 122,
   "metadata": {},
   "outputs": [
    {
     "data": {
      "text/plain": [
       "<matplotlib.image.AxesImage at 0x1c96e729fa0>"
      ]
     },
     "execution_count": 122,
     "metadata": {},
     "output_type": "execute_result"
    },
    {
     "data": {
      "image/png": "[encoded data removed]",
      "text/plain": [
       "<Figure size 432x288 with 1 Axes>"
      ]
     },
     "metadata": {
      "needs_background": "light"
     },
     "output_type": "display_data"
    }
   ],
   "source": [
    "attributed_image = hw.draw_attributes(image_dilate, attribute_list)\n",
    "plt.imshow(attributed_image)"
   ]
  },
  {
   "cell_type": "code",
   "execution_count": 95,
   "metadata": {},
   "outputs": [
    {
     "name": "stdout",
     "output_type": "stream",
     "text": [
      "[  0 255]\n"
     ]
    },
    {
     "data": {
      "image/png": "[encoded data removed]",
      "text/plain": [
       "<Figure size 432x288 with 2 Axes>"
      ]
     },
     "metadata": {
      "needs_background": "light"
     },
     "output_type": "display_data"
    }
   ],
   "source": [
    "# plt.imshow(bin_img - image_dilate)\n",
    "fingies = bin_img - image_dilate\n",
    "fingies[fingies != 255] = 0\n",
    "plt.imshow(fingies)\n",
    "plt.colorbar()\n",
    "print(np.unique(fingies))"
   ]
  },
  {
   "cell_type": "code",
   "execution_count": 96,
   "metadata": {},
   "outputs": [
    {
     "name": "stdout",
     "output_type": "stream",
     "text": [
      "number of fingers is  5\n"
     ]
    },
    {
     "data": {
      "image/png": "[encoded data removed]",
      "text/plain": [
       "<Figure size 432x288 with 1 Axes>"
      ]
     },
     "metadata": {
      "needs_background": "light"
     },
     "output_type": "display_data"
    }
   ],
   "source": [
    "_, lab_im = cv2.connectedComponents(fingies)     \n",
    "plt.imshow(lab_im)\n",
    "np.unique(lab_im)\n",
    "print('number of fingers is ',  np.max(lab_im))"
   ]
  },
  {
   "cell_type": "code",
   "execution_count": null,
   "metadata": {},
   "outputs": [],
   "source": []
  },
  {
   "cell_type": "code",
   "execution_count": null,
   "metadata": {},
   "outputs": [],
   "source": []
  },
  {
   "cell_type": "code",
   "execution_count": null,
   "metadata": {},
   "outputs": [],
   "source": []
  }
 ],
 "metadata": {
  "kernelspec": {
   "display_name": "Python 3",
   "language": "python",
   "name": "python3"
  },
  "language_info": {
   "codemirror_mode": {
    "name": "ipython",
    "version": 3
   },
   "file_extension": ".py",
   "mimetype": "text/x-python",
   "name": "python",
   "nbconvert_exporter": "python",
   "pygments_lexer": "ipython3",
   "version": "3.8.3"
  }
 },
 "nbformat": 4,
 "nbformat_minor": 2
}
