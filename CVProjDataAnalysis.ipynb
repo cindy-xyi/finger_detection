{
  "nbformat": 4,
  "nbformat_minor": 0,
  "metadata": {
    "colab": {
      "name": "CVProjDataAnalysis.ipynb",
      "provenance": [],
      "collapsed_sections": [
        "EIa6dH2lzkMs",
        "z4mlLWyez9sb"
      ],
      "authorship_tag": "ABX9TyOBbU3yqnwBVLLmtX51cpWF",
      "include_colab_link": true
    },
    "kernelspec": {
      "name": "python3",
      "display_name": "Python 3"
    }
  },
  "cells": [
    {
      "cell_type": "markdown",
      "metadata": {
        "id": "view-in-github",
        "colab_type": "text"
      },
      "source": [
        "<a href=\"https://colab.research.google.com/github/cindy-xyi/finger_detection/blob/master/CVProjDataAnalysis.ipynb\" target=\"_parent\"><img src=\"https://colab.research.google.com/assets/colab-badge.svg\" alt=\"Open In Colab\"/></a>"
      ]
    },
    {
      "cell_type": "code",
      "metadata": {
        "id": "WN9S7DZow538"
      },
      "source": [
        "import os\n",
        "import numpy as np\n",
        "import pickle\n",
        "import cv2\n",
        "import matplotlib.pyplot as plt\n",
        "import tqdm\n",
        "import time"
      ],
      "execution_count": null,
      "outputs": []
    },
    {
      "cell_type": "code",
      "metadata": {
        "id": "rurCcL5Qxqcu"
      },
      "source": [
        "with open('/content/Val_Model_Outputs_Final3.pickle', 'rb') as handle:\n",
        "    Val_Model_Outputs = pickle.load(handle)\n",
        "with open('/content/Test_Model_Outputs_Final3.pickle', 'rb') as handle:\n",
        "    Test_Model_Outputs = pickle.load(handle)"
      ],
      "execution_count": null,
      "outputs": []
    },
    {
      "cell_type": "markdown",
      "metadata": {
        "id": "EIa6dH2lzkMs"
      },
      "source": [
        "#Val Overall Accuracies "
      ]
    },
    {
      "cell_type": "code",
      "metadata": {
        "id": "blThsAaixusp"
      },
      "source": [
        "correctVal1 = 0\n",
        "totalVal1 = 0\n",
        "for i in range(len(Val_Model_Outputs['CV Method'])):\n",
        "  totalVal1 += 1\n",
        "  if Val_Model_Outputs['CV Method'][i] == Val_Model_Outputs['GT'][i]:\n",
        "    correctVal1 += 1"
      ],
      "execution_count": null,
      "outputs": []
    },
    {
      "cell_type": "code",
      "metadata": {
        "colab": {
          "base_uri": "https://localhost:8080/"
        },
        "id": "t54OQGc7yFdc",
        "outputId": "f5cb33d9-836a-4ae9-c4a5-f67649d4abb0"
      },
      "source": [
        "correctVal1/totalVal1"
      ],
      "execution_count": null,
      "outputs": [
        {
          "output_type": "execute_result",
          "data": {
            "text/plain": [
              "0.7122302158273381"
            ]
          },
          "metadata": {
            "tags": []
          },
          "execution_count": 36
        }
      ]
    },
    {
      "cell_type": "code",
      "metadata": {
        "id": "hKJH3niKo-JL"
      },
      "source": [
        "correctVal2 = 0\n",
        "totalVal2 = 0\n",
        "for i in range(len(Val_Model_Outputs['Resnet18'])):\n",
        "  totalVal2 += 1\n",
        "  if Val_Model_Outputs['Resnet18'][i] == Val_Model_Outputs['GT'][i]:\n",
        "    correctVal2 += 1"
      ],
      "execution_count": null,
      "outputs": []
    },
    {
      "cell_type": "code",
      "metadata": {
        "colab": {
          "base_uri": "https://localhost:8080/"
        },
        "id": "4TEPwvrSp6S0",
        "outputId": "0d036410-0b9a-4ebc-dae0-6cdcdd853ed3"
      },
      "source": [
        "correctVal2/totalVal2"
      ],
      "execution_count": null,
      "outputs": [
        {
          "output_type": "execute_result",
          "data": {
            "text/plain": [
              "0.9928057553956835"
            ]
          },
          "metadata": {
            "tags": []
          },
          "execution_count": 38
        }
      ]
    },
    {
      "cell_type": "code",
      "metadata": {
        "id": "WcV2c_7ryM4v"
      },
      "source": [
        "correctVal3 = 0\n",
        "totalVal3 = 0\n",
        "for i in range(len(Val_Model_Outputs['Resnet152'])):\n",
        "  totalVal3 += 1\n",
        "  if Val_Model_Outputs['Resnet152'][i] == Val_Model_Outputs['GT'][i]:\n",
        "    correctVal3 += 1"
      ],
      "execution_count": null,
      "outputs": []
    },
    {
      "cell_type": "code",
      "metadata": {
        "colab": {
          "base_uri": "https://localhost:8080/"
        },
        "id": "bAB0fIJdyOwW",
        "outputId": "8743dbff-2e53-4087-ba31-91c13b79644c"
      },
      "source": [
        "correctVal3/totalVal3"
      ],
      "execution_count": null,
      "outputs": [
        {
          "output_type": "execute_result",
          "data": {
            "text/plain": [
              "0.9784172661870504"
            ]
          },
          "metadata": {
            "tags": []
          },
          "execution_count": 46
        }
      ]
    },
    {
      "cell_type": "code",
      "metadata": {
        "id": "SL1gI4_ByP5W"
      },
      "source": [
        "correctVal4 = 0\n",
        "totalVal4 = 0\n",
        "for i in range(len(Val_Model_Outputs['Resnext50'])):\n",
        "  totalVal4 += 1\n",
        "  if Val_Model_Outputs['Resnext50'][i] == Val_Model_Outputs['GT'][i]:\n",
        "    correctVal4 += 1"
      ],
      "execution_count": null,
      "outputs": []
    },
    {
      "cell_type": "code",
      "metadata": {
        "colab": {
          "base_uri": "https://localhost:8080/"
        },
        "id": "9RwJb6zgyQLH",
        "outputId": "bc6d442e-15e9-4453-f235-ef93cc6c58ef"
      },
      "source": [
        "correctVal4/totalVal4"
      ],
      "execution_count": null,
      "outputs": [
        {
          "output_type": "execute_result",
          "data": {
            "text/plain": [
              "0.9928057553956835"
            ]
          },
          "metadata": {
            "tags": []
          },
          "execution_count": 44
        }
      ]
    },
    {
      "cell_type": "markdown",
      "metadata": {
        "id": "z4mlLWyez9sb"
      },
      "source": [
        "# Overall Test Accuracies"
      ]
    },
    {
      "cell_type": "code",
      "metadata": {
        "id": "ASD6Tz2ny9j9"
      },
      "source": [
        "correctTest1 = 0\n",
        "totalTest1 = 0\n",
        "for i in range(len(Test_Model_Outputs['CV Method'])):\n",
        "  totalTest1 += 1\n",
        "  if Test_Model_Outputs['CV Method'][i] == Test_Model_Outputs['GT'][i]:\n",
        "    correctTest1 += 1"
      ],
      "execution_count": null,
      "outputs": []
    },
    {
      "cell_type": "code",
      "metadata": {
        "colab": {
          "base_uri": "https://localhost:8080/"
        },
        "id": "BtvSMm44y-h9",
        "outputId": "2f4f2926-83c2-41c2-c536-fffa88499192"
      },
      "source": [
        "correctTest1/totalTest1"
      ],
      "execution_count": null,
      "outputs": [
        {
          "output_type": "execute_result",
          "data": {
            "text/plain": [
              "0.7935779816513762"
            ]
          },
          "metadata": {
            "tags": []
          },
          "execution_count": 57
        }
      ]
    },
    {
      "cell_type": "code",
      "metadata": {
        "id": "yPqjLmrZy_HW"
      },
      "source": [
        "correctTest2 = 0\n",
        "totalTest2 = 0\n",
        "for i in range(len(Test_Model_Outputs['Resnet18'])):\n",
        "  totalTest2 += 1\n",
        "  if Test_Model_Outputs['Resnet18'][i] == Test_Model_Outputs['GT'][i]:\n",
        "    correctTest2 += 1"
      ],
      "execution_count": null,
      "outputs": []
    },
    {
      "cell_type": "code",
      "metadata": {
        "colab": {
          "base_uri": "https://localhost:8080/"
        },
        "id": "A1SNbd3gzBsF",
        "outputId": "330725c6-cc4f-47b1-90c0-57de38836d16"
      },
      "source": [
        "correctTest2/totalTest2"
      ],
      "execution_count": null,
      "outputs": [
        {
          "output_type": "execute_result",
          "data": {
            "text/plain": [
              "0.9678899082568807"
            ]
          },
          "metadata": {
            "tags": []
          },
          "execution_count": 59
        }
      ]
    },
    {
      "cell_type": "code",
      "metadata": {
        "id": "VF2ilKRJzB2b"
      },
      "source": [
        "correctTest3 = 0\n",
        "totalTest3 = 0\n",
        "for i in range(len(Test_Model_Outputs['Resnet152'])):\n",
        "  totalTest3 += 1\n",
        "  if Test_Model_Outputs['Resnet152'][i] == Test_Model_Outputs['GT'][i]:\n",
        "    correctTest3 += 1"
      ],
      "execution_count": null,
      "outputs": []
    },
    {
      "cell_type": "code",
      "metadata": {
        "colab": {
          "base_uri": "https://localhost:8080/"
        },
        "id": "AIedkDd9zEAf",
        "outputId": "84b23277-c431-4a12-d2a5-f33751cd1505"
      },
      "source": [
        "correctTest3/totalTest3"
      ],
      "execution_count": null,
      "outputs": [
        {
          "output_type": "execute_result",
          "data": {
            "text/plain": [
              "0.9587155963302753"
            ]
          },
          "metadata": {
            "tags": []
          },
          "execution_count": 61
        }
      ]
    },
    {
      "cell_type": "code",
      "metadata": {
        "id": "KQHjnMY-zEJe"
      },
      "source": [
        "correctTest4 = 0\n",
        "totalTest4 = 0\n",
        "for i in range(len(Test_Model_Outputs['Resnext50'])):\n",
        "  totalTest4 += 1\n",
        "  if Test_Model_Outputs['Resnext50'][i] == Test_Model_Outputs['GT'][i]:\n",
        "    correctTest4 += 1"
      ],
      "execution_count": null,
      "outputs": []
    },
    {
      "cell_type": "code",
      "metadata": {
        "colab": {
          "base_uri": "https://localhost:8080/"
        },
        "id": "UNX--g8EzEjo",
        "outputId": "ce438196-0324-4c35-b683-c460c9fddfd6"
      },
      "source": [
        "correctTest4/totalTest4"
      ],
      "execution_count": null,
      "outputs": [
        {
          "output_type": "execute_result",
          "data": {
            "text/plain": [
              "0.9678899082568807"
            ]
          },
          "metadata": {
            "tags": []
          },
          "execution_count": 63
        }
      ]
    },
    {
      "cell_type": "markdown",
      "metadata": {
        "id": "SWc0m1650vXt"
      },
      "source": [
        "# Val Accuracies By Finger"
      ]
    },
    {
      "cell_type": "code",
      "metadata": {
        "id": "u-8mLk7X0y0Z"
      },
      "source": [
        "CVvalF0 = 0\n",
        "CVvalF0total = 0\n",
        "CVvalF1 = 0\n",
        "CVvalF1total = 0\n",
        "CVvalF2 = 0\n",
        "CVvalF2total = 0\n",
        "CVvalF3 = 0\n",
        "CVvalF3total = 0\n",
        "CVvalF4 = 0\n",
        "CVvalF4total = 0\n",
        "CVvalF5 = 0\n",
        "CVvalF5total = 0\n",
        "for i in range(len(Val_Model_Outputs['CV Method'])):\n",
        "  if Val_Model_Outputs['GT'][i] == 0:\n",
        "    CVvalF0total += 1\n",
        "    if Val_Model_Outputs['CV Method'][i] == Val_Model_Outputs['GT'][i]:\n",
        "      CVvalF0 += 1\n",
        "  elif Val_Model_Outputs['GT'][i] == 1:\n",
        "    CVvalF1total += 1\n",
        "    if Val_Model_Outputs['CV Method'][i] == Val_Model_Outputs['GT'][i]:\n",
        "      CVvalF1 += 1\n",
        "  elif Val_Model_Outputs['GT'][i] == 2:\n",
        "    CVvalF2total += 1\n",
        "    if Val_Model_Outputs['CV Method'][i] == Val_Model_Outputs['GT'][i]:\n",
        "      CVvalF2 += 1\n",
        "  elif Val_Model_Outputs['GT'][i] == 3:\n",
        "    CVvalF3total += 1\n",
        "    if Val_Model_Outputs['CV Method'][i] == Val_Model_Outputs['GT'][i]:\n",
        "      CVvalF3 += 1\n",
        "  elif Val_Model_Outputs['GT'][i] == 4:\n",
        "    CVvalF4total += 1\n",
        "    if Val_Model_Outputs['CV Method'][i] == Val_Model_Outputs['GT'][i]:\n",
        "      CVvalF4 += 1\n",
        "  elif Val_Model_Outputs['GT'][i] == 5:\n",
        "    CVvalF5total += 1\n",
        "    if Val_Model_Outputs['CV Method'][i] == Val_Model_Outputs['GT'][i]:\n",
        "      CVvalF5 += 1"
      ],
      "execution_count": 75,
      "outputs": []
    },
    {
      "cell_type": "code",
      "metadata": {
        "id": "m9ugH5GN56YN",
        "colab": {
          "base_uri": "https://localhost:8080/"
        },
        "outputId": "5f7e83ec-778a-46ac-b92c-12649962ec1a"
      },
      "source": [
        "print(CVvalF0/CVvalF0total)\n",
        "print(CVvalF1/CVvalF1total)\n",
        "print(CVvalF2/CVvalF2total)\n",
        "print(CVvalF3/CVvalF3total)\n",
        "print(CVvalF4/CVvalF4total)\n",
        "print(CVvalF5/CVvalF5total)"
      ],
      "execution_count": 76,
      "outputs": [
        {
          "output_type": "stream",
          "text": [
            "1.0\n",
            "0.918918918918919\n",
            "0.9166666666666666\n",
            "0.6842105263157895\n",
            "0.5\n",
            "0.3333333333333333\n"
          ],
          "name": "stdout"
        }
      ]
    },
    {
      "cell_type": "code",
      "metadata": {
        "id": "iG9tGfTt59Dn"
      },
      "source": [
        "R18valF0 = 0\n",
        "R18valF0total = 0\n",
        "R18valF1 = 0\n",
        "R18valF1total = 0\n",
        "R18valF2 = 0\n",
        "R18valF2total = 0\n",
        "R18valF3 = 0\n",
        "R18valF3total = 0\n",
        "R18valF4 = 0\n",
        "R18valF4total = 0\n",
        "R18valF5 = 0\n",
        "R18valF5total = 0\n",
        "for i in range(len(Val_Model_Outputs['Resnet18'])):\n",
        "  if Val_Model_Outputs['GT'][i] == 0:\n",
        "    R18valF0total += 1\n",
        "    if Val_Model_Outputs['Resnet18'][i] == Val_Model_Outputs['GT'][i]:\n",
        "      R18valF0 += 1\n",
        "  elif Val_Model_Outputs['GT'][i] == 1:\n",
        "    R18valF1total += 1\n",
        "    if Val_Model_Outputs['Resnet18'][i] == Val_Model_Outputs['GT'][i]:\n",
        "      R18valF1 += 1\n",
        "  elif Val_Model_Outputs['GT'][i] == 2:\n",
        "    R18valF2total += 1\n",
        "    if Val_Model_Outputs['Resnet18'][i] == Val_Model_Outputs['GT'][i]:\n",
        "      R18valF2 += 1\n",
        "  elif Val_Model_Outputs['GT'][i] == 3:\n",
        "    R18valF3total += 1\n",
        "    if Val_Model_Outputs['Resnet18'][i] == Val_Model_Outputs['GT'][i]:\n",
        "      R18valF3 += 1\n",
        "  elif Val_Model_Outputs['GT'][i] == 4:\n",
        "    R18valF4total += 1\n",
        "    if Val_Model_Outputs['Resnet18'][i] == Val_Model_Outputs['GT'][i]:\n",
        "      R18valF4 += 1\n",
        "  elif Val_Model_Outputs['GT'][i] == 5:\n",
        "    R18valF5total += 1\n",
        "    if Val_Model_Outputs['Resnet18'][i] == Val_Model_Outputs['GT'][i]:\n",
        "      R18valF5 += 1"
      ],
      "execution_count": 86,
      "outputs": []
    },
    {
      "cell_type": "code",
      "metadata": {
        "id": "Izr_p__G5_rN",
        "colab": {
          "base_uri": "https://localhost:8080/"
        },
        "outputId": "7b3235fb-7740-4a56-c28b-02153f494dd7"
      },
      "source": [
        "print(R18valF0/R18valF0total)\n",
        "print(R18valF1/R18valF1total)\n",
        "print(R18valF2/R18valF2total)\n",
        "print(R18valF3/R18valF3total)\n",
        "print(R18valF4/R18valF4total)\n",
        "print(R18valF5/R18valF5total)"
      ],
      "execution_count": 87,
      "outputs": [
        {
          "output_type": "stream",
          "text": [
            "1.0\n",
            "1.0\n",
            "1.0\n",
            "1.0\n",
            "1.0\n",
            "0.9696969696969697\n"
          ],
          "name": "stdout"
        }
      ]
    },
    {
      "cell_type": "code",
      "metadata": {
        "id": "jHYq_H1tEikx"
      },
      "source": [
        "R152valF0 = 0\n",
        "R152valF0total = 0\n",
        "R152valF1 = 0\n",
        "R152valF1total = 0\n",
        "R152valF2 = 0\n",
        "R152valF2total = 0\n",
        "R152valF3 = 0\n",
        "R152valF3total = 0\n",
        "R152valF4 = 0\n",
        "R152valF4total = 0\n",
        "R152valF5 = 0\n",
        "R152valF5total = 0\n",
        "for i in range(len(Val_Model_Outputs['Resnet152'])):\n",
        "  if Val_Model_Outputs['GT'][i] == 0:\n",
        "    R152valF0total += 1\n",
        "    if Val_Model_Outputs['Resnet152'][i] == Val_Model_Outputs['GT'][i]:\n",
        "      R152valF0 += 1\n",
        "  elif Val_Model_Outputs['GT'][i] == 1:\n",
        "    R152valF1total += 1\n",
        "    if Val_Model_Outputs['Resnet152'][i] == Val_Model_Outputs['GT'][i]:\n",
        "      R152valF1 += 1\n",
        "  elif Val_Model_Outputs['GT'][i] == 2:\n",
        "    R152valF2total += 1\n",
        "    if Val_Model_Outputs['Resnet152'][i] == Val_Model_Outputs['GT'][i]:\n",
        "      R152valF2 += 1\n",
        "  elif Val_Model_Outputs['GT'][i] == 3:\n",
        "    R152valF3total += 1\n",
        "    if Val_Model_Outputs['Resnet152'][i] == Val_Model_Outputs['GT'][i]:\n",
        "      R152valF3 += 1\n",
        "  elif Val_Model_Outputs['GT'][i] == 4:\n",
        "    R152valF4total += 1\n",
        "    if Val_Model_Outputs['Resnet152'][i] == Val_Model_Outputs['GT'][i]:\n",
        "      R152valF4 += 1\n",
        "  elif Val_Model_Outputs['GT'][i] == 5:\n",
        "    R152valF5total += 1\n",
        "    if Val_Model_Outputs['Resnet152'][i] == Val_Model_Outputs['GT'][i]:\n",
        "      R152valF5 += 1"
      ],
      "execution_count": 83,
      "outputs": []
    },
    {
      "cell_type": "code",
      "metadata": {
        "id": "KBzy4Ud7EmW3",
        "colab": {
          "base_uri": "https://localhost:8080/"
        },
        "outputId": "8182e5da-4d56-47a4-9219-3cbcf587ff8a"
      },
      "source": [
        "print(R152valF0/R152valF0total)\n",
        "print(R152valF1/R152valF1total)\n",
        "print(R152valF2/R152valF2total)\n",
        "print(R152valF3/R152valF3total)\n",
        "print(R152valF4/R152valF4total)\n",
        "print(R152valF5/R152valF5total)"
      ],
      "execution_count": 80,
      "outputs": [
        {
          "output_type": "stream",
          "text": [
            "1.0\n",
            "0.9459459459459459\n",
            "1.0\n",
            "1.0\n",
            "1.0\n",
            "0.9696969696969697\n"
          ],
          "name": "stdout"
        }
      ]
    },
    {
      "cell_type": "code",
      "metadata": {
        "id": "a9S4I323EpPu"
      },
      "source": [
        "R50valF0 = 0\n",
        "R50valF0total = 0\n",
        "R50valF1 = 0\n",
        "R50valF1total = 0\n",
        "R50valF2 = 0\n",
        "R50valF2total = 0\n",
        "R50valF3 = 0\n",
        "R50valF3total = 0\n",
        "R50valF4 = 0\n",
        "R50valF4total = 0\n",
        "R50valF5 = 0\n",
        "R50valF5total = 0\n",
        "for i in range(len(Val_Model_Outputs['Resnext50'])):\n",
        "  if Val_Model_Outputs['GT'][i] == 0:\n",
        "    R50valF0total += 1\n",
        "    if Val_Model_Outputs['Resnext50'][i] == Val_Model_Outputs['GT'][i]:\n",
        "      R50valF0 += 1\n",
        "  elif Val_Model_Outputs['GT'][i] == 1:\n",
        "    R50valF1total += 1\n",
        "    if Val_Model_Outputs['Resnext50'][i] == Val_Model_Outputs['GT'][i]:\n",
        "      R50valF1 += 1\n",
        "  elif Val_Model_Outputs['GT'][i] == 2:\n",
        "    R50valF2total += 1\n",
        "    if Val_Model_Outputs['Resnext50'][i] == Val_Model_Outputs['GT'][i]:\n",
        "      R50valF2 += 1\n",
        "  elif Val_Model_Outputs['GT'][i] == 3:\n",
        "    R50valF3total += 1\n",
        "    if Val_Model_Outputs['Resnext50'][i] == Val_Model_Outputs['GT'][i]:\n",
        "      R50valF3 += 1\n",
        "  elif Val_Model_Outputs['GT'][i] == 4:\n",
        "    R50valF4total += 1\n",
        "    if Val_Model_Outputs['Resnext50'][i] == Val_Model_Outputs['GT'][i]:\n",
        "      R50valF4 += 1\n",
        "  elif Val_Model_Outputs['GT'][i] == 5:\n",
        "    R50valF5total += 1\n",
        "    if Val_Model_Outputs['Resnext50'][i] == Val_Model_Outputs['GT'][i]:\n",
        "      R50valF5 += 1"
      ],
      "execution_count": 84,
      "outputs": []
    },
    {
      "cell_type": "code",
      "metadata": {
        "id": "8vbHsC1HEr70",
        "colab": {
          "base_uri": "https://localhost:8080/"
        },
        "outputId": "0067f153-f42e-439e-dfd4-91c2c5b4da6c"
      },
      "source": [
        "print(R50valF0/R50valF0total)\n",
        "print(R50valF1/R50valF1total)\n",
        "print(R50valF2/R50valF2total)\n",
        "print(R50valF3/R50valF3total)\n",
        "print(R50valF4/R50valF4total)\n",
        "print(R50valF5/R50valF5total)"
      ],
      "execution_count": 85,
      "outputs": [
        {
          "output_type": "stream",
          "text": [
            "1.0\n",
            "1.0\n",
            "1.0\n",
            "1.0\n",
            "1.0\n",
            "0.9696969696969697\n"
          ],
          "name": "stdout"
        }
      ]
    },
    {
      "cell_type": "markdown",
      "metadata": {
        "id": "psHb2w8f0zOF"
      },
      "source": [
        "# Test Accuracies By Finger"
      ]
    },
    {
      "cell_type": "code",
      "metadata": {
        "id": "CCWlzNc401uB"
      },
      "source": [
        "CVtestF0 = 0\n",
        "CVtestF0total = 0\n",
        "CVtestF1 = 0\n",
        "CVtestF1total = 0\n",
        "CVtestF2 = 0\n",
        "CVtestF2total = 0\n",
        "CVtestF3 = 0\n",
        "CVtestF3total = 0\n",
        "CVtestF4 = 0\n",
        "CVtestF4total = 0\n",
        "CVtestF5 = 0\n",
        "CVtestF5total = 0\n",
        "for i in range(len(Test_Model_Outputs['CV Method'])):\n",
        "  if Test_Model_Outputs['GT'][i] == 0:\n",
        "    CVtestF0total += 1\n",
        "    if Test_Model_Outputs['CV Method'][i] == Test_Model_Outputs['GT'][i]:\n",
        "      CVtestF0 += 1\n",
        "  elif Test_Model_Outputs['GT'][i] == 1:\n",
        "    testF1total += 1\n",
        "    if Test_Model_Outputs['CV Method'][i] == Test_Model_Outputs['GT'][i]:\n",
        "      CVtestF1 += 1\n",
        "  elif Test_Model_Outputs['GT'][i] == 2:\n",
        "    testF2total += 1\n",
        "    if Test_Model_Outputs['CV Method'][i] == Test_Model_Outputs['GT'][i]:\n",
        "      CVtestF2 += 1\n",
        "  elif Test_Model_Outputs['GT'][i] == 3:\n",
        "    CVtestF3total += 1\n",
        "    if Test_Model_Outputs['CV Method'][i] == Test_Model_Outputs['GT'][i]:\n",
        "      CVtestF3 += 1\n",
        "  elif Test_Model_Outputs['GT'][i] == 4:\n",
        "    CVtestF4total += 1\n",
        "    if Test_Model_Outputs['CV Method'][i] == Test_Model_Outputs['GT'][i]:\n",
        "      CVtestF4 += 1\n",
        "  elif Test_Model_Outputs['GT'][i] == 5:\n",
        "    CVtestF5total += 1\n",
        "    if Test_Model_Outputs['CV Method'][i] == Test_Model_Outputs['GT'][i]:\n",
        "      CVtestF5 += 1"
      ],
      "execution_count": null,
      "outputs": []
    },
    {
      "cell_type": "code",
      "metadata": {
        "colab": {
          "base_uri": "https://localhost:8080/"
        },
        "id": "jS7R79742S_Z",
        "outputId": "dbda12aa-fef1-4ece-cf28-1e1823f5b9c8"
      },
      "source": [
        "print(CVtestF0/CVtestF0total)\n",
        "print(CVtestF1/CVtestF1total)\n",
        "print(CVtestF2/CVtestF2total)\n",
        "print(CVtestF3/CVtestF3total)\n",
        "print(CVtestF4/CVtestF4total)\n",
        "print(CVtestF5/CVtestF5total)"
      ],
      "execution_count": null,
      "outputs": [
        {
          "output_type": "stream",
          "text": [
            "1.0\n",
            "0.8253968253968254\n",
            "0.9534883720930233\n",
            "0.8285714285714286\n",
            "0.4\n",
            "0.5952380952380952\n"
          ],
          "name": "stdout"
        }
      ]
    },
    {
      "cell_type": "code",
      "metadata": {
        "id": "hJtRh0r53Lc5"
      },
      "source": [
        "R18testF0 = 0\n",
        "R18testF0total = 0\n",
        "R18testF1 = 0\n",
        "R18testF1total = 0\n",
        "R18testF2 = 0\n",
        "R18testF2total = 0\n",
        "R18testF3 = 0\n",
        "R18testF3total = 0\n",
        "R18testF4 = 0\n",
        "R18testF4total = 0\n",
        "R18testF5 = 0\n",
        "R18testF5total = 0\n",
        "for i in range(len(Test_Model_Outputs['Resnet18'])):\n",
        "  if Test_Model_Outputs['GT'][i] == 0:\n",
        "    R18testF0total += 1\n",
        "    if Test_Model_Outputs['Resnet18'][i] == Test_Model_Outputs['GT'][i]:\n",
        "      R18testF0 += 1\n",
        "  elif Test_Model_Outputs['GT'][i] == 1:\n",
        "    R18testF1total += 1\n",
        "    if Test_Model_Outputs['Resnet18'][i] == Test_Model_Outputs['GT'][i]:\n",
        "      R18testF1 += 1\n",
        "  elif Test_Model_Outputs['GT'][i] == 2:\n",
        "    R18testF2total += 1\n",
        "    if Test_Model_Outputs['Resnet18'][i] == Test_Model_Outputs['GT'][i]:\n",
        "      R18testF2 += 1\n",
        "  elif Test_Model_Outputs['GT'][i] == 3:\n",
        "    R18testF3total += 1\n",
        "    if Test_Model_Outputs['Resnet18'][i] == Test_Model_Outputs['GT'][i]:\n",
        "      R18testF3 += 1\n",
        "  elif Test_Model_Outputs['GT'][i] == 4:\n",
        "    R18testF4total += 1\n",
        "    if Test_Model_Outputs['Resnet18'][i] == Test_Model_Outputs['GT'][i]:\n",
        "      R18testF4 += 1\n",
        "  elif Test_Model_Outputs['GT'][i] == 5:\n",
        "    R18testF5total += 1\n",
        "    if Test_Model_Outputs['Resnet18'][i] == Test_Model_Outputs['GT'][i]:\n",
        "      R18testF5 += 1"
      ],
      "execution_count": null,
      "outputs": []
    },
    {
      "cell_type": "code",
      "metadata": {
        "colab": {
          "base_uri": "https://localhost:8080/"
        },
        "id": "EmqGVRVg3MJD",
        "outputId": "50a9823a-d23d-4cb1-9f3a-9eb9abee9d21"
      },
      "source": [
        "print(R18testF0/R18testF0total)\n",
        "print(R18testF1/R18testF1total)\n",
        "print(R18testF2/R18testF2total)\n",
        "print(R18testF3/R18testF3total)\n",
        "print(R18testF4/R18testF4total)\n",
        "print(R18testF5/R18testF5total)"
      ],
      "execution_count": null,
      "outputs": [
        {
          "output_type": "stream",
          "text": [
            "0.95\n",
            "1.0\n",
            "0.9069767441860465\n",
            "0.9714285714285714\n",
            "1.0\n",
            "0.9761904761904762\n"
          ],
          "name": "stdout"
        }
      ]
    },
    {
      "cell_type": "code",
      "metadata": {
        "id": "44kmfTIK3MZr"
      },
      "source": [
        "R152testF0 = 0\n",
        "R152testF0total = 0\n",
        "R152testF1 = 0\n",
        "R152testF1total = 0\n",
        "R152testF2 = 0\n",
        "R152testF2total = 0\n",
        "R152testF3 = 0\n",
        "R152testF3total = 0\n",
        "R152testF4 = 0\n",
        "R152testF4total = 0\n",
        "R152testF5 = 0\n",
        "R152testF5total = 0\n",
        "for i in range(len(Test_Model_Outputs['Resnet152'])):\n",
        "  if Test_Model_Outputs['GT'][i] == 0:\n",
        "    R152testF0total += 1\n",
        "    if Test_Model_Outputs['Resnet152'][i] == Test_Model_Outputs['GT'][i]:\n",
        "      R152testF0 += 1\n",
        "  elif Test_Model_Outputs['GT'][i] == 1:\n",
        "    R152testF1total += 1\n",
        "    if Test_Model_Outputs['Resnet152'][i] == Test_Model_Outputs['GT'][i]:\n",
        "      R152testF1 += 1\n",
        "  elif Test_Model_Outputs['GT'][i] == 2:\n",
        "    R152testF2total += 1\n",
        "    if Test_Model_Outputs['Resnet152'][i] == Test_Model_Outputs['GT'][i]:\n",
        "      R152testF2 += 1\n",
        "  elif Test_Model_Outputs['GT'][i] == 3:\n",
        "    R152testF3total += 1\n",
        "    if Test_Model_Outputs['Resnet152'][i] == Test_Model_Outputs['GT'][i]:\n",
        "      R152testF3 += 1\n",
        "  elif Test_Model_Outputs['GT'][i] == 4:\n",
        "    R152testF4total += 1\n",
        "    if Test_Model_Outputs['Resnet152'][i] == Test_Model_Outputs['GT'][i]:\n",
        "      R152testF4 += 1\n",
        "  elif Test_Model_Outputs['GT'][i] == 5:\n",
        "    R152testF5total += 1\n",
        "    if Test_Model_Outputs['Resnet152'][i] == Test_Model_Outputs['GT'][i]:\n",
        "      R152testF5 += 1"
      ],
      "execution_count": null,
      "outputs": []
    },
    {
      "cell_type": "code",
      "metadata": {
        "colab": {
          "base_uri": "https://localhost:8080/"
        },
        "id": "46B1TEn13M08",
        "outputId": "a2c1907e-6b17-4bf6-b36c-230e92f8e85f"
      },
      "source": [
        "print(R152testF0/R152testF0total)\n",
        "print(R152testF1/R152testF1total)\n",
        "print(R152testF2/R152testF2total)\n",
        "print(R152testF3/R152testF3total)\n",
        "print(R152testF4/R152testF4total)\n",
        "print(R152testF5/R152testF5total)"
      ],
      "execution_count": null,
      "outputs": [
        {
          "output_type": "stream",
          "text": [
            "1.0\n",
            "0.9682539682539683\n",
            "0.8837209302325582\n",
            "0.9714285714285714\n",
            "1.0\n",
            "0.9761904761904762\n"
          ],
          "name": "stdout"
        }
      ]
    },
    {
      "cell_type": "code",
      "metadata": {
        "id": "50vF0tsS3NUo"
      },
      "source": [
        "R50testF0 = 0\n",
        "R50testF0total = 0\n",
        "R50testF1 = 0\n",
        "R50testF1total = 0\n",
        "R50testF2 = 0\n",
        "R50testF2total = 0\n",
        "R50testF3 = 0\n",
        "R50testF3total = 0\n",
        "R50testF4 = 0\n",
        "R50testF4total = 0\n",
        "R50testF5 = 0\n",
        "R50testF5total = 0\n",
        "for i in range(len(Test_Model_Outputs['Resnext50'])):\n",
        "  if Test_Model_Outputs['GT'][i] == 0:\n",
        "    R50testF0total += 1\n",
        "    if Test_Model_Outputs['Resnext50'][i] == Test_Model_Outputs['GT'][i]:\n",
        "      R50testF0 += 1\n",
        "  elif Test_Model_Outputs['GT'][i] == 1:\n",
        "    R50testF1total += 1\n",
        "    if Test_Model_Outputs['Resnext50'][i] == Test_Model_Outputs['GT'][i]:\n",
        "      R50testF1 += 1\n",
        "  elif Test_Model_Outputs['GT'][i] == 2:\n",
        "    R50testF2total += 1\n",
        "    if Test_Model_Outputs['Resnext50'][i] == Test_Model_Outputs['GT'][i]:\n",
        "      R50testF2 += 1\n",
        "  elif Test_Model_Outputs['GT'][i] == 3:\n",
        "    R50testF3total += 1\n",
        "    if Test_Model_Outputs['Resnext50'][i] == Test_Model_Outputs['GT'][i]:\n",
        "      R50testF3 += 1\n",
        "  elif Test_Model_Outputs['GT'][i] == 4:\n",
        "    R50testF4total += 1\n",
        "    if Test_Model_Outputs['Resnext50'][i] == Test_Model_Outputs['GT'][i]:\n",
        "      R50testF4 += 1\n",
        "  elif Test_Model_Outputs['GT'][i] == 5:\n",
        "    R50testF5total += 1\n",
        "    if Test_Model_Outputs['Resnext50'][i] == Test_Model_Outputs['GT'][i]:\n",
        "      R50testF5 += 1"
      ],
      "execution_count": null,
      "outputs": []
    },
    {
      "cell_type": "code",
      "metadata": {
        "colab": {
          "base_uri": "https://localhost:8080/"
        },
        "id": "M1WjYM9d3Nqq",
        "outputId": "c55dec4a-d11e-4ef2-d0f9-98bcab56c65c"
      },
      "source": [
        "print(R50testF0/R50testF0total)\n",
        "print(R50testF1/R50testF1total)\n",
        "print(R50testF2/R50testF2total)\n",
        "print(R50testF3/R50testF3total)\n",
        "print(R50testF4/R50testF4total)\n",
        "print(R50testF5/R50testF5total)"
      ],
      "execution_count": null,
      "outputs": [
        {
          "output_type": "stream",
          "text": [
            "1.0\n",
            "0.9841269841269841\n",
            "0.9069767441860465\n",
            "0.9714285714285714\n",
            "1.0\n",
            "0.9761904761904762\n"
          ],
          "name": "stdout"
        }
      ]
    }
  ]
}