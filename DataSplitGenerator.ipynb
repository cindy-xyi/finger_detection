{
 "cells": [
  {
   "cell_type": "code",
   "execution_count": 5,
   "metadata": {},
   "outputs": [],
   "source": [
    "import glob\n",
    "import os\n",
    "import numpy as np\n",
    "import random"
   ]
  },
  {
   "cell_type": "code",
   "execution_count": 6,
   "metadata": {},
   "outputs": [],
   "source": [
    "# If regenerating, let group know and replace this data_dir to make the rest of the notebook run\n",
    "data_dir = r\"C:\\Users\\Karen 2\\OneDrive\\Documents\\JHU\\2020 Fall\\Computer_Vision-jpsoong\\Final_Project\\data\\acquisitions\""
   ]
  },
  {
   "cell_type": "code",
   "execution_count": 7,
   "metadata": {},
   "outputs": [],
   "source": [
    "train = {}\n",
    "val = {}\n",
    "test = {}\n",
    "\n",
    "num_files = 0;\n",
    "for root, dirs, files in os.walk(data_dir, topdown=False):\n",
    "   for name in files:\n",
    "    num_files += 1"
   ]
  },
  {
   "cell_type": "code",
   "execution_count": 8,
   "metadata": {
    "scrolled": true
   },
   "outputs": [
    {
     "name": "stdout",
     "output_type": "stream",
     "text": [
      "skipped\n",
      "skipped\n",
      "skipped\n",
      "skipped\n"
     ]
    }
   ],
   "source": [
    "random.seed(a=1312, version=2)\n",
    "trainSplit, valSplit, testSplit = 0.75,.85, 1.0\n",
    "\n",
    "train = {}\n",
    "val = {}\n",
    "test = {}\n",
    "debug = []\n",
    "base_directory = \".\\\\data\\\\acquisitions\\\\\"\n",
    "for root, dirs, files in os.walk(data_dir, topdown=False):\n",
    "    for dirName in dirs:\n",
    "        fileNumber = np.arange(1, 31)\n",
    "        np.random.shuffle(fileNumber)\n",
    "        if os.path.basename(root) == 'acquisitions':\n",
    "            # should print 4 times\n",
    "            print(\"skipped\")\n",
    "            continue\n",
    "        for i in range(30):\n",
    "#             print(base_directory, dirName, str(fileNum[0]) + \"-color.png\")\n",
    "            file_path = os.path.join(base_directory, os.path.basename(root), dirName, str(fileNumber[i]) + \"-color.png\")        \n",
    "            debug.append(file_path)\n",
    "            \n",
    "            pick = random.random()\n",
    "            if pick <= trainSplit:\n",
    "                train[file_path] = dirName[1:]\n",
    "            elif trainSplit < pick <= valSplit:\n",
    "                val[file_path] = dirName[1:]\n",
    "            elif valSplit < pick <= testSplit:\n",
    "                test[file_path] = dirName[1:]\n",
    "            else:\n",
    "                # Should never print\n",
    "                print(\"missed a file\")\n",
    "                    "
   ]
  },
  {
   "cell_type": "code",
   "execution_count": 9,
   "metadata": {},
   "outputs": [
    {
     "name": "stdout",
     "output_type": "stream",
     "text": [
      "1320 963 139 218\n"
     ]
    }
   ],
   "source": [
    "print(len(debug), len(train), len(val), len(test))"
   ]
  },
  {
   "cell_type": "code",
   "execution_count": 12,
   "metadata": {},
   "outputs": [
    {
     "data": {
      "text/plain": [
       "0.7295454545454545"
      ]
     },
     "execution_count": 12,
     "metadata": {},
     "output_type": "execute_result"
    }
   ],
   "source": [
    "963/1320"
   ]
  },
  {
   "cell_type": "code",
   "execution_count": 13,
   "metadata": {},
   "outputs": [
    {
     "data": {
      "text/plain": [
       "0.1053030303030303"
      ]
     },
     "execution_count": 13,
     "metadata": {},
     "output_type": "execute_result"
    }
   ],
   "source": [
    "139/1320"
   ]
  },
  {
   "cell_type": "code",
   "execution_count": 14,
   "metadata": {},
   "outputs": [
    {
     "data": {
      "text/plain": [
       "0.16515151515151516"
      ]
     },
     "execution_count": 14,
     "metadata": {},
     "output_type": "execute_result"
    }
   ],
   "source": [
    "218/1320"
   ]
  },
  {
   "cell_type": "code",
   "execution_count": 10,
   "metadata": {},
   "outputs": [],
   "source": [
    "DataSplit = {'train': train, 'val': val, 'test': test}"
   ]
  },
  {
   "cell_type": "code",
   "execution_count": 11,
   "metadata": {},
   "outputs": [
    {
     "name": "stdout",
     "output_type": "stream",
     "text": [
      "True\n"
     ]
    }
   ],
   "source": [
    "import pickle\n",
    "with open('DataSplit.pickle', 'wb') as handle:\n",
    "    pickle.dump(DataSplit, handle, protocol=pickle.HIGHEST_PROTOCOL)\n",
    "\n",
    "with open('DataSplit.pickle', 'rb') as handle:\n",
    "    b = pickle.load(handle)\n",
    "\n",
    "print(DataSplit == b)\n"
   ]
  }
 ],
 "metadata": {
  "kernelspec": {
   "display_name": "Python 3",
   "language": "python",
   "name": "python3"
  },
  "language_info": {
   "codemirror_mode": {
    "name": "ipython",
    "version": 3
   },
   "file_extension": ".py",
   "mimetype": "text/x-python",
   "name": "python",
   "nbconvert_exporter": "python",
   "pygments_lexer": "ipython3",
   "version": "3.8.3"
  }
 },
 "nbformat": 4,
 "nbformat_minor": 4
}
