{
 "cells": [
  {
   "cell_type": "code",
   "execution_count": 1,
   "metadata": {},
   "outputs": [],
   "source": [
    "%matplotlib inline\n",
    "import matplotlib.pyplot as plt\n",
    "import numpy as np\n",
    "from scipy.ndimage import gaussian_filter\n",
    "import cv2\n",
    "import util\n",
    "import palm_subtraction as PS"
   ]
  },
  {
   "cell_type": "code",
   "execution_count": 2,
   "metadata": {},
   "outputs": [
    {
     "data": {
      "text/plain": [
       "<matplotlib.image.AxesImage at 0x2c1fa4df8b0>"
      ]
     },
     "execution_count": 2,
     "metadata": {},
     "output_type": "execute_result"
    },
    {
     "data": {
      "image/png": "[encoded data removed]",
      "text/plain": [
       "<Figure size 432x288 with 1 Axes>"
      ]
     },
     "metadata": {
      "needs_background": "light"
     },
     "output_type": "display_data"
    }
   ],
   "source": [
    "# file = \"data/acquisitions/S2/G1/2-color.png\"\n",
    "# file = \"data/acquisitions/S1/G8/26-color.png\"\n",
    "# file = 'data/acquisitions/S4/G5/22-color.png'\n",
    "# file = r'.\\data\\acquisitions\\S1\\G1\\23-color.png'\n",
    "file = r'.\\data\\acquisitions\\S1\\G1\\24-color.png'\n",
    "label = '5'\n",
    "train_image = cv2.imread(file, cv2.IMREAD_COLOR)\n",
    "\n",
    "depth_img = util.read_depth_map(file[:-9] + 'depth.bin')\n",
    "\n",
    "# Clean depth image of noise\n",
    "bin_img = PS.clean_image(depth_img)\n",
    "plt.imshow(bin_img)"
   ]
  },
  {
   "cell_type": "code",
   "execution_count": 3,
   "metadata": {},
   "outputs": [
    {
     "name": "stdout",
     "output_type": "stream",
     "text": [
      "subtracted wrist\n"
     ]
    },
    {
     "data": {
      "text/plain": [
       "<matplotlib.image.AxesImage at 0x2c1fb55dee0>"
      ]
     },
     "execution_count": 3,
     "metadata": {},
     "output_type": "execute_result"
    },
    {
     "data": {
      "image/png": "[encoded data removed]",
      "text/plain": [
       "<Figure size 432x288 with 1 Axes>"
      ]
     },
     "metadata": {
      "needs_background": "light"
     },
     "output_type": "display_data"
    }
   ],
   "source": [
    "img = PS.palm_subtraction(bin_img)\n",
    "plt.imshow(img)"
   ]
  },
  {
   "cell_type": "code",
   "execution_count": null,
   "metadata": {},
   "outputs": [],
   "source": [
    "# _, lab_im = cv2.connectedComponents(bin_img)\n",
    "# plt.imshow(lab_im)\n",
    "\n",
    "# # find areas and subtract it\n",
    "# max_area = -1\n",
    "# max_label = -1\n",
    "# for label in range(1, np.max(np.unique(lab_im))):\n",
    "# #     rows, cols = np.where(labeled_image == label)\n",
    "#     area = np.sum((lab_im == label).astype('uint8'))\n",
    "#     if area > max_area:\n",
    "#         max_area = area\n",
    "#         max_label = label\n",
    "# bin_img = (lab_im == max_label).astype('uint8') * 255\n",
    "# plt.imshow(bin_img)"
   ]
  },
  {
   "cell_type": "code",
   "execution_count": 4,
   "metadata": {},
   "outputs": [
    {
     "data": {
      "text/plain": [
       "<matplotlib.image.AxesImage at 0x2c1fb5b8b80>"
      ]
     },
     "execution_count": 4,
     "metadata": {},
     "output_type": "execute_result"
    },
    {
     "data": {
      "image/png": "[encoded data removed]",
      "text/plain": [
       "<Figure size 432x288 with 1 Axes>"
      ]
     },
     "metadata": {
      "needs_background": "light"
     },
     "output_type": "display_data"
    }
   ],
   "source": [
    "kernel = np.ones((15,20), dtype = 'uint8')\n",
    "# image_dilate = cv2.dilate(bin_img, kernel)  \n",
    "image_erode = cv2.erode(bin_img, kernel)  \n",
    "plt.imshow(image_erode)"
   ]
  },
  {
   "cell_type": "code",
   "execution_count": 5,
   "metadata": {},
   "outputs": [
    {
     "data": {
      "text/plain": [
       "<matplotlib.image.AxesImage at 0x2c1fb60fb20>"
      ]
     },
     "execution_count": 5,
     "metadata": {},
     "output_type": "execute_result"
    },
    {
     "data": {
      "image/png": "[encoded data removed]",
      "text/plain": [
       "<Figure size 432x288 with 1 Axes>"
      ]
     },
     "metadata": {
      "needs_background": "light"
     },
     "output_type": "display_data"
    }
   ],
   "source": [
    "kernel = np.ones((25,25), dtype = 'uint8')\n",
    "image_blur = gaussian_filter(image_erode, 3)\n",
    "kernel = np.zeros((40, 40, 3), dtype='uint8')\n",
    "kernel = cv2.circle(kernel, (20, 20), 20, (255, 255, 255), -1)\n",
    "image_dilate = cv2.dilate(image_erode, kernel[:,:,1])  \n",
    "# image_erode = cv2.erode(bin_img, kernel)  \n",
    "plt.imshow(image_dilate)"
   ]
  },
  {
   "cell_type": "markdown",
   "metadata": {},
   "source": [
    "# polylines attempt"
   ]
  },
  {
   "cell_type": "code",
   "execution_count": 12,
   "metadata": {},
   "outputs": [],
   "source": [
    "import p1n2 as hw\n",
    "\n",
    "def convert2imgcoords(x, y, slope, num_row, scale=9999):\n",
    "#     return(x, num_row - y), (x - scale, int(-scale * (-slope) + num_row - y))\n",
    "    return(x, num_row - y),(x + scale, int(scale * (-slope) + num_row - y))\n",
    "        \n",
    "\n",
    "def wrist_subtraction(palm_img, radius=30, display=False):\n",
    "    img = palm_img.copy()\n",
    "    attribute_list = hw.get_attribute(img/255)\n",
    "    h, w = img.shape\n",
    "    p1, p2 = convert2imgcoords(int((attribute_list[0][\"position\"][\"x\"])),\n",
    "                           int((attribute_list[0][\"position\"][\"y\"])),\n",
    "                           np.tan(attribute_list[0][\"orientation\"]), h)\n",
    "    p1 = (p1[0] + radius, p1[1])\n",
    "    p3 = (0, p1[1])\n",
    "    print(p1, p2, p3)\n",
    "    corners = np.array([np.array(p1), np.array(p2), np.array(p3)])\n",
    "\n",
    "    return_img = cv2.fillPoly(img,[np.int32(corners)], 255)\n",
    "    if display is True:        \n",
    "        display_image = cv2.circle(return_img, p1, 2, 155, 2)\n",
    "        plt.imshow(display_image)\n",
    "    \n",
    "    return return_img"
   ]
  },
  {
   "cell_type": "code",
   "execution_count": 13,
   "metadata": {},
   "outputs": [
    {
     "data": {
      "text/plain": [
       "<matplotlib.image.AxesImage at 0x2c1fb845be0>"
      ]
     },
     "execution_count": 13,
     "metadata": {},
     "output_type": "execute_result"
    },
    {
     "data": {
      "image/png": "[encoded data removed]",
      "text/plain": [
       "<Figure size 432x288 with 1 Axes>"
      ]
     },
     "metadata": {
      "needs_background": "light"
     },
     "output_type": "display_data"
    }
   ],
   "source": [
    "plt.imshow(image_dilate)"
   ]
  },
  {
   "cell_type": "code",
   "execution_count": 14,
   "metadata": {},
   "outputs": [
    {
     "name": "stdout",
     "output_type": "stream",
     "text": [
      "(168, 161) (10137, 86536) (0, 161)\n"
     ]
    },
    {
     "data": {
      "image/png": "[encoded data removed]",
      "text/plain": [
       "<Figure size 432x288 with 1 Axes>"
      ]
     },
     "metadata": {
      "needs_background": "light"
     },
     "output_type": "display_data"
    },
    {
     "name": "stdout",
     "output_type": "stream",
     "text": [
      "(168, 161) (10137, 86536) (0, 161)\n"
     ]
    },
    {
     "data": {
      "text/plain": [
       "<matplotlib.image.AxesImage at 0x2c1fb8e3a90>"
      ]
     },
     "execution_count": 14,
     "metadata": {},
     "output_type": "execute_result"
    },
    {
     "data": {
      "image/png": "[encoded data removed]",
      "text/plain": [
       "<Figure size 432x288 with 1 Axes>"
      ]
     },
     "metadata": {
      "needs_background": "light"
     },
     "output_type": "display_data"
    }
   ],
   "source": [
    "wrist_subtraction(image_dilate, display=True)\n",
    "plt.show()\n",
    "plt.imshow(wrist_subtraction(image_dilate, display=False))"
   ]
  },
  {
   "cell_type": "code",
   "execution_count": null,
   "metadata": {},
   "outputs": [],
   "source": []
  },
  {
   "cell_type": "code",
   "execution_count": null,
   "metadata": {},
   "outputs": [],
   "source": [
    "p1, p2 = convert2imgcoords(int((attribute_list[0][\"position\"][\"x\"])),\n",
    "                           int((attribute_list[0][\"position\"][\"y\"])),\n",
    "                           np.tan(attribute_list[0][\"orientation\"]), h)\n",
    "radius = 30\n",
    "p1 = (p1[0]+radius, p1[1])\n",
    "p3 = (0, p1[1])\n",
    "p4 = (0, p2[1])\n",
    "\n",
    "corners = np.array([np.array(p1), np.array(p2), np.array(p3)])\n",
    "\n",
    "test_image = image_dilate.copy()\n",
    "img3 = cv2.fillPoly(test_image,[np.int32(corners)], 255)\n",
    "img3 = cv2.circle(img3, p1, 2, 155, 2)\n",
    "plt.imshow(img3)"
   ]
  },
  {
   "cell_type": "code",
   "execution_count": null,
   "metadata": {},
   "outputs": [],
   "source": []
  },
  {
   "cell_type": "code",
   "execution_count": null,
   "metadata": {},
   "outputs": [],
   "source": []
  },
  {
   "cell_type": "code",
   "execution_count": null,
   "metadata": {},
   "outputs": [],
   "source": [
    "attributed_image = hw.draw_attributes(image_dilate, attribute_list)\n",
    "plt.imshow(attributed_image)"
   ]
  },
  {
   "cell_type": "code",
   "execution_count": null,
   "metadata": {},
   "outputs": [],
   "source": [
    "# plt.imshow(bin_img - image_dilate)\n",
    "fingies = bin_img - image_dilate\n",
    "fingies[fingies != 255] = 0\n",
    "plt.imshow(fingies)\n",
    "plt.colorbar()\n",
    "print(np.unique(fingies))"
   ]
  },
  {
   "cell_type": "code",
   "execution_count": null,
   "metadata": {},
   "outputs": [],
   "source": [
    "_, lab_im = cv2.connectedComponents(fingies)     \n",
    "plt.imshow(lab_im)\n",
    "np.unique(lab_im)\n",
    "print('number of fingers is ',  np.max(lab_im))"
   ]
  },
  {
   "cell_type": "code",
   "execution_count": null,
   "metadata": {},
   "outputs": [],
   "source": []
  },
  {
   "cell_type": "code",
   "execution_count": null,
   "metadata": {},
   "outputs": [],
   "source": []
  },
  {
   "cell_type": "code",
   "execution_count": null,
   "metadata": {},
   "outputs": [],
   "source": []
  },
  {
   "cell_type": "code",
   "execution_count": null,
   "metadata": {
    "scrolled": true
   },
   "outputs": [],
   "source": [
    "attribute_list = hw.get_attribute(image_dilate/255)\n",
    "h, w = image_dilate.shape\n",
    "radius = 30\n",
    "test_image = image_dilate.copy()\n",
    "y = np.arange(int(attribute_list[0]['position']['x']), h)\n",
    "b = attribute_list[0]['position']['y'] - np.tan(attribute_list[0]['orientation'])*attribute_list[0]['position']['x']\n",
    "m = np.tan(attribute_list[0]['orientation'])\n",
    "\n",
    "for (yi) in zip(y):\n",
    "    x_calc = int(attribute_list[0]['position']['y']) + int(np.round((yi - b)/ min(-m, m)))\n",
    "#     x_calc = int(np.round((yi - b)/ min(-m, m)))\n",
    "#     print(x_calc + radius)\n",
    "    test_image[yi, 0 : x_calc + radius] = 255\n",
    "plt.imshow(test_image)"
   ]
  }
 ],
 "metadata": {
  "kernelspec": {
   "display_name": "Python 3",
   "language": "python",
   "name": "python3"
  },
  "language_info": {
   "codemirror_mode": {
    "name": "ipython",
    "version": 3
   },
   "file_extension": ".py",
   "mimetype": "text/x-python",
   "name": "python",
   "nbconvert_exporter": "python",
   "pygments_lexer": "ipython3",
   "version": "3.8.3"
  }
 },
 "nbformat": 4,
 "nbformat_minor": 2
}
