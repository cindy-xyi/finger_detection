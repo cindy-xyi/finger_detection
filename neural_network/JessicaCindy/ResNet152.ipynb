{
 "cells": [
  {
   "cell_type": "code",
   "execution_count": 1,
   "metadata": {},
   "outputs": [],
   "source": [
    "import numpy as np\n",
    "import matplotlib.pyplot as plt\n",
    "import pickle\n",
    "import cv2\n",
    "import tqdm\n",
    "\n",
    "import torch\n",
    "import torch.nn as nn\n",
    "from torch.utils.data import Dataset, DataLoader"
   ]
  },
  {
   "cell_type": "code",
   "execution_count": 2,
   "metadata": {},
   "outputs": [],
   "source": [
    "with open('DataSplit.pickle', 'rb') as handle:\n",
    "    DataSplit = pickle.load(handle)"
   ]
  },
  {
   "cell_type": "code",
   "execution_count": 3,
   "metadata": {},
   "outputs": [],
   "source": [
    "# Hyperparameters\n",
    "train_batch_size = 10\n",
    "val_batch_size = 10\n",
    "learning_rate = 0.0001\n",
    "num_epochs = 200"
   ]
  },
  {
   "cell_type": "code",
   "execution_count": 4,
   "metadata": {},
   "outputs": [],
   "source": [
    "class Senz3DDataset(Dataset):\n",
    "    def __init__(self, paths, labels):\n",
    "        self.paths = paths\n",
    "        self.labels = labels\n",
    "        self.GT_labels = {'1': 5, '2': 2, '3': 3, '4': 5, '5': 0, '6': 2, \n",
    "                          '7': 1, '8': 4, '9': 3, '10': 1, '11': 1}\n",
    "        \n",
    "    def __len__(self):\n",
    "        return len(self.paths)\n",
    "    \n",
    "    def __getitem__(self, idx):\n",
    "        img = cv2.imread(\"..\\\\.\" + self.paths[idx])\n",
    "        img = cv2.cvtColor(img, cv2.COLOR_BGR2RGB)\n",
    "        img = cv2.resize(img, (img.shape[1]//4, img.shape[0]//4)).astype(np.uint8)\n",
    "        \n",
    "        label = torch.tensor(self.GT_labels[(self.labels[idx])])\n",
    "        \n",
    "        return {'img': img, 'label': label}"
   ]
  },
  {
   "cell_type": "code",
   "execution_count": 5,
   "metadata": {},
   "outputs": [],
   "source": [
    "# Make Datasets\n",
    "TrainDataset = Senz3DDataset(list(DataSplit['train'].keys()), list(DataSplit['train'].values()))\n",
    "ValDataset = Senz3DDataset(list(DataSplit['val'].keys()), list(DataSplit['val'].values()))\n",
    "TestDataset = Senz3DDataset(list(DataSplit['test'].keys()), list(DataSplit['test'].values()))"
   ]
  },
  {
   "cell_type": "code",
   "execution_count": 6,
   "metadata": {},
   "outputs": [],
   "source": [
    "#  Make DataLoaders\n",
    "TrainDataLoader = DataLoader(TrainDataset, batch_size=train_batch_size, shuffle=True)\n",
    "ValDataLoader = DataLoader(ValDataset, batch_size=val_batch_size, shuffle=True)\n",
    "TestDataLoader = DataLoader(TestDataset, batch_size=1, shuffle=False)"
   ]
  },
  {
   "cell_type": "code",
   "execution_count": 7,
   "metadata": {
    "scrolled": true
   },
   "outputs": [
    {
     "name": "stdout",
     "output_type": "stream",
     "text": [
      "Layer0 frozen: <class 'torch.nn.parameter.Parameter'> torch.Size([64, 3, 7, 7])\n",
      "Layer1 frozen: <class 'torch.nn.parameter.Parameter'> torch.Size([64])\n",
      "Layer2 frozen: <class 'torch.nn.parameter.Parameter'> torch.Size([64])\n",
      "Layer3 frozen: <class 'torch.nn.parameter.Parameter'> torch.Size([64, 64, 1, 1])\n",
      "Layer4 frozen: <class 'torch.nn.parameter.Parameter'> torch.Size([64])\n",
      "Layer5 frozen: <class 'torch.nn.parameter.Parameter'> torch.Size([64])\n",
      "Layer6 frozen: <class 'torch.nn.parameter.Parameter'> torch.Size([64, 64, 3, 3])\n",
      "Layer7 frozen: <class 'torch.nn.parameter.Parameter'> torch.Size([64])\n",
      "Layer8 frozen: <class 'torch.nn.parameter.Parameter'> torch.Size([64])\n",
      "Layer9 frozen: <class 'torch.nn.parameter.Parameter'> torch.Size([256, 64, 1, 1])\n",
      "Layer10 frozen: <class 'torch.nn.parameter.Parameter'> torch.Size([256])\n",
      "Layer11 frozen: <class 'torch.nn.parameter.Parameter'> torch.Size([256])\n",
      "Layer12 frozen: <class 'torch.nn.parameter.Parameter'> torch.Size([256, 64, 1, 1])\n",
      "Layer13 frozen: <class 'torch.nn.parameter.Parameter'> torch.Size([256])\n",
      "Layer14 frozen: <class 'torch.nn.parameter.Parameter'> torch.Size([256])\n",
      "Layer15 frozen: <class 'torch.nn.parameter.Parameter'> torch.Size([64, 256, 1, 1])\n",
      "Layer16 frozen: <class 'torch.nn.parameter.Parameter'> torch.Size([64])\n",
      "Layer17 frozen: <class 'torch.nn.parameter.Parameter'> torch.Size([64])\n",
      "Layer18 frozen: <class 'torch.nn.parameter.Parameter'> torch.Size([64, 64, 3, 3])\n",
      "Layer19 frozen: <class 'torch.nn.parameter.Parameter'> torch.Size([64])\n",
      "Layer20 frozen: <class 'torch.nn.parameter.Parameter'> torch.Size([64])\n",
      "Layer21 frozen: <class 'torch.nn.parameter.Parameter'> torch.Size([256, 64, 1, 1])\n",
      "Layer22 frozen: <class 'torch.nn.parameter.Parameter'> torch.Size([256])\n",
      "Layer23 frozen: <class 'torch.nn.parameter.Parameter'> torch.Size([256])\n",
      "Layer24 frozen: <class 'torch.nn.parameter.Parameter'> torch.Size([64, 256, 1, 1])\n",
      "Layer25 frozen: <class 'torch.nn.parameter.Parameter'> torch.Size([64])\n",
      "Layer26 frozen: <class 'torch.nn.parameter.Parameter'> torch.Size([64])\n",
      "Layer27 frozen: <class 'torch.nn.parameter.Parameter'> torch.Size([64, 64, 3, 3])\n",
      "Layer28 frozen: <class 'torch.nn.parameter.Parameter'> torch.Size([64])\n",
      "Layer29 frozen: <class 'torch.nn.parameter.Parameter'> torch.Size([64])\n",
      "Layer30 frozen: <class 'torch.nn.parameter.Parameter'> torch.Size([256, 64, 1, 1])\n",
      "Layer31 frozen: <class 'torch.nn.parameter.Parameter'> torch.Size([256])\n",
      "Layer32 frozen: <class 'torch.nn.parameter.Parameter'> torch.Size([256])\n",
      "Layer33 frozen: <class 'torch.nn.parameter.Parameter'> torch.Size([128, 256, 1, 1])\n",
      "Layer34 frozen: <class 'torch.nn.parameter.Parameter'> torch.Size([128])\n",
      "Layer35 frozen: <class 'torch.nn.parameter.Parameter'> torch.Size([128])\n",
      "Layer36 frozen: <class 'torch.nn.parameter.Parameter'> torch.Size([128, 128, 3, 3])\n",
      "Layer37 frozen: <class 'torch.nn.parameter.Parameter'> torch.Size([128])\n",
      "Layer38 frozen: <class 'torch.nn.parameter.Parameter'> torch.Size([128])\n",
      "Layer39 frozen: <class 'torch.nn.parameter.Parameter'> torch.Size([512, 128, 1, 1])\n",
      "Layer40 frozen: <class 'torch.nn.parameter.Parameter'> torch.Size([512])\n",
      "Layer41 frozen: <class 'torch.nn.parameter.Parameter'> torch.Size([512])\n",
      "Layer42 frozen: <class 'torch.nn.parameter.Parameter'> torch.Size([512, 256, 1, 1])\n",
      "Layer43 frozen: <class 'torch.nn.parameter.Parameter'> torch.Size([512])\n",
      "Layer44 frozen: <class 'torch.nn.parameter.Parameter'> torch.Size([512])\n",
      "Layer45 frozen: <class 'torch.nn.parameter.Parameter'> torch.Size([128, 512, 1, 1])\n",
      "Layer46 frozen: <class 'torch.nn.parameter.Parameter'> torch.Size([128])\n",
      "Layer47 frozen: <class 'torch.nn.parameter.Parameter'> torch.Size([128])\n",
      "Layer48 frozen: <class 'torch.nn.parameter.Parameter'> torch.Size([128, 128, 3, 3])\n",
      "Layer49 frozen: <class 'torch.nn.parameter.Parameter'> torch.Size([128])\n",
      "Layer50 frozen: <class 'torch.nn.parameter.Parameter'> torch.Size([128])\n",
      "Layer51 frozen: <class 'torch.nn.parameter.Parameter'> torch.Size([512, 128, 1, 1])\n",
      "Layer52 frozen: <class 'torch.nn.parameter.Parameter'> torch.Size([512])\n",
      "Layer53 frozen: <class 'torch.nn.parameter.Parameter'> torch.Size([512])\n",
      "Layer54 frozen: <class 'torch.nn.parameter.Parameter'> torch.Size([128, 512, 1, 1])\n",
      "Layer55 frozen: <class 'torch.nn.parameter.Parameter'> torch.Size([128])\n",
      "Layer56 frozen: <class 'torch.nn.parameter.Parameter'> torch.Size([128])\n",
      "Layer57 frozen: <class 'torch.nn.parameter.Parameter'> torch.Size([128, 128, 3, 3])\n",
      "Layer58 frozen: <class 'torch.nn.parameter.Parameter'> torch.Size([128])\n",
      "Layer59 frozen: <class 'torch.nn.parameter.Parameter'> torch.Size([128])\n",
      "Layer60 frozen: <class 'torch.nn.parameter.Parameter'> torch.Size([512, 128, 1, 1])\n",
      "Layer61 frozen: <class 'torch.nn.parameter.Parameter'> torch.Size([512])\n",
      "Layer62 frozen: <class 'torch.nn.parameter.Parameter'> torch.Size([512])\n",
      "Layer63 frozen: <class 'torch.nn.parameter.Parameter'> torch.Size([128, 512, 1, 1])\n",
      "Layer64 frozen: <class 'torch.nn.parameter.Parameter'> torch.Size([128])\n",
      "Layer65 frozen: <class 'torch.nn.parameter.Parameter'> torch.Size([128])\n",
      "Layer66 frozen: <class 'torch.nn.parameter.Parameter'> torch.Size([128, 128, 3, 3])\n",
      "Layer67 frozen: <class 'torch.nn.parameter.Parameter'> torch.Size([128])\n",
      "Layer68 frozen: <class 'torch.nn.parameter.Parameter'> torch.Size([128])\n",
      "Layer69 frozen: <class 'torch.nn.parameter.Parameter'> torch.Size([512, 128, 1, 1])\n",
      "Layer70 frozen: <class 'torch.nn.parameter.Parameter'> torch.Size([512])\n",
      "Layer71 frozen: <class 'torch.nn.parameter.Parameter'> torch.Size([512])\n",
      "Layer72 frozen: <class 'torch.nn.parameter.Parameter'> torch.Size([128, 512, 1, 1])\n",
      "Layer73 frozen: <class 'torch.nn.parameter.Parameter'> torch.Size([128])\n",
      "Layer74 frozen: <class 'torch.nn.parameter.Parameter'> torch.Size([128])\n",
      "Layer75 frozen: <class 'torch.nn.parameter.Parameter'> torch.Size([128, 128, 3, 3])\n",
      "Layer76 frozen: <class 'torch.nn.parameter.Parameter'> torch.Size([128])\n",
      "Layer77 frozen: <class 'torch.nn.parameter.Parameter'> torch.Size([128])\n",
      "Layer78 frozen: <class 'torch.nn.parameter.Parameter'> torch.Size([512, 128, 1, 1])\n",
      "Layer79 frozen: <class 'torch.nn.parameter.Parameter'> torch.Size([512])\n",
      "Layer80 frozen: <class 'torch.nn.parameter.Parameter'> torch.Size([512])\n",
      "Layer81 frozen: <class 'torch.nn.parameter.Parameter'> torch.Size([128, 512, 1, 1])\n",
      "Layer82 frozen: <class 'torch.nn.parameter.Parameter'> torch.Size([128])\n",
      "Layer83 frozen: <class 'torch.nn.parameter.Parameter'> torch.Size([128])\n",
      "Layer84 frozen: <class 'torch.nn.parameter.Parameter'> torch.Size([128, 128, 3, 3])\n",
      "Layer85 frozen: <class 'torch.nn.parameter.Parameter'> torch.Size([128])\n",
      "Layer86 frozen: <class 'torch.nn.parameter.Parameter'> torch.Size([128])\n",
      "Layer87 frozen: <class 'torch.nn.parameter.Parameter'> torch.Size([512, 128, 1, 1])\n",
      "Layer88 frozen: <class 'torch.nn.parameter.Parameter'> torch.Size([512])\n",
      "Layer89 frozen: <class 'torch.nn.parameter.Parameter'> torch.Size([512])\n",
      "Layer90 frozen: <class 'torch.nn.parameter.Parameter'> torch.Size([128, 512, 1, 1])\n",
      "Layer91 frozen: <class 'torch.nn.parameter.Parameter'> torch.Size([128])\n",
      "Layer92 frozen: <class 'torch.nn.parameter.Parameter'> torch.Size([128])\n",
      "Layer93 frozen: <class 'torch.nn.parameter.Parameter'> torch.Size([128, 128, 3, 3])\n",
      "Layer94 frozen: <class 'torch.nn.parameter.Parameter'> torch.Size([128])\n",
      "Layer95 frozen: <class 'torch.nn.parameter.Parameter'> torch.Size([128])\n",
      "Layer96 frozen: <class 'torch.nn.parameter.Parameter'> torch.Size([512, 128, 1, 1])\n",
      "Layer97 frozen: <class 'torch.nn.parameter.Parameter'> torch.Size([512])\n",
      "Layer98 frozen: <class 'torch.nn.parameter.Parameter'> torch.Size([512])\n",
      "Layer99 frozen: <class 'torch.nn.parameter.Parameter'> torch.Size([128, 512, 1, 1])\n",
      "Layer100 frozen: <class 'torch.nn.parameter.Parameter'> torch.Size([128])\n",
      "Layer101 frozen: <class 'torch.nn.parameter.Parameter'> torch.Size([128])\n",
      "Layer102 frozen: <class 'torch.nn.parameter.Parameter'> torch.Size([128, 128, 3, 3])\n",
      "Layer103 frozen: <class 'torch.nn.parameter.Parameter'> torch.Size([128])\n",
      "Layer104 frozen: <class 'torch.nn.parameter.Parameter'> torch.Size([128])\n",
      "Layer105 frozen: <class 'torch.nn.parameter.Parameter'> torch.Size([512, 128, 1, 1])\n",
      "Layer106 frozen: <class 'torch.nn.parameter.Parameter'> torch.Size([512])\n",
      "Layer107 frozen: <class 'torch.nn.parameter.Parameter'> torch.Size([512])\n",
      "Layer108 frozen: <class 'torch.nn.parameter.Parameter'> torch.Size([256, 512, 1, 1])\n",
      "Layer109 frozen: <class 'torch.nn.parameter.Parameter'> torch.Size([256])\n",
      "Layer110 frozen: <class 'torch.nn.parameter.Parameter'> torch.Size([256])\n",
      "Layer111 frozen: <class 'torch.nn.parameter.Parameter'> torch.Size([256, 256, 3, 3])\n",
      "Layer112 frozen: <class 'torch.nn.parameter.Parameter'> torch.Size([256])\n",
      "Layer113 frozen: <class 'torch.nn.parameter.Parameter'> torch.Size([256])\n",
      "Layer114 frozen: <class 'torch.nn.parameter.Parameter'> torch.Size([1024, 256, 1, 1])\n",
      "Layer115 frozen: <class 'torch.nn.parameter.Parameter'> torch.Size([1024])\n",
      "Layer116 frozen: <class 'torch.nn.parameter.Parameter'> torch.Size([1024])\n",
      "Layer117 frozen: <class 'torch.nn.parameter.Parameter'> torch.Size([1024, 512, 1, 1])\n",
      "Layer118 frozen: <class 'torch.nn.parameter.Parameter'> torch.Size([1024])\n",
      "Layer119 frozen: <class 'torch.nn.parameter.Parameter'> torch.Size([1024])\n",
      "Layer120 frozen: <class 'torch.nn.parameter.Parameter'> torch.Size([256, 1024, 1, 1])\n",
      "Layer121 frozen: <class 'torch.nn.parameter.Parameter'> torch.Size([256])\n",
      "Layer122 frozen: <class 'torch.nn.parameter.Parameter'> torch.Size([256])\n",
      "Layer123 frozen: <class 'torch.nn.parameter.Parameter'> torch.Size([256, 256, 3, 3])\n",
      "Layer124 frozen: <class 'torch.nn.parameter.Parameter'> torch.Size([256])\n",
      "Layer125 frozen: <class 'torch.nn.parameter.Parameter'> torch.Size([256])\n",
      "Layer126 frozen: <class 'torch.nn.parameter.Parameter'> torch.Size([1024, 256, 1, 1])\n",
      "Layer127 frozen: <class 'torch.nn.parameter.Parameter'> torch.Size([1024])\n",
      "Layer128 frozen: <class 'torch.nn.parameter.Parameter'> torch.Size([1024])\n",
      "Layer129 frozen: <class 'torch.nn.parameter.Parameter'> torch.Size([256, 1024, 1, 1])\n",
      "Layer130 frozen: <class 'torch.nn.parameter.Parameter'> torch.Size([256])\n",
      "Layer131 frozen: <class 'torch.nn.parameter.Parameter'> torch.Size([256])\n",
      "Layer132 frozen: <class 'torch.nn.parameter.Parameter'> torch.Size([256, 256, 3, 3])\n",
      "Layer133 frozen: <class 'torch.nn.parameter.Parameter'> torch.Size([256])\n",
      "Layer134 frozen: <class 'torch.nn.parameter.Parameter'> torch.Size([256])\n",
      "Layer135 frozen: <class 'torch.nn.parameter.Parameter'> torch.Size([1024, 256, 1, 1])\n",
      "Layer136 frozen: <class 'torch.nn.parameter.Parameter'> torch.Size([1024])\n",
      "Layer137 frozen: <class 'torch.nn.parameter.Parameter'> torch.Size([1024])\n",
      "Layer138 frozen: <class 'torch.nn.parameter.Parameter'> torch.Size([256, 1024, 1, 1])\n",
      "Layer139 frozen: <class 'torch.nn.parameter.Parameter'> torch.Size([256])\n",
      "Layer140 frozen: <class 'torch.nn.parameter.Parameter'> torch.Size([256])\n",
      "Layer141 frozen: <class 'torch.nn.parameter.Parameter'> torch.Size([256, 256, 3, 3])\n",
      "Layer142 frozen: <class 'torch.nn.parameter.Parameter'> torch.Size([256])\n",
      "Layer143 frozen: <class 'torch.nn.parameter.Parameter'> torch.Size([256])\n",
      "Layer144 frozen: <class 'torch.nn.parameter.Parameter'> torch.Size([1024, 256, 1, 1])\n",
      "Layer145 frozen: <class 'torch.nn.parameter.Parameter'> torch.Size([1024])\n",
      "Layer146 frozen: <class 'torch.nn.parameter.Parameter'> torch.Size([1024])\n",
      "Layer147 frozen: <class 'torch.nn.parameter.Parameter'> torch.Size([256, 1024, 1, 1])\n",
      "Layer148 frozen: <class 'torch.nn.parameter.Parameter'> torch.Size([256])\n",
      "Layer149 frozen: <class 'torch.nn.parameter.Parameter'> torch.Size([256])\n",
      "Layer150 frozen: <class 'torch.nn.parameter.Parameter'> torch.Size([256, 256, 3, 3])\n",
      "Layer151 frozen: <class 'torch.nn.parameter.Parameter'> torch.Size([256])\n",
      "Layer152 frozen: <class 'torch.nn.parameter.Parameter'> torch.Size([256])\n",
      "Layer153 frozen: <class 'torch.nn.parameter.Parameter'> torch.Size([1024, 256, 1, 1])\n",
      "Layer154 frozen: <class 'torch.nn.parameter.Parameter'> torch.Size([1024])\n",
      "Layer155 frozen: <class 'torch.nn.parameter.Parameter'> torch.Size([1024])\n",
      "Layer156 frozen: <class 'torch.nn.parameter.Parameter'> torch.Size([256, 1024, 1, 1])\n",
      "Layer157 frozen: <class 'torch.nn.parameter.Parameter'> torch.Size([256])\n",
      "Layer158 frozen: <class 'torch.nn.parameter.Parameter'> torch.Size([256])\n",
      "Layer159 frozen: <class 'torch.nn.parameter.Parameter'> torch.Size([256, 256, 3, 3])\n",
      "Layer160 frozen: <class 'torch.nn.parameter.Parameter'> torch.Size([256])\n",
      "Layer161 frozen: <class 'torch.nn.parameter.Parameter'> torch.Size([256])\n",
      "Layer162 frozen: <class 'torch.nn.parameter.Parameter'> torch.Size([1024, 256, 1, 1])\n",
      "Layer163 frozen: <class 'torch.nn.parameter.Parameter'> torch.Size([1024])\n",
      "Layer164 frozen: <class 'torch.nn.parameter.Parameter'> torch.Size([1024])\n",
      "Layer165 frozen: <class 'torch.nn.parameter.Parameter'> torch.Size([256, 1024, 1, 1])\n",
      "Layer166 frozen: <class 'torch.nn.parameter.Parameter'> torch.Size([256])\n",
      "Layer167 frozen: <class 'torch.nn.parameter.Parameter'> torch.Size([256])\n",
      "Layer168 frozen: <class 'torch.nn.parameter.Parameter'> torch.Size([256, 256, 3, 3])\n",
      "Layer169 frozen: <class 'torch.nn.parameter.Parameter'> torch.Size([256])\n",
      "Layer170 frozen: <class 'torch.nn.parameter.Parameter'> torch.Size([256])\n",
      "Layer171 frozen: <class 'torch.nn.parameter.Parameter'> torch.Size([1024, 256, 1, 1])\n",
      "Layer172 frozen: <class 'torch.nn.parameter.Parameter'> torch.Size([1024])\n",
      "Layer173 frozen: <class 'torch.nn.parameter.Parameter'> torch.Size([1024])\n",
      "Layer174 frozen: <class 'torch.nn.parameter.Parameter'> torch.Size([256, 1024, 1, 1])\n",
      "Layer175 frozen: <class 'torch.nn.parameter.Parameter'> torch.Size([256])\n",
      "Layer176 frozen: <class 'torch.nn.parameter.Parameter'> torch.Size([256])\n",
      "Layer177 frozen: <class 'torch.nn.parameter.Parameter'> torch.Size([256, 256, 3, 3])\n",
      "Layer178 frozen: <class 'torch.nn.parameter.Parameter'> torch.Size([256])\n",
      "Layer179 frozen: <class 'torch.nn.parameter.Parameter'> torch.Size([256])\n",
      "Layer180 frozen: <class 'torch.nn.parameter.Parameter'> torch.Size([1024, 256, 1, 1])\n",
      "Layer181 frozen: <class 'torch.nn.parameter.Parameter'> torch.Size([1024])\n",
      "Layer182 frozen: <class 'torch.nn.parameter.Parameter'> torch.Size([1024])\n",
      "Layer183 frozen: <class 'torch.nn.parameter.Parameter'> torch.Size([256, 1024, 1, 1])\n",
      "Layer184 frozen: <class 'torch.nn.parameter.Parameter'> torch.Size([256])\n",
      "Layer185 frozen: <class 'torch.nn.parameter.Parameter'> torch.Size([256])\n",
      "Layer186 frozen: <class 'torch.nn.parameter.Parameter'> torch.Size([256, 256, 3, 3])\n",
      "Layer187 frozen: <class 'torch.nn.parameter.Parameter'> torch.Size([256])\n",
      "Layer188 frozen: <class 'torch.nn.parameter.Parameter'> torch.Size([256])\n",
      "Layer189 frozen: <class 'torch.nn.parameter.Parameter'> torch.Size([1024, 256, 1, 1])\n",
      "Layer190 frozen: <class 'torch.nn.parameter.Parameter'> torch.Size([1024])\n",
      "Layer191 frozen: <class 'torch.nn.parameter.Parameter'> torch.Size([1024])\n",
      "Layer192 frozen: <class 'torch.nn.parameter.Parameter'> torch.Size([256, 1024, 1, 1])\n",
      "Layer193 frozen: <class 'torch.nn.parameter.Parameter'> torch.Size([256])\n",
      "Layer194 frozen: <class 'torch.nn.parameter.Parameter'> torch.Size([256])\n",
      "Layer195 frozen: <class 'torch.nn.parameter.Parameter'> torch.Size([256, 256, 3, 3])\n",
      "Layer196 frozen: <class 'torch.nn.parameter.Parameter'> torch.Size([256])\n",
      "Layer197 frozen: <class 'torch.nn.parameter.Parameter'> torch.Size([256])\n",
      "Layer198 frozen: <class 'torch.nn.parameter.Parameter'> torch.Size([1024, 256, 1, 1])\n",
      "Layer199 frozen: <class 'torch.nn.parameter.Parameter'> torch.Size([1024])\n",
      "Layer200 frozen: <class 'torch.nn.parameter.Parameter'> torch.Size([1024])\n",
      "Layer201 frozen: <class 'torch.nn.parameter.Parameter'> torch.Size([256, 1024, 1, 1])\n",
      "Layer202 frozen: <class 'torch.nn.parameter.Parameter'> torch.Size([256])\n",
      "Layer203 frozen: <class 'torch.nn.parameter.Parameter'> torch.Size([256])\n",
      "Layer204 frozen: <class 'torch.nn.parameter.Parameter'> torch.Size([256, 256, 3, 3])\n",
      "Layer205 frozen: <class 'torch.nn.parameter.Parameter'> torch.Size([256])\n",
      "Layer206 frozen: <class 'torch.nn.parameter.Parameter'> torch.Size([256])\n",
      "Layer207 frozen: <class 'torch.nn.parameter.Parameter'> torch.Size([1024, 256, 1, 1])\n",
      "Layer208 frozen: <class 'torch.nn.parameter.Parameter'> torch.Size([1024])\n",
      "Layer209 frozen: <class 'torch.nn.parameter.Parameter'> torch.Size([1024])\n",
      "Layer210 frozen: <class 'torch.nn.parameter.Parameter'> torch.Size([256, 1024, 1, 1])\n",
      "Layer211 frozen: <class 'torch.nn.parameter.Parameter'> torch.Size([256])\n",
      "Layer212 frozen: <class 'torch.nn.parameter.Parameter'> torch.Size([256])\n",
      "Layer213 frozen: <class 'torch.nn.parameter.Parameter'> torch.Size([256, 256, 3, 3])\n",
      "Layer214 frozen: <class 'torch.nn.parameter.Parameter'> torch.Size([256])\n",
      "Layer215 frozen: <class 'torch.nn.parameter.Parameter'> torch.Size([256])\n",
      "Layer216 frozen: <class 'torch.nn.parameter.Parameter'> torch.Size([1024, 256, 1, 1])\n",
      "Layer217 frozen: <class 'torch.nn.parameter.Parameter'> torch.Size([1024])\n",
      "Layer218 frozen: <class 'torch.nn.parameter.Parameter'> torch.Size([1024])\n",
      "Layer219 frozen: <class 'torch.nn.parameter.Parameter'> torch.Size([256, 1024, 1, 1])\n",
      "Layer220 frozen: <class 'torch.nn.parameter.Parameter'> torch.Size([256])\n",
      "Layer221 frozen: <class 'torch.nn.parameter.Parameter'> torch.Size([256])\n",
      "Layer222 frozen: <class 'torch.nn.parameter.Parameter'> torch.Size([256, 256, 3, 3])\n",
      "Layer223 frozen: <class 'torch.nn.parameter.Parameter'> torch.Size([256])\n",
      "Layer224 frozen: <class 'torch.nn.parameter.Parameter'> torch.Size([256])\n",
      "Layer225 frozen: <class 'torch.nn.parameter.Parameter'> torch.Size([1024, 256, 1, 1])\n",
      "Layer226 frozen: <class 'torch.nn.parameter.Parameter'> torch.Size([1024])\n",
      "Layer227 frozen: <class 'torch.nn.parameter.Parameter'> torch.Size([1024])\n",
      "Layer228 frozen: <class 'torch.nn.parameter.Parameter'> torch.Size([256, 1024, 1, 1])\n",
      "Layer229 frozen: <class 'torch.nn.parameter.Parameter'> torch.Size([256])\n",
      "Layer230 frozen: <class 'torch.nn.parameter.Parameter'> torch.Size([256])\n",
      "Layer231 frozen: <class 'torch.nn.parameter.Parameter'> torch.Size([256, 256, 3, 3])\n",
      "Layer232 frozen: <class 'torch.nn.parameter.Parameter'> torch.Size([256])\n",
      "Layer233 frozen: <class 'torch.nn.parameter.Parameter'> torch.Size([256])\n",
      "Layer234 frozen: <class 'torch.nn.parameter.Parameter'> torch.Size([1024, 256, 1, 1])\n",
      "Layer235 frozen: <class 'torch.nn.parameter.Parameter'> torch.Size([1024])\n",
      "Layer236 frozen: <class 'torch.nn.parameter.Parameter'> torch.Size([1024])\n",
      "Layer237 frozen: <class 'torch.nn.parameter.Parameter'> torch.Size([256, 1024, 1, 1])\n",
      "Layer238 frozen: <class 'torch.nn.parameter.Parameter'> torch.Size([256])\n",
      "Layer239 frozen: <class 'torch.nn.parameter.Parameter'> torch.Size([256])\n",
      "Layer240 frozen: <class 'torch.nn.parameter.Parameter'> torch.Size([256, 256, 3, 3])\n",
      "Layer241 frozen: <class 'torch.nn.parameter.Parameter'> torch.Size([256])\n",
      "Layer242 frozen: <class 'torch.nn.parameter.Parameter'> torch.Size([256])\n",
      "Layer243 frozen: <class 'torch.nn.parameter.Parameter'> torch.Size([1024, 256, 1, 1])\n",
      "Layer244 frozen: <class 'torch.nn.parameter.Parameter'> torch.Size([1024])\n",
      "Layer245 frozen: <class 'torch.nn.parameter.Parameter'> torch.Size([1024])\n",
      "Layer246 frozen: <class 'torch.nn.parameter.Parameter'> torch.Size([256, 1024, 1, 1])\n",
      "Layer247 frozen: <class 'torch.nn.parameter.Parameter'> torch.Size([256])\n",
      "Layer248 frozen: <class 'torch.nn.parameter.Parameter'> torch.Size([256])\n",
      "Layer249 frozen: <class 'torch.nn.parameter.Parameter'> torch.Size([256, 256, 3, 3])\n",
      "Layer250 frozen: <class 'torch.nn.parameter.Parameter'> torch.Size([256])\n",
      "Layer251 frozen: <class 'torch.nn.parameter.Parameter'> torch.Size([256])\n",
      "Layer252 frozen: <class 'torch.nn.parameter.Parameter'> torch.Size([1024, 256, 1, 1])\n",
      "Layer253 frozen: <class 'torch.nn.parameter.Parameter'> torch.Size([1024])\n",
      "Layer254 frozen: <class 'torch.nn.parameter.Parameter'> torch.Size([1024])\n",
      "Layer255 frozen: <class 'torch.nn.parameter.Parameter'> torch.Size([256, 1024, 1, 1])\n",
      "Layer256 frozen: <class 'torch.nn.parameter.Parameter'> torch.Size([256])\n",
      "Layer257 frozen: <class 'torch.nn.parameter.Parameter'> torch.Size([256])\n",
      "Layer258 frozen: <class 'torch.nn.parameter.Parameter'> torch.Size([256, 256, 3, 3])\n",
      "Layer259 frozen: <class 'torch.nn.parameter.Parameter'> torch.Size([256])\n",
      "Layer260 frozen: <class 'torch.nn.parameter.Parameter'> torch.Size([256])\n",
      "Layer261 frozen: <class 'torch.nn.parameter.Parameter'> torch.Size([1024, 256, 1, 1])\n",
      "Layer262 frozen: <class 'torch.nn.parameter.Parameter'> torch.Size([1024])\n",
      "Layer263 frozen: <class 'torch.nn.parameter.Parameter'> torch.Size([1024])\n",
      "Layer264 frozen: <class 'torch.nn.parameter.Parameter'> torch.Size([256, 1024, 1, 1])\n",
      "Layer265 frozen: <class 'torch.nn.parameter.Parameter'> torch.Size([256])\n",
      "Layer266 frozen: <class 'torch.nn.parameter.Parameter'> torch.Size([256])\n",
      "Layer267 frozen: <class 'torch.nn.parameter.Parameter'> torch.Size([256, 256, 3, 3])\n",
      "Layer268 frozen: <class 'torch.nn.parameter.Parameter'> torch.Size([256])\n",
      "Layer269 frozen: <class 'torch.nn.parameter.Parameter'> torch.Size([256])\n",
      "Layer270 frozen: <class 'torch.nn.parameter.Parameter'> torch.Size([1024, 256, 1, 1])\n",
      "Layer271 frozen: <class 'torch.nn.parameter.Parameter'> torch.Size([1024])\n",
      "Layer272 frozen: <class 'torch.nn.parameter.Parameter'> torch.Size([1024])\n",
      "Layer273 frozen: <class 'torch.nn.parameter.Parameter'> torch.Size([256, 1024, 1, 1])\n",
      "Layer274 frozen: <class 'torch.nn.parameter.Parameter'> torch.Size([256])\n",
      "Layer275 frozen: <class 'torch.nn.parameter.Parameter'> torch.Size([256])\n",
      "Layer276 frozen: <class 'torch.nn.parameter.Parameter'> torch.Size([256, 256, 3, 3])\n",
      "Layer277 frozen: <class 'torch.nn.parameter.Parameter'> torch.Size([256])\n",
      "Layer278 frozen: <class 'torch.nn.parameter.Parameter'> torch.Size([256])\n",
      "Layer279 frozen: <class 'torch.nn.parameter.Parameter'> torch.Size([1024, 256, 1, 1])\n",
      "Layer280 frozen: <class 'torch.nn.parameter.Parameter'> torch.Size([1024])\n",
      "Layer281 frozen: <class 'torch.nn.parameter.Parameter'> torch.Size([1024])\n",
      "Layer282 frozen: <class 'torch.nn.parameter.Parameter'> torch.Size([256, 1024, 1, 1])\n",
      "Layer283 frozen: <class 'torch.nn.parameter.Parameter'> torch.Size([256])\n",
      "Layer284 frozen: <class 'torch.nn.parameter.Parameter'> torch.Size([256])\n",
      "Layer285 frozen: <class 'torch.nn.parameter.Parameter'> torch.Size([256, 256, 3, 3])\n",
      "Layer286 frozen: <class 'torch.nn.parameter.Parameter'> torch.Size([256])\n",
      "Layer287 frozen: <class 'torch.nn.parameter.Parameter'> torch.Size([256])\n",
      "Layer288 frozen: <class 'torch.nn.parameter.Parameter'> torch.Size([1024, 256, 1, 1])\n",
      "Layer289 frozen: <class 'torch.nn.parameter.Parameter'> torch.Size([1024])\n",
      "Layer290 frozen: <class 'torch.nn.parameter.Parameter'> torch.Size([1024])\n",
      "Layer291 frozen: <class 'torch.nn.parameter.Parameter'> torch.Size([256, 1024, 1, 1])\n",
      "Layer292 frozen: <class 'torch.nn.parameter.Parameter'> torch.Size([256])\n",
      "Layer293 frozen: <class 'torch.nn.parameter.Parameter'> torch.Size([256])\n",
      "Layer294 frozen: <class 'torch.nn.parameter.Parameter'> torch.Size([256, 256, 3, 3])\n",
      "Layer295 frozen: <class 'torch.nn.parameter.Parameter'> torch.Size([256])\n",
      "Layer296 frozen: <class 'torch.nn.parameter.Parameter'> torch.Size([256])\n",
      "Layer297 frozen: <class 'torch.nn.parameter.Parameter'> torch.Size([1024, 256, 1, 1])\n",
      "Layer298 frozen: <class 'torch.nn.parameter.Parameter'> torch.Size([1024])\n",
      "Layer299 frozen: <class 'torch.nn.parameter.Parameter'> torch.Size([1024])\n",
      "Layer300 frozen: <class 'torch.nn.parameter.Parameter'> torch.Size([256, 1024, 1, 1])\n",
      "Layer301 frozen: <class 'torch.nn.parameter.Parameter'> torch.Size([256])\n",
      "Layer302 frozen: <class 'torch.nn.parameter.Parameter'> torch.Size([256])\n",
      "Layer303 frozen: <class 'torch.nn.parameter.Parameter'> torch.Size([256, 256, 3, 3])\n",
      "Layer304 frozen: <class 'torch.nn.parameter.Parameter'> torch.Size([256])\n",
      "Layer305 frozen: <class 'torch.nn.parameter.Parameter'> torch.Size([256])\n",
      "Layer306 frozen: <class 'torch.nn.parameter.Parameter'> torch.Size([1024, 256, 1, 1])\n",
      "Layer307 frozen: <class 'torch.nn.parameter.Parameter'> torch.Size([1024])\n",
      "Layer308 frozen: <class 'torch.nn.parameter.Parameter'> torch.Size([1024])\n",
      "Layer309 frozen: <class 'torch.nn.parameter.Parameter'> torch.Size([256, 1024, 1, 1])\n",
      "Layer310 frozen: <class 'torch.nn.parameter.Parameter'> torch.Size([256])\n",
      "Layer311 frozen: <class 'torch.nn.parameter.Parameter'> torch.Size([256])\n",
      "Layer312 frozen: <class 'torch.nn.parameter.Parameter'> torch.Size([256, 256, 3, 3])\n",
      "Layer313 frozen: <class 'torch.nn.parameter.Parameter'> torch.Size([256])\n",
      "Layer314 frozen: <class 'torch.nn.parameter.Parameter'> torch.Size([256])\n",
      "Layer315 frozen: <class 'torch.nn.parameter.Parameter'> torch.Size([1024, 256, 1, 1])\n",
      "Layer316 frozen: <class 'torch.nn.parameter.Parameter'> torch.Size([1024])\n",
      "Layer317 frozen: <class 'torch.nn.parameter.Parameter'> torch.Size([1024])\n",
      "Layer318 frozen: <class 'torch.nn.parameter.Parameter'> torch.Size([256, 1024, 1, 1])\n",
      "Layer319 frozen: <class 'torch.nn.parameter.Parameter'> torch.Size([256])\n",
      "Layer320 frozen: <class 'torch.nn.parameter.Parameter'> torch.Size([256])\n",
      "Layer321 frozen: <class 'torch.nn.parameter.Parameter'> torch.Size([256, 256, 3, 3])\n",
      "Layer322 frozen: <class 'torch.nn.parameter.Parameter'> torch.Size([256])\n",
      "Layer323 frozen: <class 'torch.nn.parameter.Parameter'> torch.Size([256])\n",
      "Layer324 frozen: <class 'torch.nn.parameter.Parameter'> torch.Size([1024, 256, 1, 1])\n",
      "Layer325 frozen: <class 'torch.nn.parameter.Parameter'> torch.Size([1024])\n",
      "Layer326 frozen: <class 'torch.nn.parameter.Parameter'> torch.Size([1024])\n",
      "Layer327 frozen: <class 'torch.nn.parameter.Parameter'> torch.Size([256, 1024, 1, 1])\n",
      "Layer328 frozen: <class 'torch.nn.parameter.Parameter'> torch.Size([256])\n",
      "Layer329 frozen: <class 'torch.nn.parameter.Parameter'> torch.Size([256])\n",
      "Layer330 frozen: <class 'torch.nn.parameter.Parameter'> torch.Size([256, 256, 3, 3])\n",
      "Layer331 frozen: <class 'torch.nn.parameter.Parameter'> torch.Size([256])\n",
      "Layer332 frozen: <class 'torch.nn.parameter.Parameter'> torch.Size([256])\n",
      "Layer333 frozen: <class 'torch.nn.parameter.Parameter'> torch.Size([1024, 256, 1, 1])\n",
      "Layer334 frozen: <class 'torch.nn.parameter.Parameter'> torch.Size([1024])\n",
      "Layer335 frozen: <class 'torch.nn.parameter.Parameter'> torch.Size([1024])\n",
      "Layer336 frozen: <class 'torch.nn.parameter.Parameter'> torch.Size([256, 1024, 1, 1])\n",
      "Layer337 frozen: <class 'torch.nn.parameter.Parameter'> torch.Size([256])\n",
      "Layer338 frozen: <class 'torch.nn.parameter.Parameter'> torch.Size([256])\n",
      "Layer339 frozen: <class 'torch.nn.parameter.Parameter'> torch.Size([256, 256, 3, 3])\n",
      "Layer340 frozen: <class 'torch.nn.parameter.Parameter'> torch.Size([256])\n",
      "Layer341 frozen: <class 'torch.nn.parameter.Parameter'> torch.Size([256])\n",
      "Layer342 frozen: <class 'torch.nn.parameter.Parameter'> torch.Size([1024, 256, 1, 1])\n",
      "Layer343 frozen: <class 'torch.nn.parameter.Parameter'> torch.Size([1024])\n",
      "Layer344 frozen: <class 'torch.nn.parameter.Parameter'> torch.Size([1024])\n",
      "Layer345 frozen: <class 'torch.nn.parameter.Parameter'> torch.Size([256, 1024, 1, 1])\n",
      "Layer346 frozen: <class 'torch.nn.parameter.Parameter'> torch.Size([256])\n",
      "Layer347 frozen: <class 'torch.nn.parameter.Parameter'> torch.Size([256])\n",
      "Layer348 frozen: <class 'torch.nn.parameter.Parameter'> torch.Size([256, 256, 3, 3])\n",
      "Layer349 frozen: <class 'torch.nn.parameter.Parameter'> torch.Size([256])\n",
      "Layer350 frozen: <class 'torch.nn.parameter.Parameter'> torch.Size([256])\n",
      "Layer351 frozen: <class 'torch.nn.parameter.Parameter'> torch.Size([1024, 256, 1, 1])\n",
      "Layer352 frozen: <class 'torch.nn.parameter.Parameter'> torch.Size([1024])\n",
      "Layer353 frozen: <class 'torch.nn.parameter.Parameter'> torch.Size([1024])\n",
      "Layer354 frozen: <class 'torch.nn.parameter.Parameter'> torch.Size([256, 1024, 1, 1])\n",
      "Layer355 frozen: <class 'torch.nn.parameter.Parameter'> torch.Size([256])\n",
      "Layer356 frozen: <class 'torch.nn.parameter.Parameter'> torch.Size([256])\n",
      "Layer357 frozen: <class 'torch.nn.parameter.Parameter'> torch.Size([256, 256, 3, 3])\n",
      "Layer358 frozen: <class 'torch.nn.parameter.Parameter'> torch.Size([256])\n",
      "Layer359 frozen: <class 'torch.nn.parameter.Parameter'> torch.Size([256])\n",
      "Layer360 frozen: <class 'torch.nn.parameter.Parameter'> torch.Size([1024, 256, 1, 1])\n",
      "Layer361 frozen: <class 'torch.nn.parameter.Parameter'> torch.Size([1024])\n",
      "Layer362 frozen: <class 'torch.nn.parameter.Parameter'> torch.Size([1024])\n",
      "Layer363 frozen: <class 'torch.nn.parameter.Parameter'> torch.Size([256, 1024, 1, 1])\n",
      "Layer364 frozen: <class 'torch.nn.parameter.Parameter'> torch.Size([256])\n",
      "Layer365 frozen: <class 'torch.nn.parameter.Parameter'> torch.Size([256])\n",
      "Layer366 frozen: <class 'torch.nn.parameter.Parameter'> torch.Size([256, 256, 3, 3])\n",
      "Layer367 frozen: <class 'torch.nn.parameter.Parameter'> torch.Size([256])\n",
      "Layer368 frozen: <class 'torch.nn.parameter.Parameter'> torch.Size([256])\n",
      "Layer369 frozen: <class 'torch.nn.parameter.Parameter'> torch.Size([1024, 256, 1, 1])\n",
      "Layer370 frozen: <class 'torch.nn.parameter.Parameter'> torch.Size([1024])\n",
      "Layer371 frozen: <class 'torch.nn.parameter.Parameter'> torch.Size([1024])\n",
      "Layer372 frozen: <class 'torch.nn.parameter.Parameter'> torch.Size([256, 1024, 1, 1])\n",
      "Layer373 frozen: <class 'torch.nn.parameter.Parameter'> torch.Size([256])\n",
      "Layer374 frozen: <class 'torch.nn.parameter.Parameter'> torch.Size([256])\n",
      "Layer375 frozen: <class 'torch.nn.parameter.Parameter'> torch.Size([256, 256, 3, 3])\n",
      "Layer376 frozen: <class 'torch.nn.parameter.Parameter'> torch.Size([256])\n",
      "Layer377 frozen: <class 'torch.nn.parameter.Parameter'> torch.Size([256])\n",
      "Layer378 frozen: <class 'torch.nn.parameter.Parameter'> torch.Size([1024, 256, 1, 1])\n",
      "Layer379 frozen: <class 'torch.nn.parameter.Parameter'> torch.Size([1024])\n",
      "Layer380 frozen: <class 'torch.nn.parameter.Parameter'> torch.Size([1024])\n",
      "Layer381 frozen: <class 'torch.nn.parameter.Parameter'> torch.Size([256, 1024, 1, 1])\n",
      "Layer382 frozen: <class 'torch.nn.parameter.Parameter'> torch.Size([256])\n",
      "Layer383 frozen: <class 'torch.nn.parameter.Parameter'> torch.Size([256])\n",
      "Layer384 frozen: <class 'torch.nn.parameter.Parameter'> torch.Size([256, 256, 3, 3])\n",
      "Layer385 frozen: <class 'torch.nn.parameter.Parameter'> torch.Size([256])\n",
      "Layer386 frozen: <class 'torch.nn.parameter.Parameter'> torch.Size([256])\n",
      "Layer387 frozen: <class 'torch.nn.parameter.Parameter'> torch.Size([1024, 256, 1, 1])\n",
      "Layer388 frozen: <class 'torch.nn.parameter.Parameter'> torch.Size([1024])\n",
      "Layer389 frozen: <class 'torch.nn.parameter.Parameter'> torch.Size([1024])\n",
      "Layer390 frozen: <class 'torch.nn.parameter.Parameter'> torch.Size([256, 1024, 1, 1])\n",
      "Layer391 frozen: <class 'torch.nn.parameter.Parameter'> torch.Size([256])\n",
      "Layer392 frozen: <class 'torch.nn.parameter.Parameter'> torch.Size([256])\n",
      "Layer393 frozen: <class 'torch.nn.parameter.Parameter'> torch.Size([256, 256, 3, 3])\n",
      "Layer394 frozen: <class 'torch.nn.parameter.Parameter'> torch.Size([256])\n",
      "Layer395 frozen: <class 'torch.nn.parameter.Parameter'> torch.Size([256])\n",
      "Layer396 frozen: <class 'torch.nn.parameter.Parameter'> torch.Size([1024, 256, 1, 1])\n",
      "Layer397 frozen: <class 'torch.nn.parameter.Parameter'> torch.Size([1024])\n",
      "Layer398 frozen: <class 'torch.nn.parameter.Parameter'> torch.Size([1024])\n",
      "Layer399 frozen: <class 'torch.nn.parameter.Parameter'> torch.Size([256, 1024, 1, 1])\n",
      "Layer400 frozen: <class 'torch.nn.parameter.Parameter'> torch.Size([256])\n",
      "Layer401 frozen: <class 'torch.nn.parameter.Parameter'> torch.Size([256])\n",
      "Layer402 frozen: <class 'torch.nn.parameter.Parameter'> torch.Size([256, 256, 3, 3])\n",
      "Layer403 frozen: <class 'torch.nn.parameter.Parameter'> torch.Size([256])\n",
      "Layer404 frozen: <class 'torch.nn.parameter.Parameter'> torch.Size([256])\n",
      "Layer405 frozen: <class 'torch.nn.parameter.Parameter'> torch.Size([1024, 256, 1, 1])\n",
      "Layer406 frozen: <class 'torch.nn.parameter.Parameter'> torch.Size([1024])\n",
      "Layer407 frozen: <class 'torch.nn.parameter.Parameter'> torch.Size([1024])\n",
      "Layer408 frozen: <class 'torch.nn.parameter.Parameter'> torch.Size([256, 1024, 1, 1])\n",
      "Layer409 frozen: <class 'torch.nn.parameter.Parameter'> torch.Size([256])\n",
      "Layer410 frozen: <class 'torch.nn.parameter.Parameter'> torch.Size([256])\n",
      "Layer411 frozen: <class 'torch.nn.parameter.Parameter'> torch.Size([256, 256, 3, 3])\n",
      "Layer412 frozen: <class 'torch.nn.parameter.Parameter'> torch.Size([256])\n",
      "Layer413 frozen: <class 'torch.nn.parameter.Parameter'> torch.Size([256])\n",
      "Layer414 frozen: <class 'torch.nn.parameter.Parameter'> torch.Size([1024, 256, 1, 1])\n",
      "Layer415 frozen: <class 'torch.nn.parameter.Parameter'> torch.Size([1024])\n",
      "Layer416 frozen: <class 'torch.nn.parameter.Parameter'> torch.Size([1024])\n",
      "Layer417 frozen: <class 'torch.nn.parameter.Parameter'> torch.Size([256, 1024, 1, 1])\n",
      "Layer418 frozen: <class 'torch.nn.parameter.Parameter'> torch.Size([256])\n",
      "Layer419 frozen: <class 'torch.nn.parameter.Parameter'> torch.Size([256])\n",
      "Layer420 frozen: <class 'torch.nn.parameter.Parameter'> torch.Size([256, 256, 3, 3])\n",
      "Layer421 frozen: <class 'torch.nn.parameter.Parameter'> torch.Size([256])\n",
      "Layer422 frozen: <class 'torch.nn.parameter.Parameter'> torch.Size([256])\n",
      "Layer423 frozen: <class 'torch.nn.parameter.Parameter'> torch.Size([1024, 256, 1, 1])\n",
      "Layer424 frozen: <class 'torch.nn.parameter.Parameter'> torch.Size([1024])\n",
      "Layer425 frozen: <class 'torch.nn.parameter.Parameter'> torch.Size([1024])\n",
      "Layer426 frozen: <class 'torch.nn.parameter.Parameter'> torch.Size([256, 1024, 1, 1])\n",
      "Layer427 frozen: <class 'torch.nn.parameter.Parameter'> torch.Size([256])\n",
      "Layer428 frozen: <class 'torch.nn.parameter.Parameter'> torch.Size([256])\n",
      "Layer429 frozen: <class 'torch.nn.parameter.Parameter'> torch.Size([256, 256, 3, 3])\n",
      "Layer430 frozen: <class 'torch.nn.parameter.Parameter'> torch.Size([256])\n",
      "Layer431 frozen: <class 'torch.nn.parameter.Parameter'> torch.Size([256])\n",
      "Layer432 frozen: <class 'torch.nn.parameter.Parameter'> torch.Size([1024, 256, 1, 1])\n",
      "Layer433 frozen: <class 'torch.nn.parameter.Parameter'> torch.Size([1024])\n",
      "Layer434 frozen: <class 'torch.nn.parameter.Parameter'> torch.Size([1024])\n",
      "Layer435 frozen: <class 'torch.nn.parameter.Parameter'> torch.Size([512, 1024, 1, 1])\n",
      "Layer436 frozen: <class 'torch.nn.parameter.Parameter'> torch.Size([512])\n",
      "Layer437 frozen: <class 'torch.nn.parameter.Parameter'> torch.Size([512])\n",
      "Layer438 frozen: <class 'torch.nn.parameter.Parameter'> torch.Size([512, 512, 3, 3])\n",
      "Layer439 frozen: <class 'torch.nn.parameter.Parameter'> torch.Size([512])\n",
      "Layer440 frozen: <class 'torch.nn.parameter.Parameter'> torch.Size([512])\n",
      "Layer441 frozen: <class 'torch.nn.parameter.Parameter'> torch.Size([2048, 512, 1, 1])\n",
      "Layer442 frozen: <class 'torch.nn.parameter.Parameter'> torch.Size([2048])\n",
      "Layer443 frozen: <class 'torch.nn.parameter.Parameter'> torch.Size([2048])\n",
      "Layer444 frozen: <class 'torch.nn.parameter.Parameter'> torch.Size([2048, 1024, 1, 1])\n",
      "Layer445 frozen: <class 'torch.nn.parameter.Parameter'> torch.Size([2048])\n",
      "Layer446 frozen: <class 'torch.nn.parameter.Parameter'> torch.Size([2048])\n",
      "Layer447 frozen: <class 'torch.nn.parameter.Parameter'> torch.Size([512, 2048, 1, 1])\n",
      "Layer448 frozen: <class 'torch.nn.parameter.Parameter'> torch.Size([512])\n",
      "Layer449 frozen: <class 'torch.nn.parameter.Parameter'> torch.Size([512])\n",
      "Layer450 frozen: <class 'torch.nn.parameter.Parameter'> torch.Size([512, 512, 3, 3])\n",
      "Layer451 frozen: <class 'torch.nn.parameter.Parameter'> torch.Size([512])\n",
      "Layer452 frozen: <class 'torch.nn.parameter.Parameter'> torch.Size([512])\n",
      "Layer453 frozen: <class 'torch.nn.parameter.Parameter'> torch.Size([2048, 512, 1, 1])\n",
      "Layer454 frozen: <class 'torch.nn.parameter.Parameter'> torch.Size([2048])\n",
      "Layer455 frozen: <class 'torch.nn.parameter.Parameter'> torch.Size([2048])\n",
      "Layer456 frozen: <class 'torch.nn.parameter.Parameter'> torch.Size([512, 2048, 1, 1])\n",
      "Layer457 frozen: <class 'torch.nn.parameter.Parameter'> torch.Size([512])\n",
      "Layer458 frozen: <class 'torch.nn.parameter.Parameter'> torch.Size([512])\n",
      "Layer459 frozen: <class 'torch.nn.parameter.Parameter'> torch.Size([512, 512, 3, 3])\n",
      "Layer460 frozen: <class 'torch.nn.parameter.Parameter'> torch.Size([512])\n",
      "Layer461 frozen: <class 'torch.nn.parameter.Parameter'> torch.Size([512])\n",
      "Layer462 frozen: <class 'torch.nn.parameter.Parameter'> torch.Size([2048, 512, 1, 1])\n",
      "Layer463 frozen: <class 'torch.nn.parameter.Parameter'> torch.Size([2048])\n",
      "Layer464 frozen: <class 'torch.nn.parameter.Parameter'> torch.Size([2048])\n",
      "Layer465 not frozen <class 'torch.nn.parameter.Parameter'> torch.Size([1024, 2048])\n",
      "Layer466 not frozen <class 'torch.nn.parameter.Parameter'> torch.Size([1024])\n",
      "Layer467 not frozen <class 'torch.nn.parameter.Parameter'> torch.Size([512, 1024])\n",
      "Layer468 not frozen <class 'torch.nn.parameter.Parameter'> torch.Size([512])\n",
      "Layer469 not frozen <class 'torch.nn.parameter.Parameter'> torch.Size([64, 512])\n",
      "Layer470 not frozen <class 'torch.nn.parameter.Parameter'> torch.Size([64])\n",
      "Layer471 not frozen <class 'torch.nn.parameter.Parameter'> torch.Size([6, 64])\n",
      "Layer472 not frozen <class 'torch.nn.parameter.Parameter'> torch.Size([6])\n"
     ]
    }
   ],
   "source": [
    "import torchvision.models as models\n",
    "model_name = 'resnet152'\n",
    "model = models.resnet152(pretrained=True)\n",
    "model.fc = nn.Sequential(\n",
    "    nn.Linear(in_features=2048, out_features=1024, bias=True),\n",
    "    nn.ReLU(),\n",
    "    nn.Linear(1024, 512),\n",
    "    nn.ReLU(),\n",
    "    nn.Linear(512, 64),\n",
    "    nn.ReLU(),\n",
    "    nn.Linear(64,6),\n",
    "    nn.Softmax(dim=1),    \n",
    "    )\n",
    "\n",
    "for i, param in enumerate(model.parameters()):\n",
    "    if i < 465:\n",
    "      print(f'Layer{i} frozen:', type(param), param.size())\n",
    "      param.requires_grad = False\n",
    "    else: \n",
    "      print(f'Layer{i} not frozen', type(param), param.size())\n",
    "      param.requires_grad = True\n",
    "\n",
    "\n",
    "device = torch.device(\"cuda\" if torch.cuda.is_available() else \"cpu\")\n",
    "model = model.cuda()\n",
    "optimizer = torch.optim.Adam(model.parameters(), lr = learning_rate)\n",
    "loss_metric = nn.CrossEntropyLoss()"
   ]
  },
  {
   "cell_type": "code",
   "execution_count": 8,
   "metadata": {
    "scrolled": true
   },
   "outputs": [
    {
     "name": "stderr",
     "output_type": "stream",
     "text": [
      "97it [00:45,  2.11it/s]\n"
     ]
    },
    {
     "name": "stdout",
     "output_type": "stream",
     "text": [
      "Epoch: 0, Train Loss: 1.748520582388247, Train Acc: 0.26998963952064514\n",
      "Saved new best model.\n"
     ]
    },
    {
     "name": "stderr",
     "output_type": "stream",
     "text": [
      "\r",
      "0it [00:00, ?it/s]"
     ]
    },
    {
     "name": "stdout",
     "output_type": "stream",
     "text": [
      "Epoch: 0, Val Loss: 1.7276385705248058, Val Acc: 0.2949640452861786\n"
     ]
    },
    {
     "name": "stderr",
     "output_type": "stream",
     "text": [
      "97it [00:19,  4.87it/s]\n"
     ]
    },
    {
     "name": "stdout",
     "output_type": "stream",
     "text": [
      "Epoch: 1, Train Loss: 1.6576203185821248, Train Acc: 0.39667707681655884\n",
      "Saved new best model.\n"
     ]
    },
    {
     "name": "stderr",
     "output_type": "stream",
     "text": [
      "\r",
      "0it [00:00, ?it/s]"
     ]
    },
    {
     "name": "stdout",
     "output_type": "stream",
     "text": [
      "Epoch: 1, Val Loss: 1.6622271417713852, Val Acc: 0.3741007149219513\n"
     ]
    },
    {
     "name": "stderr",
     "output_type": "stream",
     "text": [
      "97it [00:19,  4.94it/s]\n"
     ]
    },
    {
     "name": "stdout",
     "output_type": "stream",
     "text": [
      "Epoch: 2, Train Loss: 1.6083789645449518, Train Acc: 0.4340602457523346\n",
      "Saved new best model.\n"
     ]
    },
    {
     "name": "stderr",
     "output_type": "stream",
     "text": [
      "\r",
      "0it [00:00, ?it/s]"
     ]
    },
    {
     "name": "stdout",
     "output_type": "stream",
     "text": [
      "Epoch: 2, Val Loss: 1.6063733666920834, Val Acc: 0.4460431635379791\n"
     ]
    },
    {
     "name": "stderr",
     "output_type": "stream",
     "text": [
      "97it [00:19,  4.93it/s]\n"
     ]
    },
    {
     "name": "stdout",
     "output_type": "stream",
     "text": [
      "Epoch: 3, Train Loss: 1.5865592876079793, Train Acc: 0.45379024744033813\n",
      "Saved new best model.\n"
     ]
    },
    {
     "name": "stderr",
     "output_type": "stream",
     "text": [
      "\r",
      "0it [00:00, ?it/s]"
     ]
    },
    {
     "name": "stdout",
     "output_type": "stream",
     "text": [
      "Epoch: 3, Val Loss: 1.5846968494730889, Val Acc: 0.47482016682624817\n"
     ]
    },
    {
     "name": "stderr",
     "output_type": "stream",
     "text": [
      "97it [00:19,  4.90it/s]\n"
     ]
    },
    {
     "name": "stdout",
     "output_type": "stream",
     "text": [
      "Epoch: 4, Train Loss: 1.538822551135086, Train Acc: 0.5223261117935181\n",
      "Saved new best model.\n"
     ]
    },
    {
     "name": "stderr",
     "output_type": "stream",
     "text": [
      "\r",
      "0it [00:00, ?it/s]"
     ]
    },
    {
     "name": "stdout",
     "output_type": "stream",
     "text": [
      "Epoch: 4, Val Loss: 1.5504894556759072, Val Acc: 0.49640288949012756\n"
     ]
    },
    {
     "name": "stderr",
     "output_type": "stream",
     "text": [
      "97it [00:19,  4.99it/s]\n"
     ]
    },
    {
     "name": "stdout",
     "output_type": "stream",
     "text": [
      "Epoch: 5, Train Loss: 1.5310191329518335, Train Acc: 0.5067497491836548\n"
     ]
    },
    {
     "name": "stderr",
     "output_type": "stream",
     "text": [
      "\r",
      "0it [00:00, ?it/s]"
     ]
    },
    {
     "name": "stdout",
     "output_type": "stream",
     "text": [
      "Epoch: 5, Val Loss: 1.555440833242677, Val Acc: 0.4892086386680603\n"
     ]
    },
    {
     "name": "stderr",
     "output_type": "stream",
     "text": [
      "97it [00:19,  5.04it/s]\n"
     ]
    },
    {
     "name": "stdout",
     "output_type": "stream",
     "text": [
      "Epoch: 6, Train Loss: 1.5159394127062424, Train Acc: 0.5285566449165344\n"
     ]
    },
    {
     "name": "stderr",
     "output_type": "stream",
     "text": [
      "\r",
      "0it [00:00, ?it/s]"
     ]
    },
    {
     "name": "stdout",
     "output_type": "stream",
     "text": [
      "Epoch: 6, Val Loss: 1.5579397712680076, Val Acc: 0.47482016682624817\n"
     ]
    },
    {
     "name": "stderr",
     "output_type": "stream",
     "text": [
      "97it [00:18,  5.11it/s]\n"
     ]
    },
    {
     "name": "stdout",
     "output_type": "stream",
     "text": [
      "Epoch: 7, Train Loss: 1.498859375065361, Train Acc: 0.5430945158004761\n"
     ]
    },
    {
     "name": "stderr",
     "output_type": "stream",
     "text": [
      "\r",
      "0it [00:00, ?it/s]"
     ]
    },
    {
     "name": "stdout",
     "output_type": "stream",
     "text": [
      "Epoch: 7, Val Loss: 1.5282919518381572, Val Acc: 0.49640288949012756\n"
     ]
    },
    {
     "name": "stderr",
     "output_type": "stream",
     "text": [
      "97it [00:18,  5.23it/s]\n"
     ]
    },
    {
     "name": "stdout",
     "output_type": "stream",
     "text": [
      "Epoch: 8, Train Loss: 1.4879793864544306, Train Acc: 0.5545171499252319\n"
     ]
    },
    {
     "name": "stderr",
     "output_type": "stream",
     "text": [
      "\r",
      "0it [00:00, ?it/s]"
     ]
    },
    {
     "name": "stdout",
     "output_type": "stream",
     "text": [
      "Epoch: 8, Val Loss: 1.5492112662294786, Val Acc: 0.49640288949012756\n"
     ]
    },
    {
     "name": "stderr",
     "output_type": "stream",
     "text": [
      "97it [00:18,  5.23it/s]\n"
     ]
    },
    {
     "name": "stdout",
     "output_type": "stream",
     "text": [
      "Epoch: 9, Train Loss: 1.4801316011236711, Train Acc: 0.5565940141677856\n"
     ]
    },
    {
     "name": "stderr",
     "output_type": "stream",
     "text": [
      "\r",
      "0it [00:00, ?it/s]"
     ]
    },
    {
     "name": "stdout",
     "output_type": "stream",
     "text": [
      "Epoch: 9, Val Loss: 1.5204931300321072, Val Acc: 0.49640288949012756\n"
     ]
    },
    {
     "name": "stderr",
     "output_type": "stream",
     "text": [
      "97it [00:18,  5.23it/s]\n"
     ]
    },
    {
     "name": "stdout",
     "output_type": "stream",
     "text": [
      "Epoch: 10, Train Loss: 1.4728436718848636, Train Acc: 0.5721703171730042\n",
      "Saved new best model.\n"
     ]
    },
    {
     "name": "stderr",
     "output_type": "stream",
     "text": [
      "\r",
      "0it [00:00, ?it/s]"
     ]
    },
    {
     "name": "stdout",
     "output_type": "stream",
     "text": [
      "Epoch: 10, Val Loss: 1.4800621296862047, Val Acc: 0.5827338099479675\n"
     ]
    },
    {
     "name": "stderr",
     "output_type": "stream",
     "text": [
      "97it [00:18,  5.16it/s]\n"
     ]
    },
    {
     "name": "stdout",
     "output_type": "stream",
     "text": [
      "Epoch: 11, Train Loss: 1.4480433244942876, Train Acc: 0.5991693139076233\n"
     ]
    },
    {
     "name": "stderr",
     "output_type": "stream",
     "text": [
      "\r",
      "0it [00:00, ?it/s]"
     ]
    },
    {
     "name": "stdout",
     "output_type": "stream",
     "text": [
      "Epoch: 11, Val Loss: 1.4767346450750776, Val Acc: 0.5755395889282227\n"
     ]
    },
    {
     "name": "stderr",
     "output_type": "stream",
     "text": [
      "97it [00:18,  5.22it/s]\n"
     ]
    },
    {
     "name": "stdout",
     "output_type": "stream",
     "text": [
      "Epoch: 12, Train Loss: 1.4194076371960427, Train Acc: 0.6313603520393372\n",
      "Saved new best model.\n"
     ]
    },
    {
     "name": "stderr",
     "output_type": "stream",
     "text": [
      "\r",
      "0it [00:00, ?it/s]"
     ]
    },
    {
     "name": "stdout",
     "output_type": "stream",
     "text": [
      "Epoch: 12, Val Loss: 1.4043939705375288, Val Acc: 0.6546762585639954\n"
     ]
    },
    {
     "name": "stderr",
     "output_type": "stream",
     "text": [
      "97it [00:19,  4.96it/s]\n"
     ]
    },
    {
     "name": "stdout",
     "output_type": "stream",
     "text": [
      "Epoch: 13, Train Loss: 1.3779187963759045, Train Acc: 0.6791277527809143\n",
      "Saved new best model.\n"
     ]
    },
    {
     "name": "stderr",
     "output_type": "stream",
     "text": [
      "\r",
      "0it [00:00, ?it/s]"
     ]
    },
    {
     "name": "stdout",
     "output_type": "stream",
     "text": [
      "Epoch: 13, Val Loss: 1.3760456464273467, Val Acc: 0.6762589812278748\n"
     ]
    },
    {
     "name": "stderr",
     "output_type": "stream",
     "text": [
      "97it [00:19,  5.01it/s]\n"
     ]
    },
    {
     "name": "stdout",
     "output_type": "stream",
     "text": [
      "Epoch: 14, Train Loss: 1.3788366138254247, Train Acc: 0.6708203554153442\n",
      "Saved new best model.\n"
     ]
    },
    {
     "name": "stderr",
     "output_type": "stream",
     "text": [
      "\r",
      "0it [00:00, ?it/s]"
     ]
    },
    {
     "name": "stdout",
     "output_type": "stream",
     "text": [
      "Epoch: 14, Val Loss: 1.352962710016923, Val Acc: 0.6978417634963989\n"
     ]
    },
    {
     "name": "stderr",
     "output_type": "stream",
     "text": [
      "97it [00:19,  4.98it/s]\n"
     ]
    },
    {
     "name": "stdout",
     "output_type": "stream",
     "text": [
      "Epoch: 15, Train Loss: 1.384452099493112, Train Acc: 0.672897219657898\n",
      "Saved new best model.\n"
     ]
    },
    {
     "name": "stderr",
     "output_type": "stream",
     "text": [
      "\r",
      "0it [00:00, ?it/s]"
     ]
    },
    {
     "name": "stdout",
     "output_type": "stream",
     "text": [
      "Epoch: 15, Val Loss: 1.3500090194263046, Val Acc: 0.7050359845161438\n"
     ]
    },
    {
     "name": "stderr",
     "output_type": "stream",
     "text": [
      "97it [00:18,  5.11it/s]\n"
     ]
    },
    {
     "name": "stdout",
     "output_type": "stream",
     "text": [
      "Epoch: 16, Train Loss: 1.3460458474986154, Train Acc: 0.7071651220321655\n"
     ]
    },
    {
     "name": "stderr",
     "output_type": "stream",
     "text": [
      "\r",
      "0it [00:00, ?it/s]"
     ]
    },
    {
     "name": "stdout",
     "output_type": "stream",
     "text": [
      "Epoch: 16, Val Loss: 1.3650391427733057, Val Acc: 0.6906474828720093\n"
     ]
    },
    {
     "name": "stderr",
     "output_type": "stream",
     "text": [
      "97it [00:18,  5.13it/s]\n"
     ]
    },
    {
     "name": "stdout",
     "output_type": "stream",
     "text": [
      "Epoch: 17, Train Loss: 1.331483970921359, Train Acc: 0.721703052520752\n",
      "Saved new best model.\n"
     ]
    },
    {
     "name": "stderr",
     "output_type": "stream",
     "text": [
      "\r",
      "0it [00:00, ?it/s]"
     ]
    },
    {
     "name": "stdout",
     "output_type": "stream",
     "text": [
      "Epoch: 17, Val Loss: 1.2939059802954145, Val Acc: 0.7625899314880371\n"
     ]
    },
    {
     "name": "stderr",
     "output_type": "stream",
     "text": [
      "97it [00:19,  5.10it/s]\n"
     ]
    },
    {
     "name": "stdout",
     "output_type": "stream",
     "text": [
      "Epoch: 18, Train Loss: 1.3188686805350758, Train Acc: 0.7258567214012146\n"
     ]
    },
    {
     "name": "stderr",
     "output_type": "stream",
     "text": [
      "\r",
      "0it [00:00, ?it/s]"
     ]
    },
    {
     "name": "stdout",
     "output_type": "stream",
     "text": [
      "Epoch: 18, Val Loss: 1.3327940839657682, Val Acc: 0.7410072088241577\n"
     ]
    },
    {
     "name": "stderr",
     "output_type": "stream",
     "text": [
      "97it [00:19,  5.08it/s]\n"
     ]
    },
    {
     "name": "stdout",
     "output_type": "stream",
     "text": [
      "Epoch: 19, Train Loss: 1.3283489363215795, Train Acc: 0.7237798571586609\n"
     ]
    },
    {
     "name": "stderr",
     "output_type": "stream",
     "text": [
      "\r",
      "0it [00:00, ?it/s]"
     ]
    },
    {
     "name": "stdout",
     "output_type": "stream",
     "text": [
      "Epoch: 19, Val Loss: 1.306151785438867, Val Acc: 0.7266187071800232\n"
     ]
    },
    {
     "name": "stderr",
     "output_type": "stream",
     "text": [
      "97it [00:19,  5.06it/s]\n"
     ]
    },
    {
     "name": "stdout",
     "output_type": "stream",
     "text": [
      "Epoch: 20, Train Loss: 1.3184408811022559, Train Acc: 0.7279335856437683\n"
     ]
    },
    {
     "name": "stderr",
     "output_type": "stream",
     "text": [
      "\r",
      "0it [00:00, ?it/s]"
     ]
    },
    {
     "name": "stdout",
     "output_type": "stream",
     "text": [
      "Epoch: 20, Val Loss: 1.3231350706635618, Val Acc: 0.7266187071800232\n"
     ]
    },
    {
     "name": "stderr",
     "output_type": "stream",
     "text": [
      "97it [00:19,  4.90it/s]\n"
     ]
    },
    {
     "name": "stdout",
     "output_type": "stream",
     "text": [
      "Epoch: 21, Train Loss: 1.318409345479274, Train Acc: 0.7352025508880615\n",
      "Saved new best model.\n"
     ]
    },
    {
     "name": "stderr",
     "output_type": "stream",
     "text": [
      "\r",
      "0it [00:00, ?it/s]"
     ]
    },
    {
     "name": "stdout",
     "output_type": "stream",
     "text": [
      "Epoch: 21, Val Loss: 1.2568038213167259, Val Acc: 0.7841726541519165\n"
     ]
    },
    {
     "name": "stderr",
     "output_type": "stream",
     "text": [
      "97it [00:19,  4.95it/s]\n"
     ]
    },
    {
     "name": "stdout",
     "output_type": "stream",
     "text": [
      "Epoch: 22, Train Loss: 1.302758691095489, Train Acc: 0.7466251850128174\n",
      "Saved new best model.\n"
     ]
    },
    {
     "name": "stderr",
     "output_type": "stream",
     "text": [
      "\r",
      "0it [00:00, ?it/s]"
     ]
    },
    {
     "name": "stdout",
     "output_type": "stream",
     "text": [
      "Epoch: 22, Val Loss: 1.2372351301659783, Val Acc: 0.8417266607284546\n"
     ]
    },
    {
     "name": "stderr",
     "output_type": "stream",
     "text": [
      "97it [00:19,  4.98it/s]\n"
     ]
    },
    {
     "name": "stdout",
     "output_type": "stream",
     "text": [
      "Epoch: 23, Train Loss: 1.2924943294604372, Train Acc: 0.7642783522605896\n"
     ]
    },
    {
     "name": "stderr",
     "output_type": "stream",
     "text": [
      "\r",
      "0it [00:00, ?it/s]"
     ]
    },
    {
     "name": "stdout",
     "output_type": "stream",
     "text": [
      "Epoch: 23, Val Loss: 1.2435510381520223, Val Acc: 0.8129496574401855\n"
     ]
    },
    {
     "name": "stderr",
     "output_type": "stream",
     "text": [
      "97it [00:19,  4.95it/s]\n"
     ]
    },
    {
     "name": "stdout",
     "output_type": "stream",
     "text": [
      "Epoch: 24, Train Loss: 1.2774458408108134, Train Acc: 0.7767394185066223\n",
      "Saved new best model.\n"
     ]
    },
    {
     "name": "stderr",
     "output_type": "stream",
     "text": [
      "\r",
      "0it [00:00, ?it/s]"
     ]
    },
    {
     "name": "stdout",
     "output_type": "stream",
     "text": [
      "Epoch: 24, Val Loss: 1.2104666035809963, Val Acc: 0.8489208817481995\n"
     ]
    },
    {
     "name": "stderr",
     "output_type": "stream",
     "text": [
      "97it [00:19,  5.01it/s]\n"
     ]
    },
    {
     "name": "stdout",
     "output_type": "stream",
     "text": [
      "Epoch: 25, Train Loss: 1.2643087807721685, Train Acc: 0.7871236205101013\n"
     ]
    },
    {
     "name": "stderr",
     "output_type": "stream",
     "text": [
      "\r",
      "0it [00:00, ?it/s]"
     ]
    },
    {
     "name": "stdout",
     "output_type": "stream",
     "text": [
      "Epoch: 25, Val Loss: 1.2298390882478343, Val Acc: 0.8129496574401855\n"
     ]
    },
    {
     "name": "stderr",
     "output_type": "stream",
     "text": [
      "97it [00:19,  5.01it/s]\n"
     ]
    },
    {
     "name": "stdout",
     "output_type": "stream",
     "text": [
      "Epoch: 26, Train Loss: 1.248822129651641, Train Acc: 0.8110073208808899\n"
     ]
    },
    {
     "name": "stderr",
     "output_type": "stream",
     "text": [
      "\r",
      "0it [00:00, ?it/s]"
     ]
    },
    {
     "name": "stdout",
     "output_type": "stream",
     "text": [
      "Epoch: 26, Val Loss: 1.2193434821615974, Val Acc: 0.8345323801040649\n"
     ]
    },
    {
     "name": "stderr",
     "output_type": "stream",
     "text": [
      "97it [00:19,  5.01it/s]\n"
     ]
    },
    {
     "name": "stdout",
     "output_type": "stream",
     "text": [
      "Epoch: 27, Train Loss: 1.2416765367997151, Train Acc: 0.8058152198791504\n"
     ]
    },
    {
     "name": "stderr",
     "output_type": "stream",
     "text": [
      "\r",
      "0it [00:00, ?it/s]"
     ]
    },
    {
     "name": "stdout",
     "output_type": "stream",
     "text": [
      "Epoch: 27, Val Loss: 1.2655613774018322, Val Acc: 0.8057554364204407\n"
     ]
    },
    {
     "name": "stderr",
     "output_type": "stream",
     "text": [
      "97it [00:19,  5.01it/s]\n"
     ]
    },
    {
     "name": "stdout",
     "output_type": "stream",
     "text": [
      "Epoch: 28, Train Loss: 1.2476626473671426, Train Acc: 0.8047767877578735\n"
     ]
    },
    {
     "name": "stderr",
     "output_type": "stream",
     "text": [
      "\r",
      "0it [00:00, ?it/s]"
     ]
    },
    {
     "name": "stdout",
     "output_type": "stream",
     "text": [
      "Epoch: 28, Val Loss: 1.2538813438346919, Val Acc: 0.7913669347763062\n"
     ]
    },
    {
     "name": "stderr",
     "output_type": "stream",
     "text": [
      "97it [00:19,  5.01it/s]\n"
     ]
    },
    {
     "name": "stdout",
     "output_type": "stream",
     "text": [
      "Epoch: 29, Train Loss: 1.2251947114276984, Train Acc: 0.8265836238861084\n"
     ]
    },
    {
     "name": "stderr",
     "output_type": "stream",
     "text": [
      "\r",
      "0it [00:00, ?it/s]"
     ]
    },
    {
     "name": "stdout",
     "output_type": "stream",
     "text": [
      "Epoch: 29, Val Loss: 1.2173755014543053, Val Acc: 0.8345323801040649\n"
     ]
    },
    {
     "name": "stderr",
     "output_type": "stream",
     "text": [
      "97it [00:19,  4.96it/s]\n"
     ]
    },
    {
     "name": "stdout",
     "output_type": "stream",
     "text": [
      "Epoch: 30, Train Loss: 1.2262842525202908, Train Acc: 0.8234683871269226\n"
     ]
    },
    {
     "name": "stderr",
     "output_type": "stream",
     "text": [
      "\r",
      "0it [00:00, ?it/s]"
     ]
    },
    {
     "name": "stdout",
     "output_type": "stream",
     "text": [
      "Epoch: 30, Val Loss: 1.2163119753487677, Val Acc: 0.8345323801040649\n"
     ]
    },
    {
     "name": "stderr",
     "output_type": "stream",
     "text": [
      "97it [00:19,  5.02it/s]\n"
     ]
    },
    {
     "name": "stdout",
     "output_type": "stream",
     "text": [
      "Epoch: 31, Train Loss: 1.2108558425031841, Train Acc: 0.8369678258895874\n"
     ]
    },
    {
     "name": "stderr",
     "output_type": "stream",
     "text": [
      "\r",
      "0it [00:00, ?it/s]"
     ]
    },
    {
     "name": "stdout",
     "output_type": "stream",
     "text": [
      "Epoch: 31, Val Loss: 1.2125561837669756, Val Acc: 0.8201438784599304\n"
     ]
    },
    {
     "name": "stderr",
     "output_type": "stream",
     "text": [
      "97it [00:19,  4.96it/s]\n"
     ]
    },
    {
     "name": "stdout",
     "output_type": "stream",
     "text": [
      "Epoch: 32, Train Loss: 1.2503958445347978, Train Acc: 0.7964693903923035\n"
     ]
    },
    {
     "name": "stderr",
     "output_type": "stream",
     "text": [
      "\r",
      "0it [00:00, ?it/s]"
     ]
    },
    {
     "name": "stdout",
     "output_type": "stream",
     "text": [
      "Epoch: 32, Val Loss: 1.2153366829851548, Val Acc: 0.8201438784599304\n"
     ]
    },
    {
     "name": "stderr",
     "output_type": "stream",
     "text": [
      "97it [00:19,  5.01it/s]\n"
     ]
    },
    {
     "name": "stdout",
     "output_type": "stream",
     "text": [
      "Epoch: 33, Train Loss: 1.2136484034212456, Train Acc: 0.8338525891304016\n"
     ]
    },
    {
     "name": "stderr",
     "output_type": "stream",
     "text": [
      "\r",
      "0it [00:00, ?it/s]"
     ]
    },
    {
     "name": "stdout",
     "output_type": "stream",
     "text": [
      "Epoch: 33, Val Loss: 1.2114979714798413, Val Acc: 0.8417266607284546\n"
     ]
    },
    {
     "name": "stderr",
     "output_type": "stream",
     "text": [
      "97it [00:19,  4.97it/s]\n"
     ]
    },
    {
     "name": "stdout",
     "output_type": "stream",
     "text": [
      "Epoch: 34, Train Loss: 1.2316993307844502, Train Acc: 0.8224299550056458\n"
     ]
    },
    {
     "name": "stderr",
     "output_type": "stream",
     "text": [
      "\r",
      "0it [00:00, ?it/s]"
     ]
    },
    {
     "name": "stdout",
     "output_type": "stream",
     "text": [
      "Epoch: 34, Val Loss: 1.2149990728433184, Val Acc: 0.8201438784599304\n"
     ]
    },
    {
     "name": "stderr",
     "output_type": "stream",
     "text": [
      "97it [00:19,  5.00it/s]\n"
     ]
    },
    {
     "name": "stdout",
     "output_type": "stream",
     "text": [
      "Epoch: 35, Train Loss: 1.2220996912889888, Train Acc: 0.8286604881286621\n"
     ]
    },
    {
     "name": "stderr",
     "output_type": "stream",
     "text": [
      "\r",
      "0it [00:00, ?it/s]"
     ]
    },
    {
     "name": "stdout",
     "output_type": "stream",
     "text": [
      "Epoch: 35, Val Loss: 1.253988958091187, Val Acc: 0.7841726541519165\n"
     ]
    },
    {
     "name": "stderr",
     "output_type": "stream",
     "text": [
      "97it [00:19,  4.94it/s]\n"
     ]
    },
    {
     "name": "stdout",
     "output_type": "stream",
     "text": [
      "Epoch: 36, Train Loss: 1.2091230988378714, Train Acc: 0.8390446901321411\n"
     ]
    },
    {
     "name": "stderr",
     "output_type": "stream",
     "text": [
      "\r",
      "0it [00:00, ?it/s]"
     ]
    },
    {
     "name": "stdout",
     "output_type": "stream",
     "text": [
      "Epoch: 36, Val Loss: 1.2524008442172043, Val Acc: 0.7769784331321716\n"
     ]
    },
    {
     "name": "stderr",
     "output_type": "stream",
     "text": [
      "97it [00:19,  5.01it/s]\n"
     ]
    },
    {
     "name": "stdout",
     "output_type": "stream",
     "text": [
      "Epoch: 37, Train Loss: 1.215357433598361, Train Acc: 0.8380062580108643\n"
     ]
    },
    {
     "name": "stderr",
     "output_type": "stream",
     "text": [
      "\r",
      "0it [00:00, ?it/s]"
     ]
    },
    {
     "name": "stdout",
     "output_type": "stream",
     "text": [
      "Epoch: 37, Val Loss: 1.2234574702146241, Val Acc: 0.8201438784599304\n"
     ]
    },
    {
     "name": "stderr",
     "output_type": "stream",
     "text": [
      "97it [00:19,  5.01it/s]\n"
     ]
    },
    {
     "name": "stdout",
     "output_type": "stream",
     "text": [
      "Epoch: 38, Train Loss: 1.201220026268766, Train Acc: 0.8452752232551575\n"
     ]
    },
    {
     "name": "stderr",
     "output_type": "stream",
     "text": [
      "\r",
      "0it [00:00, ?it/s]"
     ]
    },
    {
     "name": "stdout",
     "output_type": "stream",
     "text": [
      "Epoch: 38, Val Loss: 1.2533209606897917, Val Acc: 0.7913669347763062\n"
     ]
    },
    {
     "name": "stderr",
     "output_type": "stream",
     "text": [
      "97it [00:19,  5.01it/s]\n"
     ]
    },
    {
     "name": "stdout",
     "output_type": "stream",
     "text": [
      "Epoch: 39, Train Loss: 1.2053240785222434, Train Acc: 0.840083122253418\n"
     ]
    },
    {
     "name": "stderr",
     "output_type": "stream",
     "text": [
      "\r",
      "0it [00:00, ?it/s]"
     ]
    },
    {
     "name": "stdout",
     "output_type": "stream",
     "text": [
      "Epoch: 39, Val Loss: 1.2001732544933292, Val Acc: 0.8489208817481995\n"
     ]
    },
    {
     "name": "stderr",
     "output_type": "stream",
     "text": [
      "97it [00:19,  5.01it/s]\n"
     ]
    },
    {
     "name": "stdout",
     "output_type": "stream",
     "text": [
      "Epoch: 40, Train Loss: 1.2100059900699747, Train Acc: 0.8348910212516785\n"
     ]
    },
    {
     "name": "stderr",
     "output_type": "stream",
     "text": [
      "\r",
      "0it [00:00, ?it/s]"
     ]
    },
    {
     "name": "stdout",
     "output_type": "stream",
     "text": [
      "Epoch: 40, Val Loss: 1.2152063160491504, Val Acc: 0.8273381590843201\n"
     ]
    },
    {
     "name": "stderr",
     "output_type": "stream",
     "text": [
      "97it [00:19,  4.97it/s]\n"
     ]
    },
    {
     "name": "stdout",
     "output_type": "stream",
     "text": [
      "Epoch: 41, Train Loss: 1.2044387972862425, Train Acc: 0.8390446901321411\n",
      "Saved new best model.\n"
     ]
    },
    {
     "name": "stderr",
     "output_type": "stream",
     "text": [
      "\r",
      "0it [00:00, ?it/s]"
     ]
    },
    {
     "name": "stdout",
     "output_type": "stream",
     "text": [
      "Epoch: 41, Val Loss: 1.1856371867570945, Val Acc: 0.8561151027679443\n"
     ]
    },
    {
     "name": "stderr",
     "output_type": "stream",
     "text": [
      "97it [00:19,  4.92it/s]\n"
     ]
    },
    {
     "name": "stdout",
     "output_type": "stream",
     "text": [
      "Epoch: 42, Train Loss: 1.199485069123384, Train Acc: 0.8535826206207275\n"
     ]
    },
    {
     "name": "stderr",
     "output_type": "stream",
     "text": [
      "\r",
      "0it [00:00, ?it/s]"
     ]
    },
    {
     "name": "stdout",
     "output_type": "stream",
     "text": [
      "Epoch: 42, Val Loss: 1.2055699756677203, Val Acc: 0.8345323801040649\n"
     ]
    },
    {
     "name": "stderr",
     "output_type": "stream",
     "text": [
      "97it [00:19,  4.88it/s]\n"
     ]
    },
    {
     "name": "stdout",
     "output_type": "stream",
     "text": [
      "Epoch: 43, Train Loss: 1.195919034265655, Train Acc: 0.8515057563781738\n",
      "Saved new best model.\n"
     ]
    },
    {
     "name": "stderr",
     "output_type": "stream",
     "text": [
      "\r",
      "0it [00:00, ?it/s]"
     ]
    },
    {
     "name": "stdout",
     "output_type": "stream",
     "text": [
      "Epoch: 43, Val Loss: 1.1850171295001353, Val Acc: 0.863309383392334\n"
     ]
    },
    {
     "name": "stderr",
     "output_type": "stream",
     "text": [
      "97it [00:20,  4.82it/s]\n"
     ]
    },
    {
     "name": "stdout",
     "output_type": "stream",
     "text": [
      "Epoch: 44, Train Loss: 1.216656651204744, Train Acc: 0.8328141570091248\n"
     ]
    },
    {
     "name": "stderr",
     "output_type": "stream",
     "text": [
      "\r",
      "0it [00:00, ?it/s]"
     ]
    },
    {
     "name": "stdout",
     "output_type": "stream",
     "text": [
      "Epoch: 44, Val Loss: 1.1919609291090383, Val Acc: 0.8489208817481995\n"
     ]
    },
    {
     "name": "stderr",
     "output_type": "stream",
     "text": [
      "97it [00:20,  4.79it/s]\n"
     ]
    },
    {
     "name": "stdout",
     "output_type": "stream",
     "text": [
      "Epoch: 45, Train Loss: 1.1848835531672461, Train Acc: 0.8577362895011902\n",
      "Saved new best model.\n"
     ]
    },
    {
     "name": "stderr",
     "output_type": "stream",
     "text": [
      "\r",
      "0it [00:00, ?it/s]"
     ]
    },
    {
     "name": "stdout",
     "output_type": "stream",
     "text": [
      "Epoch: 45, Val Loss: 1.1659373362287342, Val Acc: 0.9064748287200928\n"
     ]
    },
    {
     "name": "stderr",
     "output_type": "stream",
     "text": [
      "97it [00:19,  4.86it/s]\n"
     ]
    },
    {
     "name": "stdout",
     "output_type": "stream",
     "text": [
      "Epoch: 46, Train Loss: 1.1851203264600887, Train Acc: 0.858774721622467\n"
     ]
    },
    {
     "name": "stderr",
     "output_type": "stream",
     "text": [
      "\r",
      "0it [00:00, ?it/s]"
     ]
    },
    {
     "name": "stdout",
     "output_type": "stream",
     "text": [
      "Epoch: 46, Val Loss: 1.1747351781927424, Val Acc: 0.8705036044120789\n"
     ]
    },
    {
     "name": "stderr",
     "output_type": "stream",
     "text": [
      "97it [00:20,  4.80it/s]\n"
     ]
    },
    {
     "name": "stdout",
     "output_type": "stream",
     "text": [
      "Epoch: 47, Train Loss: 1.1948004499278955, Train Acc: 0.8566978573799133\n",
      "Saved new best model.\n"
     ]
    },
    {
     "name": "stderr",
     "output_type": "stream",
     "text": [
      "\r",
      "0it [00:00, ?it/s]"
     ]
    },
    {
     "name": "stdout",
     "output_type": "stream",
     "text": [
      "Epoch: 47, Val Loss: 1.148371918595952, Val Acc: 0.9136691093444824\n"
     ]
    },
    {
     "name": "stderr",
     "output_type": "stream",
     "text": [
      "97it [00:20,  4.79it/s]\n"
     ]
    },
    {
     "name": "stdout",
     "output_type": "stream",
     "text": [
      "Epoch: 48, Train Loss: 1.170430417001433, Train Acc: 0.879543125629425\n"
     ]
    },
    {
     "name": "stderr",
     "output_type": "stream",
     "text": [
      "\r",
      "0it [00:00, ?it/s]"
     ]
    },
    {
     "name": "stdout",
     "output_type": "stream",
     "text": [
      "Epoch: 48, Val Loss: 1.1727741879524944, Val Acc: 0.8848921060562134\n"
     ]
    },
    {
     "name": "stderr",
     "output_type": "stream",
     "text": [
      "97it [00:20,  4.80it/s]\n"
     ]
    },
    {
     "name": "stdout",
     "output_type": "stream",
     "text": [
      "Epoch: 49, Train Loss: 1.1909200762662562, Train Acc: 0.8598130941390991\n"
     ]
    },
    {
     "name": "stderr",
     "output_type": "stream",
     "text": [
      "\r",
      "0it [00:00, ?it/s]"
     ]
    },
    {
     "name": "stdout",
     "output_type": "stream",
     "text": [
      "Epoch: 49, Val Loss: 1.1849600685586175, Val Acc: 0.8705036044120789\n"
     ]
    },
    {
     "name": "stderr",
     "output_type": "stream",
     "text": [
      "97it [00:20,  4.80it/s]\n"
     ]
    },
    {
     "name": "stdout",
     "output_type": "stream",
     "text": [
      "Epoch: 50, Train Loss: 1.1997023481693843, Train Acc: 0.8546209931373596\n"
     ]
    },
    {
     "name": "stderr",
     "output_type": "stream",
     "text": [
      "\r",
      "0it [00:00, ?it/s]"
     ]
    },
    {
     "name": "stdout",
     "output_type": "stream",
     "text": [
      "Epoch: 50, Val Loss: 1.1510561953345648, Val Acc: 0.9064748287200928\n"
     ]
    },
    {
     "name": "stderr",
     "output_type": "stream",
     "text": [
      "97it [00:20,  4.83it/s]\n"
     ]
    },
    {
     "name": "stdout",
     "output_type": "stream",
     "text": [
      "Epoch: 51, Train Loss: 1.1889326433773972, Train Acc: 0.8515057563781738\n"
     ]
    },
    {
     "name": "stderr",
     "output_type": "stream",
     "text": [
      "\r",
      "0it [00:00, ?it/s]"
     ]
    },
    {
     "name": "stdout",
     "output_type": "stream",
     "text": [
      "Epoch: 51, Val Loss: 1.1553216212087398, Val Acc: 0.8992806077003479\n"
     ]
    },
    {
     "name": "stderr",
     "output_type": "stream",
     "text": [
      "97it [00:20,  4.80it/s]\n"
     ]
    },
    {
     "name": "stdout",
     "output_type": "stream",
     "text": [
      "Epoch: 52, Train Loss: 1.1684407076236492, Train Acc: 0.8857736587524414\n"
     ]
    },
    {
     "name": "stderr",
     "output_type": "stream",
     "text": [
      "\r",
      "0it [00:00, ?it/s]"
     ]
    },
    {
     "name": "stdout",
     "output_type": "stream",
     "text": [
      "Epoch: 52, Val Loss: 1.154135049675866, Val Acc: 0.8992806077003479\n"
     ]
    },
    {
     "name": "stderr",
     "output_type": "stream",
     "text": [
      "97it [00:20,  4.81it/s]\n"
     ]
    },
    {
     "name": "stdout",
     "output_type": "stream",
     "text": [
      "Epoch: 53, Train Loss: 1.1603131358621028, Train Acc: 0.8940810561180115\n",
      "Saved new best model.\n"
     ]
    },
    {
     "name": "stderr",
     "output_type": "stream",
     "text": [
      "1it [00:00,  4.79it/s]"
     ]
    },
    {
     "name": "stdout",
     "output_type": "stream",
     "text": [
      "Epoch: 53, Val Loss: 1.1184429136111582, Val Acc: 0.9208633303642273\n"
     ]
    },
    {
     "name": "stderr",
     "output_type": "stream",
     "text": [
      "97it [00:20,  4.82it/s]\n"
     ]
    },
    {
     "name": "stdout",
     "output_type": "stream",
     "text": [
      "Epoch: 54, Train Loss: 1.140005407179875, Train Acc: 0.90965735912323\n"
     ]
    },
    {
     "name": "stderr",
     "output_type": "stream",
     "text": [
      "\r",
      "0it [00:00, ?it/s]"
     ]
    },
    {
     "name": "stdout",
     "output_type": "stream",
     "text": [
      "Epoch: 54, Val Loss: 1.1626670763646956, Val Acc: 0.8920863270759583\n"
     ]
    },
    {
     "name": "stderr",
     "output_type": "stream",
     "text": [
      "97it [00:20,  4.78it/s]\n"
     ]
    },
    {
     "name": "stdout",
     "output_type": "stream",
     "text": [
      "Epoch: 55, Train Loss: 1.1331603380997481, Train Acc: 0.9179647564888\n"
     ]
    },
    {
     "name": "stderr",
     "output_type": "stream",
     "text": [
      "\r",
      "0it [00:00, ?it/s]"
     ]
    },
    {
     "name": "stdout",
     "output_type": "stream",
     "text": [
      "Epoch: 55, Val Loss: 1.1463827366451564, Val Acc: 0.9064748287200928\n"
     ]
    },
    {
     "name": "stderr",
     "output_type": "stream",
     "text": [
      "97it [00:20,  4.80it/s]\n"
     ]
    },
    {
     "name": "stdout",
     "output_type": "stream",
     "text": [
      "Epoch: 56, Train Loss: 1.1451729102793264, Train Acc: 0.9044652581214905\n"
     ]
    },
    {
     "name": "stderr",
     "output_type": "stream",
     "text": [
      "\r",
      "0it [00:00, ?it/s]"
     ]
    },
    {
     "name": "stdout",
     "output_type": "stream",
     "text": [
      "Epoch: 56, Val Loss: 1.1325110025543104, Val Acc: 0.9208633303642273\n"
     ]
    },
    {
     "name": "stderr",
     "output_type": "stream",
     "text": [
      "97it [00:20,  4.74it/s]\n"
     ]
    },
    {
     "name": "stdout",
     "output_type": "stream",
     "text": [
      "Epoch: 57, Train Loss: 1.1300755116550845, Train Acc: 0.9169263243675232\n"
     ]
    },
    {
     "name": "stderr",
     "output_type": "stream",
     "text": [
      "\r",
      "0it [00:00, ?it/s]"
     ]
    },
    {
     "name": "stdout",
     "output_type": "stream",
     "text": [
      "Epoch: 57, Val Loss: 1.1307849120750701, Val Acc: 0.9136691093444824\n"
     ]
    },
    {
     "name": "stderr",
     "output_type": "stream",
     "text": [
      "97it [00:20,  4.75it/s]\n"
     ]
    },
    {
     "name": "stdout",
     "output_type": "stream",
     "text": [
      "Epoch: 58, Train Loss: 1.1238974408321043, Train Acc: 0.928348958492279\n",
      "Saved new best model.\n"
     ]
    },
    {
     "name": "stderr",
     "output_type": "stream",
     "text": [
      "\r",
      "0it [00:00, ?it/s]"
     ]
    },
    {
     "name": "stdout",
     "output_type": "stream",
     "text": [
      "Epoch: 58, Val Loss: 1.112741171027259, Val Acc: 0.9424460530281067\n"
     ]
    },
    {
     "name": "stderr",
     "output_type": "stream",
     "text": [
      "97it [00:20,  4.79it/s]\n"
     ]
    },
    {
     "name": "stdout",
     "output_type": "stream",
     "text": [
      "Epoch: 59, Train Loss: 1.1205938372408986, Train Acc: 0.9345794916152954\n"
     ]
    },
    {
     "name": "stderr",
     "output_type": "stream",
     "text": [
      "\r",
      "0it [00:00, ?it/s]"
     ]
    },
    {
     "name": "stdout",
     "output_type": "stream",
     "text": [
      "Epoch: 59, Val Loss: 1.1252289101374235, Val Acc: 0.9352518320083618\n"
     ]
    },
    {
     "name": "stderr",
     "output_type": "stream",
     "text": [
      "97it [00:20,  4.82it/s]\n"
     ]
    },
    {
     "name": "stdout",
     "output_type": "stream",
     "text": [
      "Epoch: 60, Train Loss: 1.1238766647449783, Train Acc: 0.9221184253692627\n"
     ]
    },
    {
     "name": "stderr",
     "output_type": "stream",
     "text": [
      "\r",
      "0it [00:00, ?it/s]"
     ]
    },
    {
     "name": "stdout",
     "output_type": "stream",
     "text": [
      "Epoch: 60, Val Loss: 1.1389700345855822, Val Acc: 0.9136691093444824\n"
     ]
    },
    {
     "name": "stderr",
     "output_type": "stream",
     "text": [
      "97it [00:20,  4.83it/s]\n"
     ]
    },
    {
     "name": "stdout",
     "output_type": "stream",
     "text": [
      "Epoch: 61, Train Loss: 1.1112550192532882, Train Acc: 0.9366562962532043\n"
     ]
    },
    {
     "name": "stderr",
     "output_type": "stream",
     "text": [
      "\r",
      "0it [00:00, ?it/s]"
     ]
    },
    {
     "name": "stdout",
     "output_type": "stream",
     "text": [
      "Epoch: 61, Val Loss: 1.1058794337210895, Val Acc: 0.9424460530281067\n"
     ]
    },
    {
     "name": "stderr",
     "output_type": "stream",
     "text": [
      "97it [00:20,  4.80it/s]\n"
     ]
    },
    {
     "name": "stdout",
     "output_type": "stream",
     "text": [
      "Epoch: 62, Train Loss: 1.1211430582054431, Train Acc: 0.9262720942497253\n"
     ]
    },
    {
     "name": "stderr",
     "output_type": "stream",
     "text": [
      "\r",
      "0it [00:00, ?it/s]"
     ]
    },
    {
     "name": "stdout",
     "output_type": "stream",
     "text": [
      "Epoch: 62, Val Loss: 1.1104726165318661, Val Acc: 0.9352518320083618\n"
     ]
    },
    {
     "name": "stderr",
     "output_type": "stream",
     "text": [
      "97it [00:20,  4.79it/s]\n"
     ]
    },
    {
     "name": "stdout",
     "output_type": "stream",
     "text": [
      "Epoch: 63, Train Loss: 1.1153428605288607, Train Acc: 0.9397715926170349\n"
     ]
    },
    {
     "name": "stderr",
     "output_type": "stream",
     "text": [
      "\r",
      "0it [00:00, ?it/s]"
     ]
    },
    {
     "name": "stdout",
     "output_type": "stream",
     "text": [
      "Epoch: 63, Val Loss: 1.106700293451762, Val Acc: 0.9424460530281067\n"
     ]
    },
    {
     "name": "stderr",
     "output_type": "stream",
     "text": [
      "97it [00:20,  4.80it/s]\n"
     ]
    },
    {
     "name": "stdout",
     "output_type": "stream",
     "text": [
      "Epoch: 64, Train Loss: 1.1175585179314065, Train Acc: 0.9325026273727417\n"
     ]
    },
    {
     "name": "stderr",
     "output_type": "stream",
     "text": [
      "\r",
      "0it [00:00, ?it/s]"
     ]
    },
    {
     "name": "stdout",
     "output_type": "stream",
     "text": [
      "Epoch: 64, Val Loss: 1.1280095191310635, Val Acc: 0.9280575513839722\n"
     ]
    },
    {
     "name": "stderr",
     "output_type": "stream",
     "text": [
      "97it [00:20,  4.84it/s]\n"
     ]
    },
    {
     "name": "stdout",
     "output_type": "stream",
     "text": [
      "Epoch: 65, Train Loss: 1.1035483746266193, Train Acc: 0.9491173624992371\n"
     ]
    },
    {
     "name": "stderr",
     "output_type": "stream",
     "text": [
      "\r",
      "0it [00:00, ?it/s]"
     ]
    },
    {
     "name": "stdout",
     "output_type": "stream",
     "text": [
      "Epoch: 65, Val Loss: 1.110601164454179, Val Acc: 0.9352518320083618\n"
     ]
    },
    {
     "name": "stderr",
     "output_type": "stream",
     "text": [
      "97it [00:20,  4.83it/s]\n"
     ]
    },
    {
     "name": "stdout",
     "output_type": "stream",
     "text": [
      "Epoch: 66, Train Loss: 1.0993968736097943, Train Acc: 0.9553478956222534\n"
     ]
    },
    {
     "name": "stderr",
     "output_type": "stream",
     "text": [
      "\r",
      "0it [00:00, ?it/s]"
     ]
    },
    {
     "name": "stdout",
     "output_type": "stream",
     "text": [
      "Epoch: 66, Val Loss: 1.1258537100373411, Val Acc: 0.9208633303642273\n"
     ]
    },
    {
     "name": "stderr",
     "output_type": "stream",
     "text": [
      "97it [00:20,  4.80it/s]\n"
     ]
    },
    {
     "name": "stdout",
     "output_type": "stream",
     "text": [
      "Epoch: 67, Train Loss: 1.0925941479664107, Train Acc: 0.9532710909843445\n"
     ]
    },
    {
     "name": "stderr",
     "output_type": "stream",
     "text": [
      "\r",
      "0it [00:00, ?it/s]"
     ]
    },
    {
     "name": "stdout",
     "output_type": "stream",
     "text": [
      "Epoch: 67, Val Loss: 1.1584046435870712, Val Acc: 0.8776978850364685\n"
     ]
    },
    {
     "name": "stderr",
     "output_type": "stream",
     "text": [
      "97it [00:20,  4.83it/s]\n"
     ]
    },
    {
     "name": "stdout",
     "output_type": "stream",
     "text": [
      "Epoch: 68, Train Loss: 1.0879054718176029, Train Acc: 0.9605399966239929\n"
     ]
    },
    {
     "name": "stderr",
     "output_type": "stream",
     "text": [
      "\r",
      "0it [00:00, ?it/s]"
     ]
    },
    {
     "name": "stdout",
     "output_type": "stream",
     "text": [
      "Epoch: 68, Val Loss: 1.1222179853658882, Val Acc: 0.9280575513839722\n"
     ]
    },
    {
     "name": "stderr",
     "output_type": "stream",
     "text": [
      "97it [00:20,  4.79it/s]\n"
     ]
    },
    {
     "name": "stdout",
     "output_type": "stream",
     "text": [
      "Epoch: 69, Train Loss: 1.079235156005788, Train Acc: 0.9709242582321167\n"
     ]
    },
    {
     "name": "stderr",
     "output_type": "stream",
     "text": [
      "\r",
      "0it [00:00, ?it/s]"
     ]
    },
    {
     "name": "stdout",
     "output_type": "stream",
     "text": [
      "Epoch: 69, Val Loss: 1.1067022582609876, Val Acc: 0.9280575513839722\n"
     ]
    },
    {
     "name": "stderr",
     "output_type": "stream",
     "text": [
      "97it [00:20,  4.84it/s]\n"
     ]
    },
    {
     "name": "stdout",
     "output_type": "stream",
     "text": [
      "Epoch: 70, Train Loss: 1.095258144698534, Train Acc: 0.9501557946205139\n"
     ]
    },
    {
     "name": "stderr",
     "output_type": "stream",
     "text": [
      "\r",
      "0it [00:00, ?it/s]"
     ]
    },
    {
     "name": "stdout",
     "output_type": "stream",
     "text": [
      "Epoch: 70, Val Loss: 1.1252941845132292, Val Acc: 0.9280575513839722\n"
     ]
    },
    {
     "name": "stderr",
     "output_type": "stream",
     "text": [
      "97it [00:20,  4.83it/s]\n"
     ]
    },
    {
     "name": "stdout",
     "output_type": "stream",
     "text": [
      "Epoch: 71, Train Loss: 1.0978928841534434, Train Acc: 0.9543094635009766\n"
     ]
    },
    {
     "name": "stderr",
     "output_type": "stream",
     "text": [
      "\r",
      "0it [00:00, ?it/s]"
     ]
    },
    {
     "name": "stdout",
     "output_type": "stream",
     "text": [
      "Epoch: 71, Val Loss: 1.104036379203522, Val Acc: 0.9424460530281067\n"
     ]
    },
    {
     "name": "stderr",
     "output_type": "stream",
     "text": [
      "97it [00:20,  4.84it/s]\n"
     ]
    },
    {
     "name": "stdout",
     "output_type": "stream",
     "text": [
      "Epoch: 72, Train Loss: 1.0885315674240097, Train Acc: 0.9667705297470093\n"
     ]
    },
    {
     "name": "stderr",
     "output_type": "stream",
     "text": [
      "\r",
      "0it [00:00, ?it/s]"
     ]
    },
    {
     "name": "stdout",
     "output_type": "stream",
     "text": [
      "Epoch: 72, Val Loss: 1.108099253057576, Val Acc: 0.9352518320083618\n"
     ]
    },
    {
     "name": "stderr",
     "output_type": "stream",
     "text": [
      "97it [00:20,  4.84it/s]\n"
     ]
    },
    {
     "name": "stdout",
     "output_type": "stream",
     "text": [
      "Epoch: 73, Train Loss: 1.1016161855259912, Train Acc: 0.9460021257400513\n"
     ]
    },
    {
     "name": "stderr",
     "output_type": "stream",
     "text": [
      "\r",
      "0it [00:00, ?it/s]"
     ]
    },
    {
     "name": "stdout",
     "output_type": "stream",
     "text": [
      "Epoch: 73, Val Loss: 1.1120431466068295, Val Acc: 0.9424460530281067\n"
     ]
    },
    {
     "name": "stderr",
     "output_type": "stream",
     "text": [
      "97it [00:20,  4.82it/s]\n"
     ]
    },
    {
     "name": "stdout",
     "output_type": "stream",
     "text": [
      "Epoch: 74, Train Loss: 1.0809097666359146, Train Acc: 0.9709242582321167\n",
      "Saved new best model.\n"
     ]
    },
    {
     "name": "stderr",
     "output_type": "stream",
     "text": [
      "\r",
      "0it [00:00, ?it/s]"
     ]
    },
    {
     "name": "stdout",
     "output_type": "stream",
     "text": [
      "Epoch: 74, Val Loss: 1.0943573516049832, Val Acc: 0.9568345546722412\n"
     ]
    },
    {
     "name": "stderr",
     "output_type": "stream",
     "text": [
      "97it [00:20,  4.77it/s]\n"
     ]
    },
    {
     "name": "stdout",
     "output_type": "stream",
     "text": [
      "Epoch: 75, Train Loss: 1.0789742451219173, Train Acc: 0.9709242582321167\n"
     ]
    },
    {
     "name": "stderr",
     "output_type": "stream",
     "text": [
      "\r",
      "0it [00:00, ?it/s]"
     ]
    },
    {
     "name": "stdout",
     "output_type": "stream",
     "text": [
      "Epoch: 75, Val Loss: 1.1402593628108073, Val Acc: 0.8920863270759583\n"
     ]
    },
    {
     "name": "stderr",
     "output_type": "stream",
     "text": [
      "97it [00:20,  4.81it/s]\n"
     ]
    },
    {
     "name": "stdout",
     "output_type": "stream",
     "text": [
      "Epoch: 76, Train Loss: 1.0723751389720357, Train Acc: 0.9771547913551331\n"
     ]
    },
    {
     "name": "stderr",
     "output_type": "stream",
     "text": [
      "\r",
      "0it [00:00, ?it/s]"
     ]
    },
    {
     "name": "stdout",
     "output_type": "stream",
     "text": [
      "Epoch: 76, Val Loss: 1.1283243500071465, Val Acc: 0.9136691093444824\n"
     ]
    },
    {
     "name": "stderr",
     "output_type": "stream",
     "text": [
      "97it [00:20,  4.79it/s]\n"
     ]
    },
    {
     "name": "stdout",
     "output_type": "stream",
     "text": [
      "Epoch: 77, Train Loss: 1.0879400758109483, Train Acc: 0.9574247598648071\n"
     ]
    },
    {
     "name": "stderr",
     "output_type": "stream",
     "text": [
      "\r",
      "0it [00:00, ?it/s]"
     ]
    },
    {
     "name": "stdout",
     "output_type": "stream",
     "text": [
      "Epoch: 77, Val Loss: 1.0980412171041365, Val Acc: 0.9496403336524963\n"
     ]
    },
    {
     "name": "stderr",
     "output_type": "stream",
     "text": [
      "97it [00:20,  4.81it/s]\n"
     ]
    },
    {
     "name": "stdout",
     "output_type": "stream",
     "text": [
      "Epoch: 78, Train Loss: 1.0890995594571313, Train Acc: 0.958463191986084\n"
     ]
    },
    {
     "name": "stderr",
     "output_type": "stream",
     "text": [
      "\r",
      "0it [00:00, ?it/s]"
     ]
    },
    {
     "name": "stdout",
     "output_type": "stream",
     "text": [
      "Epoch: 78, Val Loss: 1.1330157098152656, Val Acc: 0.9064748287200928\n"
     ]
    },
    {
     "name": "stderr",
     "output_type": "stream",
     "text": [
      "97it [00:20,  4.81it/s]\n"
     ]
    },
    {
     "name": "stdout",
     "output_type": "stream",
     "text": [
      "Epoch: 79, Train Loss: 1.0862339628572157, Train Acc: 0.9605399966239929\n"
     ]
    },
    {
     "name": "stderr",
     "output_type": "stream",
     "text": [
      "\r",
      "0it [00:00, ?it/s]"
     ]
    },
    {
     "name": "stdout",
     "output_type": "stream",
     "text": [
      "Epoch: 79, Val Loss: 1.1039962828588143, Val Acc: 0.9352518320083618\n"
     ]
    },
    {
     "name": "stderr",
     "output_type": "stream",
     "text": [
      "97it [00:20,  4.77it/s]\n"
     ]
    },
    {
     "name": "stdout",
     "output_type": "stream",
     "text": [
      "Epoch: 80, Train Loss: 1.0970095870155658, Train Acc: 0.9511942267417908\n"
     ]
    },
    {
     "name": "stderr",
     "output_type": "stream",
     "text": [
      "\r",
      "0it [00:00, ?it/s]"
     ]
    },
    {
     "name": "stdout",
     "output_type": "stream",
     "text": [
      "Epoch: 80, Val Loss: 1.1053655705006002, Val Acc: 0.9424460530281067\n"
     ]
    },
    {
     "name": "stderr",
     "output_type": "stream",
     "text": [
      "97it [00:20,  4.84it/s]\n"
     ]
    },
    {
     "name": "stdout",
     "output_type": "stream",
     "text": [
      "Epoch: 81, Train Loss: 1.0829348659465865, Train Acc: 0.9678089618682861\n"
     ]
    },
    {
     "name": "stderr",
     "output_type": "stream",
     "text": [
      "\r",
      "0it [00:00, ?it/s]"
     ]
    },
    {
     "name": "stdout",
     "output_type": "stream",
     "text": [
      "Epoch: 81, Val Loss: 1.1041576527863097, Val Acc: 0.9352518320083618\n"
     ]
    },
    {
     "name": "stderr",
     "output_type": "stream",
     "text": [
      "97it [00:20,  4.83it/s]\n"
     ]
    },
    {
     "name": "stdout",
     "output_type": "stream",
     "text": [
      "Epoch: 82, Train Loss: 1.091245120807105, Train Acc: 0.9553478956222534\n"
     ]
    },
    {
     "name": "stderr",
     "output_type": "stream",
     "text": [
      "\r",
      "0it [00:00, ?it/s]"
     ]
    },
    {
     "name": "stdout",
     "output_type": "stream",
     "text": [
      "Epoch: 82, Val Loss: 1.128794521736584, Val Acc: 0.9208633303642273\n"
     ]
    },
    {
     "name": "stderr",
     "output_type": "stream",
     "text": [
      "97it [00:20,  4.82it/s]\n"
     ]
    },
    {
     "name": "stdout",
     "output_type": "stream",
     "text": [
      "Epoch: 83, Train Loss: 1.0762776084406724, Train Acc: 0.9719626307487488\n"
     ]
    },
    {
     "name": "stderr",
     "output_type": "stream",
     "text": [
      "\r",
      "0it [00:00, ?it/s]"
     ]
    },
    {
     "name": "stdout",
     "output_type": "stream",
     "text": [
      "Epoch: 83, Val Loss: 1.0930843078832833, Val Acc: 0.9568345546722412\n"
     ]
    },
    {
     "name": "stderr",
     "output_type": "stream",
     "text": [
      "97it [00:20,  4.83it/s]\n"
     ]
    },
    {
     "name": "stdout",
     "output_type": "stream",
     "text": [
      "Epoch: 84, Train Loss: 1.068806915887296, Train Acc: 0.9802700281143188\n",
      "Saved new best model.\n"
     ]
    },
    {
     "name": "stderr",
     "output_type": "stream",
     "text": [
      "\r",
      "0it [00:00, ?it/s]"
     ]
    },
    {
     "name": "stdout",
     "output_type": "stream",
     "text": [
      "Epoch: 84, Val Loss: 1.0878707822278249, Val Acc: 0.9640287756919861\n"
     ]
    },
    {
     "name": "stderr",
     "output_type": "stream",
     "text": [
      "97it [00:20,  4.77it/s]\n"
     ]
    },
    {
     "name": "stdout",
     "output_type": "stream",
     "text": [
      "Epoch: 85, Train Loss: 1.0742267409836639, Train Acc: 0.9730010628700256\n"
     ]
    },
    {
     "name": "stderr",
     "output_type": "stream",
     "text": [
      "\r",
      "0it [00:00, ?it/s]"
     ]
    },
    {
     "name": "stdout",
     "output_type": "stream",
     "text": [
      "Epoch: 85, Val Loss: 1.1501712610395691, Val Acc: 0.8992806077003479\n"
     ]
    },
    {
     "name": "stderr",
     "output_type": "stream",
     "text": [
      "97it [00:20,  4.80it/s]\n"
     ]
    },
    {
     "name": "stdout",
     "output_type": "stream",
     "text": [
      "Epoch: 86, Train Loss: 1.0837443548323333, Train Acc: 0.9626168608665466\n"
     ]
    },
    {
     "name": "stderr",
     "output_type": "stream",
     "text": [
      "\r",
      "0it [00:00, ?it/s]"
     ]
    },
    {
     "name": "stdout",
     "output_type": "stream",
     "text": [
      "Epoch: 86, Val Loss: 1.1259906952329677, Val Acc: 0.9208633303642273\n"
     ]
    },
    {
     "name": "stderr",
     "output_type": "stream",
     "text": [
      "97it [00:20,  4.82it/s]\n"
     ]
    },
    {
     "name": "stdout",
     "output_type": "stream",
     "text": [
      "Epoch: 87, Train Loss: 1.067939405748282, Train Acc: 0.9802700281143188\n"
     ]
    },
    {
     "name": "stderr",
     "output_type": "stream",
     "text": [
      "\r",
      "0it [00:00, ?it/s]"
     ]
    },
    {
     "name": "stdout",
     "output_type": "stream",
     "text": [
      "Epoch: 87, Val Loss: 1.1151832144895046, Val Acc: 0.9280575513839722\n"
     ]
    },
    {
     "name": "stderr",
     "output_type": "stream",
     "text": [
      "97it [00:20,  4.81it/s]\n"
     ]
    },
    {
     "name": "stdout",
     "output_type": "stream",
     "text": [
      "Epoch: 88, Train Loss: 1.080031670885294, Train Acc: 0.9678089618682861\n"
     ]
    },
    {
     "name": "stderr",
     "output_type": "stream",
     "text": [
      "\r",
      "0it [00:00, ?it/s]"
     ]
    },
    {
     "name": "stdout",
     "output_type": "stream",
     "text": [
      "Epoch: 88, Val Loss: 1.0979020321111885, Val Acc: 0.9424460530281067\n"
     ]
    },
    {
     "name": "stderr",
     "output_type": "stream",
     "text": [
      "97it [00:20,  4.79it/s]\n"
     ]
    },
    {
     "name": "stdout",
     "output_type": "stream",
     "text": [
      "Epoch: 89, Train Loss: 1.067136567329692, Train Acc: 0.9813084602355957\n"
     ]
    },
    {
     "name": "stderr",
     "output_type": "stream",
     "text": [
      "\r",
      "0it [00:00, ?it/s]"
     ]
    },
    {
     "name": "stdout",
     "output_type": "stream",
     "text": [
      "Epoch: 89, Val Loss: 1.122809895508581, Val Acc: 0.9136691093444824\n"
     ]
    },
    {
     "name": "stderr",
     "output_type": "stream",
     "text": [
      "97it [00:20,  4.82it/s]\n"
     ]
    },
    {
     "name": "stdout",
     "output_type": "stream",
     "text": [
      "Epoch: 90, Train Loss: 1.0873899651712593, Train Acc: 0.9522326588630676\n"
     ]
    },
    {
     "name": "stderr",
     "output_type": "stream",
     "text": [
      "\r",
      "0it [00:00, ?it/s]"
     ]
    },
    {
     "name": "stdout",
     "output_type": "stream",
     "text": [
      "Epoch: 90, Val Loss: 1.1047848368720186, Val Acc: 0.9424460530281067\n"
     ]
    },
    {
     "name": "stderr",
     "output_type": "stream",
     "text": [
      "97it [00:20,  4.77it/s]\n"
     ]
    },
    {
     "name": "stdout",
     "output_type": "stream",
     "text": [
      "Epoch: 91, Train Loss: 1.0662601786362915, Train Acc: 0.9865005612373352\n"
     ]
    },
    {
     "name": "stderr",
     "output_type": "stream",
     "text": [
      "\r",
      "0it [00:00, ?it/s]"
     ]
    },
    {
     "name": "stdout",
     "output_type": "stream",
     "text": [
      "Epoch: 91, Val Loss: 1.1012859764716607, Val Acc: 0.9496403336524963\n"
     ]
    },
    {
     "name": "stderr",
     "output_type": "stream",
     "text": [
      "97it [00:20,  4.83it/s]\n"
     ]
    },
    {
     "name": "stdout",
     "output_type": "stream",
     "text": [
      "Epoch: 92, Train Loss: 1.076482306759677, Train Acc: 0.9750779271125793\n"
     ]
    },
    {
     "name": "stderr",
     "output_type": "stream",
     "text": [
      "\r",
      "0it [00:00, ?it/s]"
     ]
    },
    {
     "name": "stdout",
     "output_type": "stream",
     "text": [
      "Epoch: 92, Val Loss: 1.1257244511473952, Val Acc: 0.9280575513839722\n"
     ]
    },
    {
     "name": "stderr",
     "output_type": "stream",
     "text": [
      "97it [00:20,  4.83it/s]\n"
     ]
    },
    {
     "name": "stdout",
     "output_type": "stream",
     "text": [
      "Epoch: 93, Train Loss: 1.076104935332127, Train Acc: 0.968847393989563\n"
     ]
    },
    {
     "name": "stderr",
     "output_type": "stream",
     "text": [
      "\r",
      "0it [00:00, ?it/s]"
     ]
    },
    {
     "name": "stdout",
     "output_type": "stream",
     "text": [
      "Epoch: 93, Val Loss: 1.1014864684866488, Val Acc: 0.9568345546722412\n"
     ]
    },
    {
     "name": "stderr",
     "output_type": "stream",
     "text": [
      "97it [00:20,  4.83it/s]\n"
     ]
    },
    {
     "name": "stdout",
     "output_type": "stream",
     "text": [
      "Epoch: 94, Train Loss: 1.0629917658006662, Train Acc: 0.9865005612373352\n"
     ]
    },
    {
     "name": "stderr",
     "output_type": "stream",
     "text": [
      "\r",
      "0it [00:00, ?it/s]"
     ]
    },
    {
     "name": "stdout",
     "output_type": "stream",
     "text": [
      "Epoch: 94, Val Loss: 1.0961612360082942, Val Acc: 0.9496403336524963\n"
     ]
    },
    {
     "name": "stderr",
     "output_type": "stream",
     "text": [
      "97it [00:20,  4.84it/s]\n"
     ]
    },
    {
     "name": "stdout",
     "output_type": "stream",
     "text": [
      "Epoch: 95, Train Loss: 1.0655906263541581, Train Acc: 0.9802700281143188\n"
     ]
    },
    {
     "name": "stderr",
     "output_type": "stream",
     "text": [
      "\r",
      "0it [00:00, ?it/s]"
     ]
    },
    {
     "name": "stdout",
     "output_type": "stream",
     "text": [
      "Epoch: 95, Val Loss: 1.1225397886989785, Val Acc: 0.9280575513839722\n"
     ]
    },
    {
     "name": "stderr",
     "output_type": "stream",
     "text": [
      "97it [00:20,  4.82it/s]\n"
     ]
    },
    {
     "name": "stdout",
     "output_type": "stream",
     "text": [
      "Epoch: 96, Train Loss: 1.0936386247290257, Train Acc: 0.9522326588630676\n"
     ]
    },
    {
     "name": "stderr",
     "output_type": "stream",
     "text": [
      "\r",
      "0it [00:00, ?it/s]"
     ]
    },
    {
     "name": "stdout",
     "output_type": "stream",
     "text": [
      "Epoch: 96, Val Loss: 1.1203694875291783, Val Acc: 0.9208633303642273\n"
     ]
    },
    {
     "name": "stderr",
     "output_type": "stream",
     "text": [
      "97it [00:20,  4.80it/s]\n"
     ]
    },
    {
     "name": "stdout",
     "output_type": "stream",
     "text": [
      "Epoch: 97, Train Loss: 1.0798138605347551, Train Acc: 0.9667705297470093\n"
     ]
    },
    {
     "name": "stderr",
     "output_type": "stream",
     "text": [
      "\r",
      "0it [00:00, ?it/s]"
     ]
    },
    {
     "name": "stdout",
     "output_type": "stream",
     "text": [
      "Epoch: 97, Val Loss: 1.0999384561030985, Val Acc: 0.9424460530281067\n"
     ]
    },
    {
     "name": "stderr",
     "output_type": "stream",
     "text": [
      "97it [00:20,  4.84it/s]\n"
     ]
    },
    {
     "name": "stdout",
     "output_type": "stream",
     "text": [
      "Epoch: 98, Train Loss: 1.067116507488619, Train Acc: 0.979231595993042\n"
     ]
    },
    {
     "name": "stderr",
     "output_type": "stream",
     "text": [
      "\r",
      "0it [00:00, ?it/s]"
     ]
    },
    {
     "name": "stdout",
     "output_type": "stream",
     "text": [
      "Epoch: 98, Val Loss: 1.100950338857637, Val Acc: 0.9424460530281067\n"
     ]
    },
    {
     "name": "stderr",
     "output_type": "stream",
     "text": [
      "97it [00:20,  4.83it/s]\n"
     ]
    },
    {
     "name": "stdout",
     "output_type": "stream",
     "text": [
      "Epoch: 99, Train Loss: 1.0740999646894904, Train Acc: 0.9719626307487488\n"
     ]
    },
    {
     "name": "stderr",
     "output_type": "stream",
     "text": [
      "\r",
      "0it [00:00, ?it/s]"
     ]
    },
    {
     "name": "stdout",
     "output_type": "stream",
     "text": [
      "Epoch: 99, Val Loss: 1.1174120877286513, Val Acc: 0.9352518320083618\n"
     ]
    },
    {
     "name": "stderr",
     "output_type": "stream",
     "text": [
      "97it [00:20,  4.82it/s]\n"
     ]
    },
    {
     "name": "stdout",
     "output_type": "stream",
     "text": [
      "Epoch: 100, Train Loss: 1.072062035958715, Train Acc: 0.9740394949913025\n"
     ]
    },
    {
     "name": "stderr",
     "output_type": "stream",
     "text": [
      "\r",
      "0it [00:00, ?it/s]"
     ]
    },
    {
     "name": "stdout",
     "output_type": "stream",
     "text": [
      "Epoch: 100, Val Loss: 1.102780762336237, Val Acc: 0.9424460530281067\n"
     ]
    },
    {
     "name": "stderr",
     "output_type": "stream",
     "text": [
      "97it [00:20,  4.84it/s]\n"
     ]
    },
    {
     "name": "stdout",
     "output_type": "stream",
     "text": [
      "Epoch: 101, Train Loss: 1.0675429774221974, Train Acc: 0.9802700281143188\n"
     ]
    },
    {
     "name": "stderr",
     "output_type": "stream",
     "text": [
      "\r",
      "0it [00:00, ?it/s]"
     ]
    },
    {
     "name": "stdout",
     "output_type": "stream",
     "text": [
      "Epoch: 101, Val Loss: 1.1258845054846016, Val Acc: 0.9136691093444824\n"
     ]
    },
    {
     "name": "stderr",
     "output_type": "stream",
     "text": [
      "97it [00:20,  4.78it/s]\n"
     ]
    },
    {
     "name": "stdout",
     "output_type": "stream",
     "text": [
      "Epoch: 102, Train Loss: 1.077551514683978, Train Acc: 0.9698858261108398\n"
     ]
    },
    {
     "name": "stderr",
     "output_type": "stream",
     "text": [
      "\r",
      "0it [00:00, ?it/s]"
     ]
    },
    {
     "name": "stdout",
     "output_type": "stream",
     "text": [
      "Epoch: 102, Val Loss: 1.1424631163370695, Val Acc: 0.9064748287200928\n"
     ]
    },
    {
     "name": "stderr",
     "output_type": "stream",
     "text": [
      "97it [00:20,  4.82it/s]\n"
     ]
    },
    {
     "name": "stdout",
     "output_type": "stream",
     "text": [
      "Epoch: 103, Train Loss: 1.067378653048974, Train Acc: 0.979231595993042\n"
     ]
    },
    {
     "name": "stderr",
     "output_type": "stream",
     "text": [
      "\r",
      "0it [00:00, ?it/s]"
     ]
    },
    {
     "name": "stdout",
     "output_type": "stream",
     "text": [
      "Epoch: 103, Val Loss: 1.0937808717755104, Val Acc: 0.9496403336524963\n"
     ]
    },
    {
     "name": "stderr",
     "output_type": "stream",
     "text": [
      "97it [00:20,  4.83it/s]\n"
     ]
    },
    {
     "name": "stdout",
     "output_type": "stream",
     "text": [
      "Epoch: 104, Train Loss: 1.0625153588109795, Train Acc: 0.9844236969947815\n"
     ]
    },
    {
     "name": "stderr",
     "output_type": "stream",
     "text": [
      "\r",
      "0it [00:00, ?it/s]"
     ]
    },
    {
     "name": "stdout",
     "output_type": "stream",
     "text": [
      "Epoch: 104, Val Loss: 1.1141203942058755, Val Acc: 0.9280575513839722\n"
     ]
    },
    {
     "name": "stderr",
     "output_type": "stream",
     "text": [
      "97it [00:20,  4.82it/s]\n"
     ]
    },
    {
     "name": "stdout",
     "output_type": "stream",
     "text": [
      "Epoch: 105, Train Loss: 1.0836079125587565, Train Acc: 0.9636552929878235\n"
     ]
    },
    {
     "name": "stderr",
     "output_type": "stream",
     "text": [
      "\r",
      "0it [00:00, ?it/s]"
     ]
    },
    {
     "name": "stdout",
     "output_type": "stream",
     "text": [
      "Epoch: 105, Val Loss: 1.100331170953435, Val Acc: 0.9424460530281067\n"
     ]
    },
    {
     "name": "stderr",
     "output_type": "stream",
     "text": [
      "97it [00:20,  4.83it/s]\n"
     ]
    },
    {
     "name": "stdout",
     "output_type": "stream",
     "text": [
      "Epoch: 106, Train Loss: 1.0661189059725926, Train Acc: 0.9802700281143188\n"
     ]
    },
    {
     "name": "stderr",
     "output_type": "stream",
     "text": [
      "\r",
      "0it [00:00, ?it/s]"
     ]
    },
    {
     "name": "stdout",
     "output_type": "stream",
     "text": [
      "Epoch: 106, Val Loss: 1.1390085331827617, Val Acc: 0.9064748287200928\n"
     ]
    },
    {
     "name": "stderr",
     "output_type": "stream",
     "text": [
      "97it [00:20,  4.82it/s]\n"
     ]
    },
    {
     "name": "stdout",
     "output_type": "stream",
     "text": [
      "Epoch: 107, Train Loss: 1.0817618935774171, Train Acc: 0.9657321572303772\n"
     ]
    },
    {
     "name": "stderr",
     "output_type": "stream",
     "text": [
      "\r",
      "0it [00:00, ?it/s]"
     ]
    },
    {
     "name": "stdout",
     "output_type": "stream",
     "text": [
      "Epoch: 107, Val Loss: 1.1204306067322656, Val Acc: 0.9280575513839722\n"
     ]
    },
    {
     "name": "stderr",
     "output_type": "stream",
     "text": [
      "97it [00:20,  4.79it/s]\n"
     ]
    },
    {
     "name": "stdout",
     "output_type": "stream",
     "text": [
      "Epoch: 108, Train Loss: 1.0681397841850668, Train Acc: 0.9771547913551331\n"
     ]
    },
    {
     "name": "stderr",
     "output_type": "stream",
     "text": [
      "\r",
      "0it [00:00, ?it/s]"
     ]
    },
    {
     "name": "stdout",
     "output_type": "stream",
     "text": [
      "Epoch: 108, Val Loss: 1.1114262411062665, Val Acc: 0.9352518320083618\n"
     ]
    },
    {
     "name": "stderr",
     "output_type": "stream",
     "text": [
      "97it [00:20,  4.84it/s]\n"
     ]
    },
    {
     "name": "stdout",
     "output_type": "stream",
     "text": [
      "Epoch: 109, Train Loss: 1.0924731490520425, Train Acc: 0.9522326588630676\n"
     ]
    },
    {
     "name": "stderr",
     "output_type": "stream",
     "text": [
      "\r",
      "0it [00:00, ?it/s]"
     ]
    },
    {
     "name": "stdout",
     "output_type": "stream",
     "text": [
      "Epoch: 109, Val Loss: 1.0875725137244026, Val Acc: 0.9568345546722412\n"
     ]
    },
    {
     "name": "stderr",
     "output_type": "stream",
     "text": [
      "97it [00:20,  4.83it/s]\n"
     ]
    },
    {
     "name": "stdout",
     "output_type": "stream",
     "text": [
      "Epoch: 110, Train Loss: 1.0602339946839916, Train Acc: 0.9854621291160583\n"
     ]
    },
    {
     "name": "stderr",
     "output_type": "stream",
     "text": [
      "\r",
      "0it [00:00, ?it/s]"
     ]
    },
    {
     "name": "stdout",
     "output_type": "stream",
     "text": [
      "Epoch: 110, Val Loss: 1.0878992235060219, Val Acc: 0.9640287756919861\n"
     ]
    },
    {
     "name": "stderr",
     "output_type": "stream",
     "text": [
      "97it [00:20,  4.84it/s]\n"
     ]
    },
    {
     "name": "stdout",
     "output_type": "stream",
     "text": [
      "Epoch: 111, Train Loss: 1.0638004521590774, Train Acc: 0.9844236969947815\n"
     ]
    },
    {
     "name": "stderr",
     "output_type": "stream",
     "text": [
      "\r",
      "0it [00:00, ?it/s]"
     ]
    },
    {
     "name": "stdout",
     "output_type": "stream",
     "text": [
      "Epoch: 111, Val Loss: 1.0881690421550394, Val Acc: 0.9640287756919861\n"
     ]
    },
    {
     "name": "stderr",
     "output_type": "stream",
     "text": [
      "97it [00:20,  4.84it/s]\n"
     ]
    },
    {
     "name": "stdout",
     "output_type": "stream",
     "text": [
      "Epoch: 112, Train Loss: 1.0577298108167241, Train Acc: 0.9906542301177979\n"
     ]
    },
    {
     "name": "stderr",
     "output_type": "stream",
     "text": [
      "\r",
      "0it [00:00, ?it/s]"
     ]
    },
    {
     "name": "stdout",
     "output_type": "stream",
     "text": [
      "Epoch: 112, Val Loss: 1.111779987383232, Val Acc: 0.9280575513839722\n"
     ]
    },
    {
     "name": "stderr",
     "output_type": "stream",
     "text": [
      "97it [00:20,  4.78it/s]\n"
     ]
    },
    {
     "name": "stdout",
     "output_type": "stream",
     "text": [
      "Epoch: 113, Train Loss: 1.0721928450672549, Train Acc: 0.9730010628700256\n"
     ]
    },
    {
     "name": "stderr",
     "output_type": "stream",
     "text": [
      "\r",
      "0it [00:00, ?it/s]"
     ]
    },
    {
     "name": "stdout",
     "output_type": "stream",
     "text": [
      "Epoch: 113, Val Loss: 1.0987288651706504, Val Acc: 0.9568345546722412\n"
     ]
    },
    {
     "name": "stderr",
     "output_type": "stream",
     "text": [
      "97it [00:20,  4.84it/s]\n"
     ]
    },
    {
     "name": "stdout",
     "output_type": "stream",
     "text": [
      "Epoch: 114, Train Loss: 1.0619249340158385, Train Acc: 0.9823468923568726\n"
     ]
    },
    {
     "name": "stderr",
     "output_type": "stream",
     "text": [
      "\r",
      "0it [00:00, ?it/s]"
     ]
    },
    {
     "name": "stdout",
     "output_type": "stream",
     "text": [
      "Epoch: 114, Val Loss: 1.0979034677683879, Val Acc: 0.9352518320083618\n"
     ]
    },
    {
     "name": "stderr",
     "output_type": "stream",
     "text": [
      "97it [00:20,  4.83it/s]\n"
     ]
    },
    {
     "name": "stdout",
     "output_type": "stream",
     "text": [
      "Epoch: 115, Train Loss: 1.0567516692578482, Train Acc: 0.9885774254798889\n"
     ]
    },
    {
     "name": "stderr",
     "output_type": "stream",
     "text": [
      "\r",
      "0it [00:00, ?it/s]"
     ]
    },
    {
     "name": "stdout",
     "output_type": "stream",
     "text": [
      "Epoch: 115, Val Loss: 1.087700747757507, Val Acc: 0.9568345546722412\n"
     ]
    },
    {
     "name": "stderr",
     "output_type": "stream",
     "text": [
      "97it [00:20,  4.84it/s]\n"
     ]
    },
    {
     "name": "stdout",
     "output_type": "stream",
     "text": [
      "Epoch: 116, Train Loss: 1.0565753717165003, Train Acc: 0.9906542301177979\n"
     ]
    },
    {
     "name": "stderr",
     "output_type": "stream",
     "text": [
      "\r",
      "0it [00:00, ?it/s]"
     ]
    },
    {
     "name": "stdout",
     "output_type": "stream",
     "text": [
      "Epoch: 116, Val Loss: 1.1080764600698896, Val Acc: 0.9424460530281067\n"
     ]
    },
    {
     "name": "stderr",
     "output_type": "stream",
     "text": [
      "97it [00:20,  4.83it/s]\n"
     ]
    },
    {
     "name": "stdout",
     "output_type": "stream",
     "text": [
      "Epoch: 117, Train Loss: 1.0783870038213759, Train Acc: 0.9667705297470093\n"
     ]
    },
    {
     "name": "stderr",
     "output_type": "stream",
     "text": [
      "\r",
      "0it [00:00, ?it/s]"
     ]
    },
    {
     "name": "stdout",
     "output_type": "stream",
     "text": [
      "Epoch: 117, Val Loss: 1.1045594378341017, Val Acc: 0.9424460530281067\n"
     ]
    },
    {
     "name": "stderr",
     "output_type": "stream",
     "text": [
      "97it [00:20,  4.82it/s]\n"
     ]
    },
    {
     "name": "stdout",
     "output_type": "stream",
     "text": [
      "Epoch: 118, Train Loss: 1.0680270441348432, Train Acc: 0.979231595993042\n"
     ]
    },
    {
     "name": "stderr",
     "output_type": "stream",
     "text": [
      "\r",
      "0it [00:00, ?it/s]"
     ]
    },
    {
     "name": "stdout",
     "output_type": "stream",
     "text": [
      "Epoch: 118, Val Loss: 1.0954025040427557, Val Acc: 0.9496403336524963\n"
     ]
    },
    {
     "name": "stderr",
     "output_type": "stream",
     "text": [
      "97it [00:20,  4.79it/s]\n"
     ]
    },
    {
     "name": "stdout",
     "output_type": "stream",
     "text": [
      "Epoch: 119, Train Loss: 1.0738569329708412, Train Acc: 0.9719626307487488\n",
      "Saved new best model.\n"
     ]
    },
    {
     "name": "stderr",
     "output_type": "stream",
     "text": [
      "\r",
      "0it [00:00, ?it/s]"
     ]
    },
    {
     "name": "stdout",
     "output_type": "stream",
     "text": [
      "Epoch: 119, Val Loss: 1.0833525794873136, Val Acc: 0.9712230563163757\n"
     ]
    },
    {
     "name": "stderr",
     "output_type": "stream",
     "text": [
      "97it [00:20,  4.82it/s]\n"
     ]
    },
    {
     "name": "stdout",
     "output_type": "stream",
     "text": [
      "Epoch: 120, Train Loss: 1.071551857583867, Train Acc: 0.9750779271125793\n"
     ]
    },
    {
     "name": "stderr",
     "output_type": "stream",
     "text": [
      "\r",
      "0it [00:00, ?it/s]"
     ]
    },
    {
     "name": "stdout",
     "output_type": "stream",
     "text": [
      "Epoch: 120, Val Loss: 1.1104584657888619, Val Acc: 0.9352518320083618\n"
     ]
    },
    {
     "name": "stderr",
     "output_type": "stream",
     "text": [
      "97it [00:20,  4.83it/s]\n"
     ]
    },
    {
     "name": "stdout",
     "output_type": "stream",
     "text": [
      "Epoch: 121, Train Loss: 1.063049594066101, Train Acc: 0.9833853244781494\n"
     ]
    },
    {
     "name": "stderr",
     "output_type": "stream",
     "text": [
      "\r",
      "0it [00:00, ?it/s]"
     ]
    },
    {
     "name": "stdout",
     "output_type": "stream",
     "text": [
      "Epoch: 121, Val Loss: 1.0923816754663591, Val Acc: 0.9496403336524963\n"
     ]
    },
    {
     "name": "stderr",
     "output_type": "stream",
     "text": [
      "97it [00:20,  4.84it/s]\n"
     ]
    },
    {
     "name": "stdout",
     "output_type": "stream",
     "text": [
      "Epoch: 122, Train Loss: 1.0618454056984414, Train Acc: 0.9833853244781494\n"
     ]
    },
    {
     "name": "stderr",
     "output_type": "stream",
     "text": [
      "\r",
      "0it [00:00, ?it/s]"
     ]
    },
    {
     "name": "stdout",
     "output_type": "stream",
     "text": [
      "Epoch: 122, Val Loss: 1.0921069992531975, Val Acc: 0.9568345546722412\n"
     ]
    },
    {
     "name": "stderr",
     "output_type": "stream",
     "text": [
      "97it [00:20,  4.84it/s]\n"
     ]
    },
    {
     "name": "stdout",
     "output_type": "stream",
     "text": [
      "Epoch: 123, Train Loss: 1.0652476994790763, Train Acc: 0.9802700281143188\n"
     ]
    },
    {
     "name": "stderr",
     "output_type": "stream",
     "text": [
      "\r",
      "0it [00:00, ?it/s]"
     ]
    },
    {
     "name": "stdout",
     "output_type": "stream",
     "text": [
      "Epoch: 123, Val Loss: 1.0853848002797408, Val Acc: 0.9568345546722412\n"
     ]
    },
    {
     "name": "stderr",
     "output_type": "stream",
     "text": [
      "97it [00:20,  4.75it/s]\n"
     ]
    },
    {
     "name": "stdout",
     "output_type": "stream",
     "text": [
      "Epoch: 124, Train Loss: 1.0688047895550357, Train Acc: 0.9781931638717651\n"
     ]
    },
    {
     "name": "stderr",
     "output_type": "stream",
     "text": [
      "\r",
      "0it [00:00, ?it/s]"
     ]
    },
    {
     "name": "stdout",
     "output_type": "stream",
     "text": [
      "Epoch: 124, Val Loss: 1.1239754561897661, Val Acc: 0.9208633303642273\n"
     ]
    },
    {
     "name": "stderr",
     "output_type": "stream",
     "text": [
      "97it [00:20,  4.80it/s]\n"
     ]
    },
    {
     "name": "stdout",
     "output_type": "stream",
     "text": [
      "Epoch: 125, Train Loss: 1.0824274905374116, Train Acc: 0.9626168608665466\n"
     ]
    },
    {
     "name": "stderr",
     "output_type": "stream",
     "text": [
      "\r",
      "0it [00:00, ?it/s]"
     ]
    },
    {
     "name": "stdout",
     "output_type": "stream",
     "text": [
      "Epoch: 125, Val Loss: 1.1014622938718728, Val Acc: 0.9496403336524963\n"
     ]
    },
    {
     "name": "stderr",
     "output_type": "stream",
     "text": [
      "97it [00:20,  4.80it/s]\n"
     ]
    },
    {
     "name": "stdout",
     "output_type": "stream",
     "text": [
      "Epoch: 126, Train Loss: 1.0670279259498494, Train Acc: 0.9813084602355957\n"
     ]
    },
    {
     "name": "stderr",
     "output_type": "stream",
     "text": [
      "\r",
      "0it [00:00, ?it/s]"
     ]
    },
    {
     "name": "stdout",
     "output_type": "stream",
     "text": [
      "Epoch: 126, Val Loss: 1.0854640435829437, Val Acc: 0.9568345546722412\n"
     ]
    },
    {
     "name": "stderr",
     "output_type": "stream",
     "text": [
      "97it [00:20,  4.81it/s]\n"
     ]
    },
    {
     "name": "stdout",
     "output_type": "stream",
     "text": [
      "Epoch: 127, Train Loss: 1.058377625662466, Train Acc: 0.9854621291160583\n"
     ]
    },
    {
     "name": "stderr",
     "output_type": "stream",
     "text": [
      "\r",
      "0it [00:00, ?it/s]"
     ]
    },
    {
     "name": "stdout",
     "output_type": "stream",
     "text": [
      "Epoch: 127, Val Loss: 1.0904173679489026, Val Acc: 0.9568345546722412\n"
     ]
    },
    {
     "name": "stderr",
     "output_type": "stream",
     "text": [
      "97it [00:20,  4.84it/s]\n"
     ]
    },
    {
     "name": "stdout",
     "output_type": "stream",
     "text": [
      "Epoch: 128, Train Loss: 1.0666602916806658, Train Acc: 0.979231595993042\n"
     ]
    },
    {
     "name": "stderr",
     "output_type": "stream",
     "text": [
      "\r",
      "0it [00:00, ?it/s]"
     ]
    },
    {
     "name": "stdout",
     "output_type": "stream",
     "text": [
      "Epoch: 128, Val Loss: 1.0969426220269511, Val Acc: 0.9424460530281067\n"
     ]
    },
    {
     "name": "stderr",
     "output_type": "stream",
     "text": [
      "97it [00:20,  4.83it/s]\n"
     ]
    },
    {
     "name": "stdout",
     "output_type": "stream",
     "text": [
      "Epoch: 129, Train Loss: 1.0600578404908858, Train Acc: 0.9865005612373352\n"
     ]
    },
    {
     "name": "stderr",
     "output_type": "stream",
     "text": [
      "\r",
      "0it [00:00, ?it/s]"
     ]
    },
    {
     "name": "stdout",
     "output_type": "stream",
     "text": [
      "Epoch: 129, Val Loss: 1.0818094486812893, Val Acc: 0.9640287756919861\n"
     ]
    },
    {
     "name": "stderr",
     "output_type": "stream",
     "text": [
      "97it [00:20,  4.77it/s]\n"
     ]
    },
    {
     "name": "stdout",
     "output_type": "stream",
     "text": [
      "Epoch: 130, Train Loss: 1.0748358745812627, Train Acc: 0.9698858261108398\n"
     ]
    },
    {
     "name": "stderr",
     "output_type": "stream",
     "text": [
      "\r",
      "0it [00:00, ?it/s]"
     ]
    },
    {
     "name": "stdout",
     "output_type": "stream",
     "text": [
      "Epoch: 130, Val Loss: 1.0919194821831133, Val Acc: 0.9496403336524963\n"
     ]
    },
    {
     "name": "stderr",
     "output_type": "stream",
     "text": [
      "97it [00:20,  4.83it/s]\n"
     ]
    },
    {
     "name": "stdout",
     "output_type": "stream",
     "text": [
      "Epoch: 131, Train Loss: 1.0600640589326837, Train Acc: 0.9854621291160583\n"
     ]
    },
    {
     "name": "stderr",
     "output_type": "stream",
     "text": [
      "\r",
      "0it [00:00, ?it/s]"
     ]
    },
    {
     "name": "stdout",
     "output_type": "stream",
     "text": [
      "Epoch: 131, Val Loss: 1.090745999658708, Val Acc: 0.9568345546722412\n"
     ]
    },
    {
     "name": "stderr",
     "output_type": "stream",
     "text": [
      "97it [00:20,  4.80it/s]\n"
     ]
    },
    {
     "name": "stdout",
     "output_type": "stream",
     "text": [
      "Epoch: 132, Train Loss: 1.0613373891834406, Train Acc: 0.9865005612373352\n"
     ]
    },
    {
     "name": "stderr",
     "output_type": "stream",
     "text": [
      "\r",
      "0it [00:00, ?it/s]"
     ]
    },
    {
     "name": "stdout",
     "output_type": "stream",
     "text": [
      "Epoch: 132, Val Loss: 1.0770372306700233, Val Acc: 0.9712230563163757\n"
     ]
    },
    {
     "name": "stderr",
     "output_type": "stream",
     "text": [
      "97it [00:20,  4.82it/s]\n"
     ]
    },
    {
     "name": "stdout",
     "output_type": "stream",
     "text": [
      "Epoch: 133, Train Loss: 1.056340434469538, Train Acc: 0.9885774254798889\n"
     ]
    },
    {
     "name": "stderr",
     "output_type": "stream",
     "text": [
      "\r",
      "0it [00:00, ?it/s]"
     ]
    },
    {
     "name": "stdout",
     "output_type": "stream",
     "text": [
      "Epoch: 133, Val Loss: 1.0775913351731334, Val Acc: 0.9712230563163757\n"
     ]
    },
    {
     "name": "stderr",
     "output_type": "stream",
     "text": [
      "97it [00:20,  4.83it/s]\n"
     ]
    },
    {
     "name": "stdout",
     "output_type": "stream",
     "text": [
      "Epoch: 134, Train Loss: 1.0587742677730192, Train Acc: 0.9865005612373352\n"
     ]
    },
    {
     "name": "stderr",
     "output_type": "stream",
     "text": [
      "\r",
      "0it [00:00, ?it/s]"
     ]
    },
    {
     "name": "stdout",
     "output_type": "stream",
     "text": [
      "Epoch: 134, Val Loss: 1.110283633787855, Val Acc: 0.9424460530281067\n"
     ]
    },
    {
     "name": "stderr",
     "output_type": "stream",
     "text": [
      "97it [00:20,  4.73it/s]\n"
     ]
    },
    {
     "name": "stdout",
     "output_type": "stream",
     "text": [
      "Epoch: 135, Train Loss: 1.0617981226892363, Train Acc: 0.9844236969947815\n"
     ]
    },
    {
     "name": "stderr",
     "output_type": "stream",
     "text": [
      "\r",
      "0it [00:00, ?it/s]"
     ]
    },
    {
     "name": "stdout",
     "output_type": "stream",
     "text": [
      "Epoch: 135, Val Loss: 1.0984373795900413, Val Acc: 0.9568345546722412\n"
     ]
    },
    {
     "name": "stderr",
     "output_type": "stream",
     "text": [
      "97it [00:20,  4.81it/s]\n"
     ]
    },
    {
     "name": "stdout",
     "output_type": "stream",
     "text": [
      "Epoch: 136, Train Loss: 1.058092704690753, Train Acc: 0.9875389933586121\n"
     ]
    },
    {
     "name": "stderr",
     "output_type": "stream",
     "text": [
      "\r",
      "0it [00:00, ?it/s]"
     ]
    },
    {
     "name": "stdout",
     "output_type": "stream",
     "text": [
      "Epoch: 136, Val Loss: 1.0796399562478922, Val Acc: 0.9712230563163757\n"
     ]
    },
    {
     "name": "stderr",
     "output_type": "stream",
     "text": [
      "97it [00:20,  4.83it/s]\n"
     ]
    },
    {
     "name": "stdout",
     "output_type": "stream",
     "text": [
      "Epoch: 137, Train Loss: 1.0726557734846944, Train Acc: 0.9719626307487488\n"
     ]
    },
    {
     "name": "stderr",
     "output_type": "stream",
     "text": [
      "\r",
      "0it [00:00, ?it/s]"
     ]
    },
    {
     "name": "stdout",
     "output_type": "stream",
     "text": [
      "Epoch: 137, Val Loss: 1.088249169665275, Val Acc: 0.9568345546722412\n"
     ]
    },
    {
     "name": "stderr",
     "output_type": "stream",
     "text": [
      "97it [00:20,  4.83it/s]\n"
     ]
    },
    {
     "name": "stdout",
     "output_type": "stream",
     "text": [
      "Epoch: 138, Train Loss: 1.055674772891424, Train Acc: 0.9916926622390747\n"
     ]
    },
    {
     "name": "stderr",
     "output_type": "stream",
     "text": [
      "\r",
      "0it [00:00, ?it/s]"
     ]
    },
    {
     "name": "stdout",
     "output_type": "stream",
     "text": [
      "Epoch: 138, Val Loss: 1.0919654112068011, Val Acc: 0.9568345546722412\n"
     ]
    },
    {
     "name": "stderr",
     "output_type": "stream",
     "text": [
      "97it [00:20,  4.83it/s]\n"
     ]
    },
    {
     "name": "stdout",
     "output_type": "stream",
     "text": [
      "Epoch: 139, Train Loss: 1.0656210602505805, Train Acc: 0.9813084602355957\n"
     ]
    },
    {
     "name": "stderr",
     "output_type": "stream",
     "text": [
      "\r",
      "0it [00:00, ?it/s]"
     ]
    },
    {
     "name": "stdout",
     "output_type": "stream",
     "text": [
      "Epoch: 139, Val Loss: 1.1171740610822498, Val Acc: 0.9280575513839722\n"
     ]
    },
    {
     "name": "stderr",
     "output_type": "stream",
     "text": [
      "97it [00:20,  4.83it/s]\n"
     ]
    },
    {
     "name": "stdout",
     "output_type": "stream",
     "text": [
      "Epoch: 140, Train Loss: 1.057631207032367, Train Acc: 0.9916926622390747\n"
     ]
    },
    {
     "name": "stderr",
     "output_type": "stream",
     "text": [
      "\r",
      "0it [00:00, ?it/s]"
     ]
    },
    {
     "name": "stdout",
     "output_type": "stream",
     "text": [
      "Epoch: 140, Val Loss: 1.0911142886113778, Val Acc: 0.9568345546722412\n"
     ]
    },
    {
     "name": "stderr",
     "output_type": "stream",
     "text": [
      "97it [00:20,  4.78it/s]\n"
     ]
    },
    {
     "name": "stdout",
     "output_type": "stream",
     "text": [
      "Epoch: 141, Train Loss: 1.0570575579428352, Train Acc: 0.989615797996521\n"
     ]
    },
    {
     "name": "stderr",
     "output_type": "stream",
     "text": [
      "\r",
      "0it [00:00, ?it/s]"
     ]
    },
    {
     "name": "stdout",
     "output_type": "stream",
     "text": [
      "Epoch: 141, Val Loss: 1.0800796318397248, Val Acc: 0.9640287756919861\n"
     ]
    },
    {
     "name": "stderr",
     "output_type": "stream",
     "text": [
      "97it [00:20,  4.84it/s]\n"
     ]
    },
    {
     "name": "stdout",
     "output_type": "stream",
     "text": [
      "Epoch: 142, Train Loss: 1.0628307596050195, Train Acc: 0.9833853244781494\n"
     ]
    },
    {
     "name": "stderr",
     "output_type": "stream",
     "text": [
      "\r",
      "0it [00:00, ?it/s]"
     ]
    },
    {
     "name": "stdout",
     "output_type": "stream",
     "text": [
      "Epoch: 142, Val Loss: 1.0864919201075602, Val Acc: 0.9568345546722412\n"
     ]
    },
    {
     "name": "stderr",
     "output_type": "stream",
     "text": [
      "97it [00:20,  4.83it/s]\n"
     ]
    },
    {
     "name": "stdout",
     "output_type": "stream",
     "text": [
      "Epoch: 143, Train Loss: 1.0540063496319305, Train Acc: 0.9906542301177979\n"
     ]
    },
    {
     "name": "stderr",
     "output_type": "stream",
     "text": [
      "\r",
      "0it [00:00, ?it/s]"
     ]
    },
    {
     "name": "stdout",
     "output_type": "stream",
     "text": [
      "Epoch: 143, Val Loss: 1.0910988257085676, Val Acc: 0.9496403336524963\n"
     ]
    },
    {
     "name": "stderr",
     "output_type": "stream",
     "text": [
      "97it [00:20,  4.84it/s]\n"
     ]
    },
    {
     "name": "stdout",
     "output_type": "stream",
     "text": [
      "Epoch: 144, Train Loss: 1.0547082748492311, Train Acc: 0.9906542301177979\n"
     ]
    },
    {
     "name": "stderr",
     "output_type": "stream",
     "text": [
      "\r",
      "0it [00:00, ?it/s]"
     ]
    },
    {
     "name": "stdout",
     "output_type": "stream",
     "text": [
      "Epoch: 144, Val Loss: 1.091526871962513, Val Acc: 0.9568345546722412\n"
     ]
    },
    {
     "name": "stderr",
     "output_type": "stream",
     "text": [
      "97it [00:20,  4.83it/s]\n"
     ]
    },
    {
     "name": "stdout",
     "output_type": "stream",
     "text": [
      "Epoch: 145, Train Loss: 1.0527383293318229, Train Acc: 0.9927310943603516\n"
     ]
    },
    {
     "name": "stderr",
     "output_type": "stream",
     "text": [
      "\r",
      "0it [00:00, ?it/s]"
     ]
    },
    {
     "name": "stdout",
     "output_type": "stream",
     "text": [
      "Epoch: 145, Val Loss: 1.0910520484979205, Val Acc: 0.9496403336524963\n"
     ]
    },
    {
     "name": "stderr",
     "output_type": "stream",
     "text": [
      "97it [00:20,  4.79it/s]\n"
     ]
    },
    {
     "name": "stdout",
     "output_type": "stream",
     "text": [
      "Epoch: 146, Train Loss: 1.058854390403811, Train Acc: 0.9875389933586121\n"
     ]
    },
    {
     "name": "stderr",
     "output_type": "stream",
     "text": [
      "\r",
      "0it [00:00, ?it/s]"
     ]
    },
    {
     "name": "stdout",
     "output_type": "stream",
     "text": [
      "Epoch: 146, Val Loss: 1.1092660898784938, Val Acc: 0.9352518320083618\n"
     ]
    },
    {
     "name": "stderr",
     "output_type": "stream",
     "text": [
      "97it [00:20,  4.81it/s]\n"
     ]
    },
    {
     "name": "stdout",
     "output_type": "stream",
     "text": [
      "Epoch: 147, Train Loss: 1.0636180629363807, Train Acc: 0.979231595993042\n"
     ]
    },
    {
     "name": "stderr",
     "output_type": "stream",
     "text": [
      "\r",
      "0it [00:00, ?it/s]"
     ]
    },
    {
     "name": "stdout",
     "output_type": "stream",
     "text": [
      "Epoch: 147, Val Loss: 1.0781331139502766, Val Acc: 0.9640287756919861\n"
     ]
    },
    {
     "name": "stderr",
     "output_type": "stream",
     "text": [
      "97it [00:20,  4.83it/s]\n"
     ]
    },
    {
     "name": "stdout",
     "output_type": "stream",
     "text": [
      "Epoch: 148, Train Loss: 1.0642730406140242, Train Acc: 0.9823468923568726\n"
     ]
    },
    {
     "name": "stderr",
     "output_type": "stream",
     "text": [
      "\r",
      "0it [00:00, ?it/s]"
     ]
    },
    {
     "name": "stdout",
     "output_type": "stream",
     "text": [
      "Epoch: 148, Val Loss: 1.0846413879943408, Val Acc: 0.9640287756919861\n"
     ]
    },
    {
     "name": "stderr",
     "output_type": "stream",
     "text": [
      "97it [00:20,  4.84it/s]\n"
     ]
    },
    {
     "name": "stdout",
     "output_type": "stream",
     "text": [
      "Epoch: 149, Train Loss: 1.0579841564006152, Train Acc: 0.9854621291160583\n"
     ]
    },
    {
     "name": "stderr",
     "output_type": "stream",
     "text": [
      "\r",
      "0it [00:00, ?it/s]"
     ]
    },
    {
     "name": "stdout",
     "output_type": "stream",
     "text": [
      "Epoch: 149, Val Loss: 1.1106621447226983, Val Acc: 0.9208633303642273\n"
     ]
    },
    {
     "name": "stderr",
     "output_type": "stream",
     "text": [
      "97it [00:20,  4.83it/s]\n"
     ]
    },
    {
     "name": "stdout",
     "output_type": "stream",
     "text": [
      "Epoch: 150, Train Loss: 1.0642909164369292, Train Acc: 0.9802700281143188\n"
     ]
    },
    {
     "name": "stderr",
     "output_type": "stream",
     "text": [
      "\r",
      "0it [00:00, ?it/s]"
     ]
    },
    {
     "name": "stdout",
     "output_type": "stream",
     "text": [
      "Epoch: 150, Val Loss: 1.1003700288937246, Val Acc: 0.9424460530281067\n"
     ]
    },
    {
     "name": "stderr",
     "output_type": "stream",
     "text": [
      "97it [00:19,  4.89it/s]\n"
     ]
    },
    {
     "name": "stdout",
     "output_type": "stream",
     "text": [
      "Epoch: 151, Train Loss: 1.0597468421466625, Train Acc: 0.9854621291160583\n"
     ]
    },
    {
     "name": "stderr",
     "output_type": "stream",
     "text": [
      "\r",
      "0it [00:00, ?it/s]"
     ]
    },
    {
     "name": "stdout",
     "output_type": "stream",
     "text": [
      "Epoch: 151, Val Loss: 1.0794244267100053, Val Acc: 0.9640287756919861\n"
     ]
    },
    {
     "name": "stderr",
     "output_type": "stream",
     "text": [
      "97it [00:19,  4.94it/s]\n"
     ]
    },
    {
     "name": "stdout",
     "output_type": "stream",
     "text": [
      "Epoch: 152, Train Loss: 1.0532470811564603, Train Acc: 0.9916926622390747\n"
     ]
    },
    {
     "name": "stderr",
     "output_type": "stream",
     "text": [
      "\r",
      "0it [00:00, ?it/s]"
     ]
    },
    {
     "name": "stdout",
     "output_type": "stream",
     "text": [
      "Epoch: 152, Val Loss: 1.0812136234996987, Val Acc: 0.9640287756919861\n"
     ]
    },
    {
     "name": "stderr",
     "output_type": "stream",
     "text": [
      "97it [00:19,  5.00it/s]\n"
     ]
    },
    {
     "name": "stdout",
     "output_type": "stream",
     "text": [
      "Epoch: 153, Train Loss: 1.0520738420209161, Train Acc: 0.9937695264816284\n"
     ]
    },
    {
     "name": "stderr",
     "output_type": "stream",
     "text": [
      "\r",
      "0it [00:00, ?it/s]"
     ]
    },
    {
     "name": "stdout",
     "output_type": "stream",
     "text": [
      "Epoch: 153, Val Loss: 1.0954173100080422, Val Acc: 0.9424460530281067\n"
     ]
    },
    {
     "name": "stderr",
     "output_type": "stream",
     "text": [
      "97it [00:19,  5.00it/s]\n"
     ]
    },
    {
     "name": "stdout",
     "output_type": "stream",
     "text": [
      "Epoch: 154, Train Loss: 1.0571862758753332, Train Acc: 0.9875389933586121\n"
     ]
    },
    {
     "name": "stderr",
     "output_type": "stream",
     "text": [
      "\r",
      "0it [00:00, ?it/s]"
     ]
    },
    {
     "name": "stdout",
     "output_type": "stream",
     "text": [
      "Epoch: 154, Val Loss: 1.0891509570663782, Val Acc: 0.9640287756919861\n"
     ]
    },
    {
     "name": "stderr",
     "output_type": "stream",
     "text": [
      "97it [00:19,  5.00it/s]\n"
     ]
    },
    {
     "name": "stdout",
     "output_type": "stream",
     "text": [
      "Epoch: 155, Train Loss: 1.0690568121051491, Train Acc: 0.9750779271125793\n"
     ]
    },
    {
     "name": "stderr",
     "output_type": "stream",
     "text": [
      "\r",
      "0it [00:00, ?it/s]"
     ]
    },
    {
     "name": "stdout",
     "output_type": "stream",
     "text": [
      "Epoch: 155, Val Loss: 1.088556534952397, Val Acc: 0.9568345546722412\n"
     ]
    },
    {
     "name": "stderr",
     "output_type": "stream",
     "text": [
      "97it [00:20,  4.79it/s]\n"
     ]
    },
    {
     "name": "stdout",
     "output_type": "stream",
     "text": [
      "Epoch: 156, Train Loss: 1.0638030001183785, Train Acc: 0.9813084602355957\n"
     ]
    },
    {
     "name": "stderr",
     "output_type": "stream",
     "text": [
      "\r",
      "0it [00:00, ?it/s]"
     ]
    },
    {
     "name": "stdout",
     "output_type": "stream",
     "text": [
      "Epoch: 156, Val Loss: 1.1037890533749148, Val Acc: 0.9424460530281067\n"
     ]
    },
    {
     "name": "stderr",
     "output_type": "stream",
     "text": [
      "97it [00:19,  4.93it/s]\n"
     ]
    },
    {
     "name": "stdout",
     "output_type": "stream",
     "text": [
      "Epoch: 157, Train Loss: 1.0526696459650375, Train Acc: 0.9937695264816284\n"
     ]
    },
    {
     "name": "stderr",
     "output_type": "stream",
     "text": [
      "\r",
      "0it [00:00, ?it/s]"
     ]
    },
    {
     "name": "stdout",
     "output_type": "stream",
     "text": [
      "Epoch: 157, Val Loss: 1.0818245462376437, Val Acc: 0.9640287756919861\n"
     ]
    },
    {
     "name": "stderr",
     "output_type": "stream",
     "text": [
      "97it [00:19,  4.91it/s]\n"
     ]
    },
    {
     "name": "stdout",
     "output_type": "stream",
     "text": [
      "Epoch: 158, Train Loss: 1.0564014220906195, Train Acc: 0.9875389933586121\n"
     ]
    },
    {
     "name": "stderr",
     "output_type": "stream",
     "text": [
      "\r",
      "0it [00:00, ?it/s]"
     ]
    },
    {
     "name": "stdout",
     "output_type": "stream",
     "text": [
      "Epoch: 158, Val Loss: 1.0910599300329633, Val Acc: 0.9568345546722412\n"
     ]
    },
    {
     "name": "stderr",
     "output_type": "stream",
     "text": [
      "97it [00:19,  4.99it/s]\n"
     ]
    },
    {
     "name": "stdout",
     "output_type": "stream",
     "text": [
      "Epoch: 159, Train Loss: 1.0677753414568005, Train Acc: 0.9750779271125793\n"
     ]
    },
    {
     "name": "stderr",
     "output_type": "stream",
     "text": [
      "\r",
      "0it [00:00, ?it/s]"
     ]
    },
    {
     "name": "stdout",
     "output_type": "stream",
     "text": [
      "Epoch: 159, Val Loss: 1.12074977030857, Val Acc: 0.9280575513839722\n"
     ]
    },
    {
     "name": "stderr",
     "output_type": "stream",
     "text": [
      "97it [00:19,  4.93it/s]\n"
     ]
    },
    {
     "name": "stdout",
     "output_type": "stream",
     "text": [
      "Epoch: 160, Train Loss: 1.0529221082154587, Train Acc: 0.9916926622390747\n",
      "Saved new best model.\n"
     ]
    },
    {
     "name": "stderr",
     "output_type": "stream",
     "text": [
      "\r",
      "0it [00:00, ?it/s]"
     ]
    },
    {
     "name": "stdout",
     "output_type": "stream",
     "text": [
      "Epoch: 160, Val Loss: 1.0833497313286762, Val Acc: 0.9784172773361206\n"
     ]
    },
    {
     "name": "stderr",
     "output_type": "stream",
     "text": [
      "97it [00:19,  4.98it/s]\n"
     ]
    },
    {
     "name": "stdout",
     "output_type": "stream",
     "text": [
      "Epoch: 161, Train Loss: 1.061658894409148, Train Acc: 0.9844236969947815\n"
     ]
    },
    {
     "name": "stderr",
     "output_type": "stream",
     "text": [
      "\r",
      "0it [00:00, ?it/s]"
     ]
    },
    {
     "name": "stdout",
     "output_type": "stream",
     "text": [
      "Epoch: 161, Val Loss: 1.0981806370851805, Val Acc: 0.9424460530281067\n"
     ]
    },
    {
     "name": "stderr",
     "output_type": "stream",
     "text": [
      "97it [00:19,  4.97it/s]\n"
     ]
    },
    {
     "name": "stdout",
     "output_type": "stream",
     "text": [
      "Epoch: 162, Train Loss: 1.0679513789164068, Train Acc: 0.9771547913551331\n"
     ]
    },
    {
     "name": "stderr",
     "output_type": "stream",
     "text": [
      "\r",
      "0it [00:00, ?it/s]"
     ]
    },
    {
     "name": "stdout",
     "output_type": "stream",
     "text": [
      "Epoch: 162, Val Loss: 1.0842016103456347, Val Acc: 0.9568345546722412\n"
     ]
    },
    {
     "name": "stderr",
     "output_type": "stream",
     "text": [
      "97it [00:19,  4.99it/s]\n"
     ]
    },
    {
     "name": "stdout",
     "output_type": "stream",
     "text": [
      "Epoch: 163, Train Loss: 1.058191527087369, Train Acc: 0.9865005612373352\n"
     ]
    },
    {
     "name": "stderr",
     "output_type": "stream",
     "text": [
      "\r",
      "0it [00:00, ?it/s]"
     ]
    },
    {
     "name": "stdout",
     "output_type": "stream",
     "text": [
      "Epoch: 163, Val Loss: 1.0994383980044358, Val Acc: 0.9352518320083618\n"
     ]
    },
    {
     "name": "stderr",
     "output_type": "stream",
     "text": [
      "97it [00:19,  5.00it/s]\n"
     ]
    },
    {
     "name": "stdout",
     "output_type": "stream",
     "text": [
      "Epoch: 164, Train Loss: 1.0608765503327795, Train Acc: 0.9823468923568726\n"
     ]
    },
    {
     "name": "stderr",
     "output_type": "stream",
     "text": [
      "\r",
      "0it [00:00, ?it/s]"
     ]
    },
    {
     "name": "stdout",
     "output_type": "stream",
     "text": [
      "Epoch: 164, Val Loss: 1.0989654587327147, Val Acc: 0.9496403336524963\n"
     ]
    },
    {
     "name": "stderr",
     "output_type": "stream",
     "text": [
      "97it [00:19,  5.03it/s]\n"
     ]
    },
    {
     "name": "stdout",
     "output_type": "stream",
     "text": [
      "Epoch: 165, Train Loss: 1.0532015949518634, Train Acc: 0.9927310943603516\n"
     ]
    },
    {
     "name": "stderr",
     "output_type": "stream",
     "text": [
      "\r",
      "0it [00:00, ?it/s]"
     ]
    },
    {
     "name": "stdout",
     "output_type": "stream",
     "text": [
      "Epoch: 165, Val Loss: 1.1037386750145781, Val Acc: 0.9424460530281067\n"
     ]
    },
    {
     "name": "stderr",
     "output_type": "stream",
     "text": [
      "97it [00:19,  5.02it/s]\n"
     ]
    },
    {
     "name": "stdout",
     "output_type": "stream",
     "text": [
      "Epoch: 166, Train Loss: 1.0622127115540787, Train Acc: 0.9823468923568726\n"
     ]
    },
    {
     "name": "stderr",
     "output_type": "stream",
     "text": [
      "\r",
      "0it [00:00, ?it/s]"
     ]
    },
    {
     "name": "stdout",
     "output_type": "stream",
     "text": [
      "Epoch: 166, Val Loss: 1.1007603183924723, Val Acc: 0.9424460530281067\n"
     ]
    },
    {
     "name": "stderr",
     "output_type": "stream",
     "text": [
      "97it [00:19,  5.03it/s]\n"
     ]
    },
    {
     "name": "stdout",
     "output_type": "stream",
     "text": [
      "Epoch: 167, Train Loss: 1.053606891681596, Train Acc: 0.9906542301177979\n"
     ]
    },
    {
     "name": "stderr",
     "output_type": "stream",
     "text": [
      "\r",
      "0it [00:00, ?it/s]"
     ]
    },
    {
     "name": "stdout",
     "output_type": "stream",
     "text": [
      "Epoch: 167, Val Loss: 1.097529443047887, Val Acc: 0.9424460530281067\n"
     ]
    },
    {
     "name": "stderr",
     "output_type": "stream",
     "text": [
      "97it [00:19,  5.02it/s]\n"
     ]
    },
    {
     "name": "stdout",
     "output_type": "stream",
     "text": [
      "Epoch: 168, Train Loss: 1.0596191319844928, Train Acc: 0.9854621291160583\n"
     ]
    },
    {
     "name": "stderr",
     "output_type": "stream",
     "text": [
      "\r",
      "0it [00:00, ?it/s]"
     ]
    },
    {
     "name": "stdout",
     "output_type": "stream",
     "text": [
      "Epoch: 168, Val Loss: 1.1111247976906866, Val Acc: 0.9424460530281067\n"
     ]
    },
    {
     "name": "stderr",
     "output_type": "stream",
     "text": [
      "97it [00:19,  4.97it/s]\n"
     ]
    },
    {
     "name": "stdout",
     "output_type": "stream",
     "text": [
      "Epoch: 169, Train Loss: 1.0705035585728266, Train Acc: 0.9750779271125793\n"
     ]
    },
    {
     "name": "stderr",
     "output_type": "stream",
     "text": [
      "\r",
      "0it [00:00, ?it/s]"
     ]
    },
    {
     "name": "stdout",
     "output_type": "stream",
     "text": [
      "Epoch: 169, Val Loss: 1.0940873271269764, Val Acc: 0.9568345546722412\n"
     ]
    },
    {
     "name": "stderr",
     "output_type": "stream",
     "text": [
      "97it [00:19,  5.02it/s]\n"
     ]
    },
    {
     "name": "stdout",
     "output_type": "stream",
     "text": [
      "Epoch: 170, Train Loss: 1.0581041418503379, Train Acc: 0.9865005612373352\n"
     ]
    },
    {
     "name": "stderr",
     "output_type": "stream",
     "text": [
      "\r",
      "0it [00:00, ?it/s]"
     ]
    },
    {
     "name": "stdout",
     "output_type": "stream",
     "text": [
      "Epoch: 170, Val Loss: 1.0699613660359555, Val Acc: 0.9784172773361206\n"
     ]
    },
    {
     "name": "stderr",
     "output_type": "stream",
     "text": [
      "97it [00:19,  5.03it/s]\n"
     ]
    },
    {
     "name": "stdout",
     "output_type": "stream",
     "text": [
      "Epoch: 171, Train Loss: 1.0686807086534589, Train Acc: 0.9740394949913025\n"
     ]
    },
    {
     "name": "stderr",
     "output_type": "stream",
     "text": [
      "\r",
      "0it [00:00, ?it/s]"
     ]
    },
    {
     "name": "stdout",
     "output_type": "stream",
     "text": [
      "Epoch: 171, Val Loss: 1.1058643618933588, Val Acc: 0.9424460530281067\n"
     ]
    },
    {
     "name": "stderr",
     "output_type": "stream",
     "text": [
      "97it [00:19,  5.02it/s]\n"
     ]
    },
    {
     "name": "stdout",
     "output_type": "stream",
     "text": [
      "Epoch: 172, Train Loss: 1.0630166093632192, Train Acc: 0.9823468923568726\n"
     ]
    },
    {
     "name": "stderr",
     "output_type": "stream",
     "text": [
      "\r",
      "0it [00:00, ?it/s]"
     ]
    },
    {
     "name": "stdout",
     "output_type": "stream",
     "text": [
      "Epoch: 172, Val Loss: 1.0862373825457456, Val Acc: 0.9568345546722412\n"
     ]
    },
    {
     "name": "stderr",
     "output_type": "stream",
     "text": [
      "97it [00:19,  5.01it/s]\n"
     ]
    },
    {
     "name": "stdout",
     "output_type": "stream",
     "text": [
      "Epoch: 173, Train Loss: 1.0577657720381597, Train Acc: 0.9865005612373352\n"
     ]
    },
    {
     "name": "stderr",
     "output_type": "stream",
     "text": [
      "\r",
      "0it [00:00, ?it/s]"
     ]
    },
    {
     "name": "stdout",
     "output_type": "stream",
     "text": [
      "Epoch: 173, Val Loss: 1.1045916234846596, Val Acc: 0.9424460530281067\n"
     ]
    },
    {
     "name": "stderr",
     "output_type": "stream",
     "text": [
      "97it [00:19,  5.02it/s]\n"
     ]
    },
    {
     "name": "stdout",
     "output_type": "stream",
     "text": [
      "Epoch: 174, Train Loss: 1.0593851913668038, Train Acc: 0.9875389933586121\n"
     ]
    },
    {
     "name": "stderr",
     "output_type": "stream",
     "text": [
      "\r",
      "0it [00:00, ?it/s]"
     ]
    },
    {
     "name": "stdout",
     "output_type": "stream",
     "text": [
      "Epoch: 174, Val Loss: 1.0897132870104673, Val Acc: 0.9568345546722412\n"
     ]
    },
    {
     "name": "stderr",
     "output_type": "stream",
     "text": [
      "97it [00:19,  4.96it/s]\n"
     ]
    },
    {
     "name": "stdout",
     "output_type": "stream",
     "text": [
      "Epoch: 175, Train Loss: 1.057553139183504, Train Acc: 0.9854621291160583\n"
     ]
    },
    {
     "name": "stderr",
     "output_type": "stream",
     "text": [
      "\r",
      "0it [00:00, ?it/s]"
     ]
    },
    {
     "name": "stdout",
     "output_type": "stream",
     "text": [
      "Epoch: 175, Val Loss: 1.0793934760333823, Val Acc: 0.9712230563163757\n"
     ]
    },
    {
     "name": "stderr",
     "output_type": "stream",
     "text": [
      "97it [00:19,  5.02it/s]\n"
     ]
    },
    {
     "name": "stdout",
     "output_type": "stream",
     "text": [
      "Epoch: 176, Train Loss: 1.0533996799405614, Train Acc: 0.9927310943603516\n"
     ]
    },
    {
     "name": "stderr",
     "output_type": "stream",
     "text": [
      "\r",
      "0it [00:00, ?it/s]"
     ]
    },
    {
     "name": "stdout",
     "output_type": "stream",
     "text": [
      "Epoch: 176, Val Loss: 1.1007905924062935, Val Acc: 0.9352518320083618\n"
     ]
    },
    {
     "name": "stderr",
     "output_type": "stream",
     "text": [
      "97it [00:19,  5.02it/s]\n"
     ]
    },
    {
     "name": "stdout",
     "output_type": "stream",
     "text": [
      "Epoch: 177, Train Loss: 1.0613600828937282, Train Acc: 0.9813084602355957\n"
     ]
    },
    {
     "name": "stderr",
     "output_type": "stream",
     "text": [
      "\r",
      "0it [00:00, ?it/s]"
     ]
    },
    {
     "name": "stdout",
     "output_type": "stream",
     "text": [
      "Epoch: 177, Val Loss: 1.1046844832331157, Val Acc: 0.9352518320083618\n"
     ]
    },
    {
     "name": "stderr",
     "output_type": "stream",
     "text": [
      "97it [00:19,  5.02it/s]\n"
     ]
    },
    {
     "name": "stdout",
     "output_type": "stream",
     "text": [
      "Epoch: 178, Train Loss: 1.0523668447139973, Train Acc: 0.9927310943603516\n"
     ]
    },
    {
     "name": "stderr",
     "output_type": "stream",
     "text": [
      "\r",
      "0it [00:00, ?it/s]"
     ]
    },
    {
     "name": "stdout",
     "output_type": "stream",
     "text": [
      "Epoch: 178, Val Loss: 1.1016368642985392, Val Acc: 0.9496403336524963\n"
     ]
    },
    {
     "name": "stderr",
     "output_type": "stream",
     "text": [
      "97it [00:19,  5.02it/s]\n"
     ]
    },
    {
     "name": "stdout",
     "output_type": "stream",
     "text": [
      "Epoch: 179, Train Loss: 1.0515061681268123, Train Acc: 0.9927310943603516\n"
     ]
    },
    {
     "name": "stderr",
     "output_type": "stream",
     "text": [
      "\r",
      "0it [00:00, ?it/s]"
     ]
    },
    {
     "name": "stdout",
     "output_type": "stream",
     "text": [
      "Epoch: 179, Val Loss: 1.077219944206073, Val Acc: 0.9640287756919861\n"
     ]
    },
    {
     "name": "stderr",
     "output_type": "stream",
     "text": [
      "97it [00:19,  5.02it/s]\n"
     ]
    },
    {
     "name": "stdout",
     "output_type": "stream",
     "text": [
      "Epoch: 180, Train Loss: 1.059749373146802, Train Acc: 0.9865005612373352\n"
     ]
    },
    {
     "name": "stderr",
     "output_type": "stream",
     "text": [
      "\r",
      "0it [00:00, ?it/s]"
     ]
    },
    {
     "name": "stdout",
     "output_type": "stream",
     "text": [
      "Epoch: 180, Val Loss: 1.0741034746170044, Val Acc: 0.9712230563163757\n"
     ]
    },
    {
     "name": "stderr",
     "output_type": "stream",
     "text": [
      "97it [00:19,  4.98it/s]\n"
     ]
    },
    {
     "name": "stdout",
     "output_type": "stream",
     "text": [
      "Epoch: 181, Train Loss: 1.0614955719881465, Train Acc: 0.9854621291160583\n"
     ]
    },
    {
     "name": "stderr",
     "output_type": "stream",
     "text": [
      "\r",
      "0it [00:00, ?it/s]"
     ]
    },
    {
     "name": "stdout",
     "output_type": "stream",
     "text": [
      "Epoch: 181, Val Loss: 1.1001799955642482, Val Acc: 0.9496403336524963\n"
     ]
    },
    {
     "name": "stderr",
     "output_type": "stream",
     "text": [
      "97it [00:19,  5.03it/s]\n"
     ]
    },
    {
     "name": "stdout",
     "output_type": "stream",
     "text": [
      "Epoch: 182, Train Loss: 1.0503568826310978, Train Acc: 0.9937695264816284\n"
     ]
    },
    {
     "name": "stderr",
     "output_type": "stream",
     "text": [
      "\r",
      "0it [00:00, ?it/s]"
     ]
    },
    {
     "name": "stdout",
     "output_type": "stream",
     "text": [
      "Epoch: 182, Val Loss: 1.0925044035740037, Val Acc: 0.9496403336524963\n"
     ]
    },
    {
     "name": "stderr",
     "output_type": "stream",
     "text": [
      "97it [00:19,  5.03it/s]\n"
     ]
    },
    {
     "name": "stdout",
     "output_type": "stream",
     "text": [
      "Epoch: 183, Train Loss: 1.0515923139833587, Train Acc: 0.9927310943603516\n"
     ]
    },
    {
     "name": "stderr",
     "output_type": "stream",
     "text": [
      "\r",
      "0it [00:00, ?it/s]"
     ]
    },
    {
     "name": "stdout",
     "output_type": "stream",
     "text": [
      "Epoch: 183, Val Loss: 1.0946725075193446, Val Acc: 0.9496403336524963\n"
     ]
    },
    {
     "name": "stderr",
     "output_type": "stream",
     "text": [
      "97it [00:19,  5.03it/s]\n"
     ]
    },
    {
     "name": "stdout",
     "output_type": "stream",
     "text": [
      "Epoch: 184, Train Loss: 1.0497358220388584, Train Acc: 0.9958463311195374\n"
     ]
    },
    {
     "name": "stderr",
     "output_type": "stream",
     "text": [
      "\r",
      "0it [00:00, ?it/s]"
     ]
    },
    {
     "name": "stdout",
     "output_type": "stream",
     "text": [
      "Epoch: 184, Val Loss: 1.0784517483745548, Val Acc: 0.9640287756919861\n"
     ]
    },
    {
     "name": "stderr",
     "output_type": "stream",
     "text": [
      "97it [00:19,  5.03it/s]\n"
     ]
    },
    {
     "name": "stdout",
     "output_type": "stream",
     "text": [
      "Epoch: 185, Train Loss: 1.050528254216829, Train Acc: 0.9927310943603516\n"
     ]
    },
    {
     "name": "stderr",
     "output_type": "stream",
     "text": [
      "\r",
      "0it [00:00, ?it/s]"
     ]
    },
    {
     "name": "stdout",
     "output_type": "stream",
     "text": [
      "Epoch: 185, Val Loss: 1.084672123408146, Val Acc: 0.9496403336524963\n"
     ]
    },
    {
     "name": "stderr",
     "output_type": "stream",
     "text": [
      "97it [00:19,  5.01it/s]\n"
     ]
    },
    {
     "name": "stdout",
     "output_type": "stream",
     "text": [
      "Epoch: 186, Train Loss: 1.0551013861118448, Train Acc: 0.9885774254798889\n"
     ]
    },
    {
     "name": "stderr",
     "output_type": "stream",
     "text": [
      "\r",
      "0it [00:00, ?it/s]"
     ]
    },
    {
     "name": "stdout",
     "output_type": "stream",
     "text": [
      "Epoch: 186, Val Loss: 1.0744060029228815, Val Acc: 0.9712230563163757\n"
     ]
    },
    {
     "name": "stderr",
     "output_type": "stream",
     "text": [
      "97it [00:19,  4.98it/s]\n"
     ]
    },
    {
     "name": "stdout",
     "output_type": "stream",
     "text": [
      "Epoch: 187, Train Loss: 1.053181056664369, Train Acc: 0.9927310943603516\n"
     ]
    },
    {
     "name": "stderr",
     "output_type": "stream",
     "text": [
      "\r",
      "0it [00:00, ?it/s]"
     ]
    },
    {
     "name": "stdout",
     "output_type": "stream",
     "text": [
      "Epoch: 187, Val Loss: 1.075402332724427, Val Acc: 0.9784172773361206\n"
     ]
    },
    {
     "name": "stderr",
     "output_type": "stream",
     "text": [
      "97it [00:19,  5.02it/s]\n"
     ]
    },
    {
     "name": "stdout",
     "output_type": "stream",
     "text": [
      "Epoch: 188, Train Loss: 1.0521060170166714, Train Acc: 0.9948079586029053\n"
     ]
    },
    {
     "name": "stderr",
     "output_type": "stream",
     "text": [
      "\r",
      "0it [00:00, ?it/s]"
     ]
    },
    {
     "name": "stdout",
     "output_type": "stream",
     "text": [
      "Epoch: 188, Val Loss: 1.099761849684681, Val Acc: 0.9496403336524963\n"
     ]
    },
    {
     "name": "stderr",
     "output_type": "stream",
     "text": [
      "97it [00:19,  4.99it/s]\n"
     ]
    },
    {
     "name": "stdout",
     "output_type": "stream",
     "text": [
      "Epoch: 189, Train Loss: 1.0538994076343589, Train Acc: 0.9916926622390747\n"
     ]
    },
    {
     "name": "stderr",
     "output_type": "stream",
     "text": [
      "\r",
      "0it [00:00, ?it/s]"
     ]
    },
    {
     "name": "stdout",
     "output_type": "stream",
     "text": [
      "Epoch: 189, Val Loss: 1.0873516695104914, Val Acc: 0.9640287756919861\n"
     ]
    },
    {
     "name": "stderr",
     "output_type": "stream",
     "text": [
      "97it [00:19,  5.01it/s]\n"
     ]
    },
    {
     "name": "stdout",
     "output_type": "stream",
     "text": [
      "Epoch: 190, Train Loss: 1.0518665800213443, Train Acc: 0.9927310943603516\n"
     ]
    },
    {
     "name": "stderr",
     "output_type": "stream",
     "text": [
      "\r",
      "0it [00:00, ?it/s]"
     ]
    },
    {
     "name": "stdout",
     "output_type": "stream",
     "text": [
      "Epoch: 190, Val Loss: 1.0842909932994156, Val Acc: 0.9640287756919861\n"
     ]
    },
    {
     "name": "stderr",
     "output_type": "stream",
     "text": [
      "97it [00:19,  5.02it/s]\n"
     ]
    },
    {
     "name": "stdout",
     "output_type": "stream",
     "text": [
      "Epoch: 191, Train Loss: 1.0556515858799744, Train Acc: 0.9906542301177979\n"
     ]
    },
    {
     "name": "stderr",
     "output_type": "stream",
     "text": [
      "\r",
      "0it [00:00, ?it/s]"
     ]
    },
    {
     "name": "stdout",
     "output_type": "stream",
     "text": [
      "Epoch: 191, Val Loss: 1.0897183452578758, Val Acc: 0.9568345546722412\n"
     ]
    },
    {
     "name": "stderr",
     "output_type": "stream",
     "text": [
      "97it [00:19,  4.98it/s]\n"
     ]
    },
    {
     "name": "stdout",
     "output_type": "stream",
     "text": [
      "Epoch: 192, Train Loss: 1.049250419885075, Train Acc: 0.9948079586029053\n"
     ]
    },
    {
     "name": "stderr",
     "output_type": "stream",
     "text": [
      "\r",
      "0it [00:00, ?it/s]"
     ]
    },
    {
     "name": "stdout",
     "output_type": "stream",
     "text": [
      "Epoch: 192, Val Loss: 1.0930802616284048, Val Acc: 0.9424460530281067\n"
     ]
    },
    {
     "name": "stderr",
     "output_type": "stream",
     "text": [
      "97it [00:19,  5.00it/s]\n"
     ]
    },
    {
     "name": "stdout",
     "output_type": "stream",
     "text": [
      "Epoch: 193, Train Loss: 1.0503803319525, Train Acc: 0.9937695264816284\n"
     ]
    },
    {
     "name": "stderr",
     "output_type": "stream",
     "text": [
      "\r",
      "0it [00:00, ?it/s]"
     ]
    },
    {
     "name": "stdout",
     "output_type": "stream",
     "text": [
      "Epoch: 193, Val Loss: 1.0848072218380387, Val Acc: 0.9496403336524963\n"
     ]
    },
    {
     "name": "stderr",
     "output_type": "stream",
     "text": [
      "97it [00:19,  5.03it/s]\n"
     ]
    },
    {
     "name": "stdout",
     "output_type": "stream",
     "text": [
      "Epoch: 194, Train Loss: 1.099970031007428, Train Acc: 0.9449636936187744\n"
     ]
    },
    {
     "name": "stderr",
     "output_type": "stream",
     "text": [
      "\r",
      "0it [00:00, ?it/s]"
     ]
    },
    {
     "name": "stdout",
     "output_type": "stream",
     "text": [
      "Epoch: 194, Val Loss: 1.095526585476004, Val Acc: 0.9568345546722412\n"
     ]
    },
    {
     "name": "stderr",
     "output_type": "stream",
     "text": [
      "97it [00:19,  4.96it/s]\n"
     ]
    },
    {
     "name": "stdout",
     "output_type": "stream",
     "text": [
      "Epoch: 195, Train Loss: 1.053708088360843, Train Acc: 0.9906542301177979\n"
     ]
    },
    {
     "name": "stderr",
     "output_type": "stream",
     "text": [
      "\r",
      "0it [00:00, ?it/s]"
     ]
    },
    {
     "name": "stdout",
     "output_type": "stream",
     "text": [
      "Epoch: 195, Val Loss: 1.0938984738837043, Val Acc: 0.9496403336524963\n"
     ]
    },
    {
     "name": "stderr",
     "output_type": "stream",
     "text": [
      "97it [00:19,  4.96it/s]\n"
     ]
    },
    {
     "name": "stdout",
     "output_type": "stream",
     "text": [
      "Epoch: 196, Train Loss: 1.0597018304272232, Train Acc: 0.9865005612373352\n"
     ]
    },
    {
     "name": "stderr",
     "output_type": "stream",
     "text": [
      "\r",
      "0it [00:00, ?it/s]"
     ]
    },
    {
     "name": "stdout",
     "output_type": "stream",
     "text": [
      "Epoch: 196, Val Loss: 1.1140886390809532, Val Acc: 0.9352518320083618\n"
     ]
    },
    {
     "name": "stderr",
     "output_type": "stream",
     "text": [
      "97it [00:19,  5.00it/s]\n"
     ]
    },
    {
     "name": "stdout",
     "output_type": "stream",
     "text": [
      "Epoch: 197, Train Loss: 1.0510746786527545, Train Acc: 0.9948079586029053\n"
     ]
    },
    {
     "name": "stderr",
     "output_type": "stream",
     "text": [
      "\r",
      "0it [00:00, ?it/s]"
     ]
    },
    {
     "name": "stdout",
     "output_type": "stream",
     "text": [
      "Epoch: 197, Val Loss: 1.1211157308208, Val Acc: 0.9280575513839722\n"
     ]
    },
    {
     "name": "stderr",
     "output_type": "stream",
     "text": [
      "97it [00:19,  4.95it/s]\n"
     ]
    },
    {
     "name": "stdout",
     "output_type": "stream",
     "text": [
      "Epoch: 198, Train Loss: 1.0515998121610188, Train Acc: 0.9937695264816284\n"
     ]
    },
    {
     "name": "stderr",
     "output_type": "stream",
     "text": [
      "\r",
      "0it [00:00, ?it/s]"
     ]
    },
    {
     "name": "stdout",
     "output_type": "stream",
     "text": [
      "Epoch: 198, Val Loss: 1.102941943587159, Val Acc: 0.9352518320083618\n"
     ]
    },
    {
     "name": "stderr",
     "output_type": "stream",
     "text": [
      "97it [00:19,  4.87it/s]\n"
     ]
    },
    {
     "name": "stdout",
     "output_type": "stream",
     "text": [
      "Epoch: 199, Train Loss: 1.0523738052738543, Train Acc: 0.9927310943603516\n",
      "Epoch: 199, Val Loss: 1.116100987084478, Val Acc: 0.9208633303642273\n"
     ]
    }
   ],
   "source": [
    "# Initialize\n",
    "epoch_train_loss = []\n",
    "epoch_train_accuracy = []\n",
    "\n",
    "epoch_val_loss = []\n",
    "epoch_val_accuracy = []\n",
    "\n",
    "epoch_test_loss = []\n",
    "epoch_test_accuracy = []\n",
    "\n",
    "best_val_accuracy = 0\n",
    "\n",
    "for epic in range(num_epochs):\n",
    "    \n",
    "    # Put model in training mode\n",
    "    model.train()\n",
    "    \n",
    "    train_correct = 0\n",
    "    train_total = 0\n",
    "    train_loss = 0\n",
    "    \n",
    "    for i, sample in tqdm.tqdm(enumerate(TrainDataLoader)):\n",
    "        \n",
    "        # move inputs to device\n",
    "        if torch.cuda.is_available():\n",
    "            x = sample['img'].permute(0, 3, 1, 2).float().to(device)\n",
    "            y = sample['label'].to(device)\n",
    "        \n",
    "        # Loop over model, calculate loss\n",
    "        optimizer.zero_grad()\n",
    "        output = model.forward(x)\n",
    "        loss = loss_metric(output, y)\n",
    "        loss.backward()\n",
    "        optimizer.step()\n",
    "        \n",
    "        # Calculate accuracy/loss\n",
    "        _, y_hat = torch.max(output, dim=1)\n",
    "        \n",
    "        train_correct += torch.sum(y_hat == y)\n",
    "        train_total += x.shape[0]\n",
    "        train_loss += loss.item() * x.shape[0]\n",
    "        \n",
    "    # Append to epoch loss/accuracy\n",
    "    epoch_train_loss.append(train_loss / train_total)\n",
    "    epoch_train_accuracy.append(train_correct.float() / train_total)\n",
    "    \n",
    "    print(f'Epoch: {epic}, Train Loss: {epoch_train_loss[-1]}, Train Acc: {epoch_train_accuracy[-1]}')\n",
    "    \n",
    "    # Put model in validation mode\n",
    "    model.eval()\n",
    "    \n",
    "    val_total = 0\n",
    "    val_correct = 0\n",
    "    val_loss = 0\n",
    "    \n",
    "    with torch.no_grad():\n",
    "        for i, sample in enumerate(ValDataLoader):\n",
    "            \n",
    "            # move inputs to device\n",
    "            if torch.cuda.is_available():\n",
    "                x = sample['img'].permute(0, 3, 1, 2).float().to(device)\n",
    "                y = sample['label'].to(device)\n",
    "\n",
    "            output = model.forward(x)\n",
    "            loss = loss_metric(output, y)\n",
    "            \n",
    "            # Calculate accuracy/loss\n",
    "            _, y_hat = torch.max(output, dim=1)\n",
    "            batch_correct = torch.sum(y_hat == y)\n",
    "            val_correct += torch.sum(y_hat == y)\n",
    "            val_total += x.shape[0]\n",
    "            val_loss += loss.item() * x.shape[0]\n",
    "            \n",
    "    # Append to epoch loss/accuracy\n",
    "    epoch_val_loss.append(val_loss / val_total)\n",
    "    val_accuracy = val_correct.float() / val_total\n",
    "    epoch_val_accuracy.append(val_accuracy)\n",
    "    \n",
    "    if val_accuracy > best_val_accuracy:\n",
    "        print(\"Saved new best model.\")\n",
    "        best_val_accuracy = val_accuracy\n",
    "        torch.save(model.state_dict(), f'saved_models/{model_name}.pth')\n",
    "    \n",
    "    print(f'Epoch: {epic}, Val Loss: {epoch_val_loss[-1]}, Val Acc: {epoch_val_accuracy[-1]}')\n",
    "    \n",
    "    "
   ]
  },
  {
   "cell_type": "code",
   "execution_count": 11,
   "metadata": {},
   "outputs": [
    {
     "data": {
      "text/plain": [
       "<matplotlib.legend.Legend at 0x22a1658bbe0>"
      ]
     },
     "execution_count": 11,
     "metadata": {},
     "output_type": "execute_result"
    },
    {
     "data": {
      "image/png": "[encoded data removed]",
      "text/plain": [
       "<Figure size 432x288 with 1 Axes>"
      ]
     },
     "metadata": {
      "needs_background": "light"
     },
     "output_type": "display_data"
    },
    {
     "data": {
      "image/png": "[encoded data removed]",
      "text/plain": [
       "<Figure size 432x288 with 1 Axes>"
      ]
     },
     "metadata": {
      "needs_background": "light"
     },
     "output_type": "display_data"
    }
   ],
   "source": [
    "plt.figure(1)\n",
    "plt.plot(epoch_train_loss)\n",
    "plt.plot(epoch_val_loss)\n",
    "plt.title(\"Loss\")\n",
    "plt.legend((\"Train\", \"Val\"))\n",
    "\n",
    "plt.figure(2)\n",
    "plt.plot(epoch_train_accuracy)\n",
    "plt.plot(epoch_val_accuracy)\n",
    "plt.title(\"Accuracy\")\n",
    "plt.legend((\"Train\", \"Val\"))"
   ]
  },
  {
   "cell_type": "code",
   "execution_count": 12,
   "metadata": {
    "scrolled": true
   },
   "outputs": [
    {
     "data": {
      "text/plain": [
       "tensor(0.9784, device='cuda:0')"
      ]
     },
     "execution_count": 12,
     "metadata": {},
     "output_type": "execute_result"
    }
   ],
   "source": [
    "max(epoch_val_accuracy)"
   ]
  }
 ],
 "metadata": {
  "kernelspec": {
   "display_name": "Python 3",
   "language": "python",
   "name": "python3"
  },
  "language_info": {
   "codemirror_mode": {
    "name": "ipython",
    "version": 3
   },
   "file_extension": ".py",
   "mimetype": "text/x-python",
   "name": "python",
   "nbconvert_exporter": "python",
   "pygments_lexer": "ipython3",
   "version": "3.8.3"
  }
 },
 "nbformat": 4,
 "nbformat_minor": 4
}
