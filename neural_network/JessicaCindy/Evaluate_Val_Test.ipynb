{
 "cells": [
  {
   "cell_type": "code",
   "execution_count": 1,
   "metadata": {},
   "outputs": [],
   "source": [
    "import numpy as np\n",
    "import matplotlib.pyplot as plt\n",
    "import pickle\n",
    "import cv2\n",
    "import tqdm\n",
    "import glob\n",
    "import os\n",
    "import time\n",
    "\n",
    "import torch\n",
    "import torch.nn as nn\n",
    "from torch.utils.data import Dataset, DataLoader\n",
    "import pandas as pd"
   ]
  },
  {
   "cell_type": "code",
   "execution_count": 2,
   "metadata": {},
   "outputs": [],
   "source": [
    "with open('DataSplit.pickle', 'rb') as handle:\n",
    "    DataSplit = pickle.load(handle)"
   ]
  },
  {
   "cell_type": "code",
   "execution_count": 3,
   "metadata": {},
   "outputs": [],
   "source": [
    "class Senz3DDataset(Dataset):\n",
    "    def __init__(self, paths, labels):\n",
    "        self.paths = paths\n",
    "        self.labels = labels\n",
    "        self.GT_labels = {'1': 5, '2': 2, '3': 3, '4': 5, '5': 0, '6': 2, \n",
    "                          '7': 1, '8': 4, '9': 3, '10': 1, '11': 1}\n",
    "        \n",
    "    def __len__(self):\n",
    "        return len(self.paths)\n",
    "    \n",
    "    def __getitem__(self, idx):\n",
    "        img = cv2.imread(\"..\\\\.\" + self.paths[idx])\n",
    "        img = cv2.cvtColor(img, cv2.COLOR_BGR2RGB)\n",
    "        img = cv2.resize(img, (img.shape[1]//4, img.shape[0]//4)).astype(np.uint8)\n",
    "        \n",
    "        label = torch.tensor(self.GT_labels[(self.labels[idx])])\n",
    "        \n",
    "        return {'img': img, 'label': label}"
   ]
  },
  {
   "cell_type": "code",
   "execution_count": 4,
   "metadata": {},
   "outputs": [],
   "source": [
    "TestDataset = Senz3DDataset(list(DataSplit['test'].keys()), list(DataSplit['test'].values()))\n",
    "TestDataLoader = DataLoader(TestDataset, batch_size=1, shuffle=False)\n",
    "person = [path.split('\\\\')[3] for path in (TestDataset.paths)]\n",
    "gesture = [path.split('\\\\')[4] for path in (TestDataset.paths)]"
   ]
  },
  {
   "cell_type": "code",
   "execution_count": null,
   "metadata": {},
   "outputs": [],
   "source": [
    "def eval_test(test_loader, model, loss_fn, device):\n",
    "    test_total = 0\n",
    "    test_correct = 0\n",
    "    preds = [] \n",
    "    GT = []\n",
    "    model.eval()\n",
    "    with torch.no_grad():\n",
    "        for i, sample in enumerate(test_loader):\n",
    "\n",
    "            # move inputs to device\n",
    "            if torch.cuda.is_available():\n",
    "                x = sample['img'].permute(0, 3, 1, 2).float().to(device)\n",
    "                y = sample['label'].to(device)\n",
    "\n",
    "            output = model.forward(x)\n",
    "            \n",
    "            # Calculate accuracy/loss\n",
    "            _, y_hat = torch.max(output, dim=1)\n",
    "            preds.append(y_hat.cpu().data.numpy()[0])\n",
    "            GT.append(y_hat.cpu().data.numpy()[0])\n",
    "            \n",
    "            batch_correct = torch.sum(y_hat == y)\n",
    "            test_correct += batch_correct\n",
    "            test_total += x.shape[0]\n",
    "    test_acc = test_correct.float()/test_total\n",
    "    print(f'Test Acc: {test_acc}')\n",
    "    return test_acc, preds, GT"
   ]
  },
  {
   "cell_type": "code",
   "execution_count": null,
   "metadata": {},
   "outputs": [],
   "source": [
    "import torchvision.models as models\n",
    "model_name = 'resnext50'\n",
    "model = models.resnext50_32x4d()\n",
    "model.fc = nn.Sequential(\n",
    "    nn.Linear(in_features=2048, out_features=1024, bias=True),\n",
    "    nn.ReLU(),\n",
    "    nn.Linear(1024, 512),\n",
    "    nn.ReLU(),\n",
    "    nn.Linear(512, 64),\n",
    "    nn.ReLU(),\n",
    "    nn.Linear(64,6),\n",
    "    nn.Softmax(dim=1),    \n",
    "    )\n",
    "device = torch.device(\"cuda\" if torch.cuda.is_available() else \"cpu\")\n",
    "model.load_state_dict(torch.load(\"saved_models/\" + model_name + \".pth\"))\n",
    "model.to(device)\n",
    "model.eval()\n",
    "\n",
    "a = time.time()\n",
    "epoch_test_accuracy, resnext50_preds, resnext50_GT = eval_test(TestDataLoader, model, nn.CrossEntropyLoss(), device)\n",
    "print(\"Time elapsed for evaluating test set is: \", time.time() - a)"
   ]
  },
  {
   "cell_type": "code",
   "execution_count": null,
   "metadata": {},
   "outputs": [],
   "source": [
    "model_name = 'resnet152'\n",
    "model = models.resnet152()\n",
    "model.fc = nn.Sequential(\n",
    "    nn.Linear(in_features=2048, out_features=1024, bias=True),\n",
    "    nn.ReLU(),\n",
    "    nn.Linear(1024, 512),\n",
    "    nn.ReLU(),\n",
    "    nn.Linear(512, 64),\n",
    "    nn.ReLU(),\n",
    "    nn.Linear(64,6),\n",
    "    nn.Softmax(dim=1),    \n",
    "    )\n",
    "device = torch.device(\"cuda\" if torch.cuda.is_available() else \"cpu\")\n",
    "model.load_state_dict(torch.load(\"saved_models/\" + model_name + \".pth\"))\n",
    "model.to(device)\n",
    "model.eval()\n",
    "\n",
    "a = time.time()\n",
    "epoch_test_accuracy, resnet152_preds, resnet152_GT = eval_test(TestDataLoader, model, nn.CrossEntropyLoss(), device)\n",
    "print(\"Time elapsed for evaluating test set is: \", time.time() - a)"
   ]
  },
  {
   "cell_type": "code",
   "execution_count": null,
   "metadata": {},
   "outputs": [],
   "source": [
    "model_name = 'resnet18'\n",
    "model = models.resnet18()\n",
    "model.fc = nn.Sequential(\n",
    "    nn.Linear(in_features=512, out_features=1000, bias=True),\n",
    "    nn.ReLU(),\n",
    "    nn.Linear(1000, 500),\n",
    "    nn.ReLU(),\n",
    "    nn.Linear(500,50),\n",
    "    nn.ReLU(),\n",
    "    nn.Linear(50,6),\n",
    "    nn.Softmax(dim=1),    \n",
    "    )\n",
    "device = torch.device(\"cuda\" if torch.cuda.is_available() else \"cpu\")\n",
    "model.load_state_dict(torch.load(\"saved_models/\" + model_name + \".pth\"))\n",
    "model.to(device)\n",
    "model.eval()\n",
    "\n",
    "a = time.time()\n",
    "epoch_test_accuracy, resnet18_preds, resnet18_GT = eval_test(TestDataLoader, model, nn.CrossEntropyLoss(), device)\n",
    "print(\"Time elapsed for evaluating test set is: \", time.time() - a)"
   ]
  },
  {
   "cell_type": "code",
   "execution_count": null,
   "metadata": {},
   "outputs": [],
   "source": [
    "Test_Model_Outputs = {'Person (S#)': person, 'Gesture (G#)': gesture, \"GT Label\": resnet18_GT,\n",
    "                      'Resnet18': resnet18_preds , 'Resnet152': resnet152_preds,\n",
    "                      'Resnext50': resnext50_preds}"
   ]
  },
  {
   "cell_type": "markdown",
   "metadata": {},
   "source": [
    "## Do Validation"
   ]
  },
  {
   "cell_type": "code",
   "execution_count": null,
   "metadata": {},
   "outputs": [],
   "source": [
    "ValDataset = Senz3DDataset(list(DataSplit['val'].keys()), list(DataSplit['test'].values()))\n",
    "ValDataLoader = DataLoader(ValDataset, batch_size=1, shuffle=False)\n",
    "person = [path.split('\\\\')[3] for path in (ValDataset.paths)]\n",
    "gesture = [path.split('\\\\')[4] for path in (ValDataset.paths)]"
   ]
  },
  {
   "cell_type": "code",
   "execution_count": null,
   "metadata": {},
   "outputs": [],
   "source": [
    "model_name = 'resnext50'\n",
    "model = models.resnext50_32x4d()\n",
    "model.fc = nn.Sequential(\n",
    "    nn.Linear(in_features=2048, out_features=1024, bias=True),\n",
    "    nn.ReLU(),\n",
    "    nn.Linear(1024, 512),\n",
    "    nn.ReLU(),\n",
    "    nn.Linear(512, 64),\n",
    "    nn.ReLU(),\n",
    "    nn.Linear(64,6),\n",
    "    nn.Softmax(dim=1),    \n",
    "    )\n",
    "device = torch.device(\"cuda\" if torch.cuda.is_available() else \"cpu\")\n",
    "model.load_state_dict(torch.load(\"saved_models/\" + model_name + \".pth\"))\n",
    "model.to(device)\n",
    "model.eval()\n",
    "\n",
    "a = time.time()\n",
    "epoch_test_accuracy, resnext50_preds, resnext50_GT = eval_test(ValDataLoader, model, nn.CrossEntropyLoss(), device)\n",
    "print(\"Time elapsed for evaluating test set is: \", time.time() - a)\n",
    "\n",
    "import torchvision.models as models\n",
    "model_name = 'resnet152'\n",
    "model = models.resnet152()\n",
    "model.fc = nn.Sequential(\n",
    "    nn.Linear(in_features=2048, out_features=1024, bias=True),\n",
    "    nn.ReLU(),\n",
    "    nn.Linear(1024, 512),\n",
    "    nn.ReLU(),\n",
    "    nn.Linear(512, 64),\n",
    "    nn.ReLU(),\n",
    "    nn.Linear(64,6),\n",
    "    nn.Softmax(dim=1),    \n",
    "    )\n",
    "device = torch.device(\"cuda\" if torch.cuda.is_available() else \"cpu\")\n",
    "model.load_state_dict(torch.load(\"saved_models/\" + model_name + \".pth\"))\n",
    "model.to(device)\n",
    "model.eval()\n",
    "\n",
    "a = time.time()\n",
    "epoch_test_accuracy, resnet152_preds, resnet152_GT = eval_test(ValDataLoader, model, nn.CrossEntropyLoss(), device)\n",
    "print(\"Time elapsed for evaluating test set is: \", time.time() - a)\n",
    "\n",
    "model_name = 'resnet18'\n",
    "model = models.resnet18()\n",
    "model.fc = nn.Sequential(\n",
    "    nn.Linear(in_features=512, out_features=1000, bias=True),\n",
    "    nn.ReLU(),\n",
    "    nn.Linear(1000, 500),\n",
    "    nn.ReLU(),\n",
    "    nn.Linear(500,50),\n",
    "    nn.ReLU(),\n",
    "    nn.Linear(50,6),\n",
    "    nn.Softmax(dim=1),    \n",
    "    )\n",
    "device = torch.device(\"cuda\" if torch.cuda.is_available() else \"cpu\")\n",
    "model.load_state_dict(torch.load(\"saved_models/\" + model_name + \".pth\"))\n",
    "model.to(device)\n",
    "model.eval()\n",
    "\n",
    "a = time.time()\n",
    "epoch_test_accuracy, resnet18_preds, resnet18_GT = eval_test(ValDataLoader, model, nn.CrossEntropyLoss(), device)\n",
    "print(\"Time elapsed for evaluating test set is: \", time.time() - a)"
   ]
  },
  {
   "cell_type": "code",
   "execution_count": null,
   "metadata": {},
   "outputs": [],
   "source": [
    "Val_Model_Outputs = {'Person (S#)': person, 'Gesture (G#)': gesture, \"GT Label\": resnet18_GT,\n",
    "                     'Resnet18': resnet18_preds , 'Resnet152': resnet152_preds,\n",
    "                     'Resnext50': resnext50_preds}"
   ]
  },
  {
   "cell_type": "markdown",
   "metadata": {},
   "source": [
    "## Build Dictionary/Dataframe"
   ]
  },
  {
   "cell_type": "code",
   "execution_count": null,
   "metadata": {},
   "outputs": [],
   "source": [
    "with open('Val_Model_Outputs.pickle', 'wb') as handle:\n",
    "    pickle.dump(Val_Model_Outputs, handle, protocol=pickle.HIGHEST_PROTOCOL)\n",
    "with open('Test_Model_Outputs.pickle', 'wb') as handle:\n",
    "    pickle.dump(Test_Model_Outputs, handle, protocol=pickle.HIGHEST_PROTOCOL)"
   ]
  },
  {
   "cell_type": "code",
   "execution_count": null,
   "metadata": {},
   "outputs": [],
   "source": []
  }
 ],
 "metadata": {
  "kernelspec": {
   "display_name": "Python 3",
   "language": "python",
   "name": "python3"
  },
  "language_info": {
   "codemirror_mode": {
    "name": "ipython",
    "version": 3
   },
   "file_extension": ".py",
   "mimetype": "text/x-python",
   "name": "python",
   "nbconvert_exporter": "python",
   "pygments_lexer": "ipython3",
   "version": "3.8.3"
  }
 },
 "nbformat": 4,
 "nbformat_minor": 4
}
